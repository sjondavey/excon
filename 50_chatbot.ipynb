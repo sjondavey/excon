{
 "cells": [
  {
   "cell_type": "code",
   "execution_count": 1,
   "metadata": {},
   "outputs": [],
   "source": [
    "import importlib\n",
    "import src.chat_bot\n",
    "importlib.reload(src.chat_bot)\n",
    "from src.chat_bot import ExconManual"
   ]
  },
  {
   "cell_type": "code",
   "execution_count": 2,
   "metadata": {},
   "outputs": [],
   "source": [
    "excon = ExconManual(\"\")"
   ]
  },
  {
   "cell_type": "code",
   "execution_count": null,
   "metadata": {},
   "outputs": [],
   "source": [
    "model_to_use=\"gpt-3.5-turbo\"\n",
    "#model_to_use=\"gpt-4\"\n",
    "#model_to_use=\"gpt-3.5-turbo-16k\""
   ]
  },
  {
   "cell_type": "code",
   "execution_count": 16,
   "metadata": {},
   "outputs": [
    {
     "name": "stderr",
     "output_type": "stream",
     "text": [
      "INFO:src.chat_bot:Entering RAG with query: pensions\n",
      "INFO:src.chat_bot:#################   Similarity Search       #################\n",
      "INFO:src.chat_bot:--   No relevant definitions found\n",
      "INFO:src.chat_bot:--   Relevant Sections\n",
      "INFO:src.chat_bot:0.1053:              B.10(J):         heading: Insurance and pensions. Pension and provident schemes\n",
      "INFO:src.chat_bot:0.1138:              B.10(A):         heading: Insurance and pensions. Introduction\n",
      "INFO:src.chat_bot:0.1231:              B.10(B):         heading: Insurance and pensions. Glossary of terms\n",
      "INFO:src.chat_bot:0.1265:              B.10(H):         heading: Insurance and pensions. Long-term insurance by residents\n",
      "INFO:src.chat_bot:0.1346:              B.10(E):         heading: Insurance and pensions. Short-term insurance by residents\n",
      "INFO:src.chat_bot:0.1390:          B.10(D)(ii):         heading: Insurance and pensions. General. Branch settlements\n",
      "INFO:src.chat_bot:0.1393:              B.10(I):         heading: Insurance and pensions. Long-term insurance by non-residents\n",
      "INFO:src.chat_bot:0.1412:              B.10(K):         heading: Insurance and pensions. Nominated branches\n",
      "INFO:src.chat_bot:0.1427:              B.10(G):         heading: Insurance and pensions. Foreign currency payment of premiums in respect of the reinsurance of long-term insurance risks\n",
      "INFO:src.chat_bot:0.1456:           B.10(D)(i):         heading: Insurance and pensions. General. Insurance Acts\n",
      "INFO:src.chat_bot:Top result: B.10(J) with a cosine distance of 0.1053\n",
      "INFO:src.chat_bot:No unique mode\n",
      "INFO:src.chat_bot:Only the top result added but more were found. Adding the next most likely answer\n",
      "INFO:src.chat_bot:--   Filtered Sections\n",
      "INFO:src.chat_bot:0.1053            :              B.10(J):  1\n",
      "INFO:src.chat_bot:0.1138            :              B.10(A):  1\n",
      "INFO:src.chat_bot:0.1231            :              B.10(B):  1\n",
      "INFO:src.chat_bot:#################   RAG       #################\n",
      "INFO:src.chat_bot:\n",
      "You are attempting to answer questions from an Authorised Dealer based only on the relevant documentation provided. You have only three options:\n",
      "1) Answer the question. If you do this, your must preface to response with the word 'ANSWER:'. If possible also provide a reference to the relevant documentation for the user to cross-check. Use this if you are sure about your answer.\n",
      "2) Request additional documentation. If, in the body of the relevant documentation, is a reference to another section of the document that is directly relevant, respond with the word 'SECTION:' followed by the section reference which looks like A.1(A)(i)(aa). \n",
      "3) State 'NONE:' (and nothing else) in all cases where you are not confident about either of the first two options\n",
      "Potentially relevant document section(s):\n",
      "B.10 Insurance and pensions  \n",
      "    (J) Pension and provident schemes  \n",
      "        (i) Retention of contributions in foreign currency  \n",
      "            (a) Where registered South African pension or provident schemes include non-resident members, the prior written approval of the Financial Surveillance Department must be obtained for the retention of foreign currency contributions to cover the scheme's foreign currency liabilities.  \n",
      "            (b) All schemes referred to in (a) above that have been authorised to retain contributions in foreign currency (see CFC accounts referred to in subsection (D)(iii) above) must submit a statement to the Financial Surveillance Department by 31 March each year, giving particulars of their foreign currency balances and foreign currency liabilities as at 31 December of the previous year.  \n",
      "        (ii) Pension commutations  \n",
      "            (a) Foreign nationals  \n",
      "                (aa) Authorised Dealers may approve the transfer of lump sum commutations as well as monthly pensions abroad, provided that they are satisfied that the provisions of section B.5(A) of the Authorised Dealer Manual have been complied with.  \n",
      "            (b) Mine labourers  \n",
      "                (aa) In the case of mine labourers who are returning or who have already returned permanently to countries outside the CMA, Authorised Dealers may approve the transfer abroad of lump sum commutations as well as monthly pensions.  \n",
      "            (c) Death benefits  \n",
      "                (aa) Proceeds from registered South African pension and provident schemes as well as insurance policies (annuity, endowment and life) due to non-residents who are nominated beneficiaries upon the demise of the policy holder may be transferred abroad on presentation of a Death Certificate as well as documentary evidence from the institution concerned reflecting the full names of the beneficiary and the amount due to the beneficiary.  \n",
      "            (d) Non-residents  \n",
      "                (aa) In the case of non-residents, including non-resident employees of South African entities who contributed to a South African pension or provident scheme by transferring funds to South Africa, Authorised Dealers may approve the transfer abroad of lump sum commutations, as well as monthly pensions.  \n",
      "            (e) Individuals who ceased to be residents for tax purposes in South Africa  \n",
      "                (aa) Requests by individuals who ceased to be residents for tax purposes in South Africa on or after 2021-03-01 to withdraw from their pension preservation, provident preservation and retirement annuity funds shall only be considered by SARS where the person concerned has been non-tax resident for at least three consecutive years.  \n",
      "                (bb) In respect of the aforementioned, the provisions of section B.2(B)(J) must be adhered to.  \n",
      "                (cc) Authorised Dealers may allow the transfer of monthly pension and/or annuity payments paid by registered funds only. In this regard, Authorised Dealers must require a TCS of good standing at least once a year, which must be verified by the Authorised Dealers to confirm that the taxpayer is tax compliant.  \n",
      "        (iii) Bonuses and surplus pension distributions  \n",
      "            (a) Non-residents and foreign nationals  \n",
      "                (aa) Authorised Dealers may approve the transfer abroad of bonuses and/or surplus pension distributions paid by registered pension funds.\n",
      "B.10 Insurance and pensions  \n",
      "    (A) Introduction  \n",
      "        (i) Only those branches of the Authorised Dealers referred to in subsection (K) below may effect payments in foreign currency in terms of this section of the Authorised Dealer Manual.  \n",
      "        (ii) As a general approach residents are not allowed to enter into any insurance contracts with foreign insurance companies.  \n",
      "        (iii) However, in view of the limited scope and extent of cover that is available in the South African insurance market, persons, local insurance companies, intermediaries or brokers and Lloyd's correspondents are in certain instances allowed to place the risks with foreign insurance companies and with Lloyd's of London.  \n",
      "        (iv) The Long-term Insurance Act No. 52 of 1998 and the Short-term Insurance Act No. 53 of 1998, respectively, prohibit a person to induce or attempt to induce a person to enter into a contract of insurance with a person who is not registered as an insurer under these Acts. A foreign insurer or an intermediary (local or foreign) is therefore not allowed to market or sell a foreign insurer's product in South Africa unless registered as an insurer or reinsurer under these Acts.  \n",
      "        (v) Authorised Dealers may approve applications by resident entities or individuals to make payments in the prescribed manner to non-resident parties in respect of insurance premiums in terms of the provisions set out in the subsections below.\n",
      "B.10 Insurance and pensions  \n",
      "    (B) Glossary of terms\n",
      "WARNING:src.chat_bot:Initial call did not create a response in the correct format. Retrying\n",
      "WARNING:src.chat_bot:The response was:\n",
      "WARNING:src.chat_bot:The provided document outlines several rules and regulations related to pensions. \n",
      "\n",
      "1) For registered South African pension or provident schemes that include non-resident members, the prior written approval of the Financial Surveillance Department must be obtained for the retention of foreign currency contributions to cover the scheme's foreign currency liabilities (B.10(J)(i)(a)).\n",
      "\n",
      "2) Authorised Dealers may approve the transfer of lump sum commutations as well as monthly pensions abroad for foreign nationals, mine labourers, and non-residents, provided certain conditions are met (B.10(J)(ii)(a)(aa), (b)(aa), (d)(aa)).\n",
      "\n",
      "3) Requests by individuals who ceased to be residents for tax purposes in South Africa to withdraw from their pension preservation, provident preservation and retirement annuity funds shall only be considered by SARS where the person concerned has been non-tax resident for at least three consecutive years (B.10(J)(ii)(e)(aa)).\n",
      "\n",
      "4) Authorised Dealers may approve the transfer abroad of bonuses and/or surplus pension distributions paid by registered pension funds for non-residents and foreign nationals (B.10(J)(iii)(a)(aa)).\n",
      "\n",
      "Please refer to the specific sections for more detailed information.\n",
      "INFO:src.chat_bot:Question asked. Request for more info\n"
     ]
    },
    {
     "ename": "NameError",
     "evalue": "name 'modified_section_to_add' is not defined",
     "output_type": "error",
     "traceback": [
      "\u001b[1;31m---------------------------------------------------------------------------\u001b[0m",
      "\u001b[1;31mNameError\u001b[0m                                 Traceback (most recent call last)",
      "Cell \u001b[1;32mIn[16], line 37\u001b[0m\n\u001b[0;32m      1\u001b[0m \u001b[38;5;66;03m#user_context = \"What is a CFC Account?\"\u001b[39;00m\n\u001b[0;32m      2\u001b[0m \u001b[38;5;66;03m#user_context = \"I am submitting documentation to the financial surveillance department. What information do I need to include in my submission?\" # (A.3 (B))\u001b[39;00m\n\u001b[0;32m      3\u001b[0m \u001b[38;5;66;03m#user_context = \"Can a bank provide foreign currency denominated facilities to a South African Corporate?\" #  (A.3 (B))\u001b[39;00m\n\u001b[1;32m   (...)\u001b[0m\n\u001b[0;32m     32\u001b[0m \u001b[38;5;66;03m#user_context = \"are there specific exchange control rules for religious organizations?\"\u001b[39;00m\n\u001b[0;32m     33\u001b[0m \u001b[38;5;66;03m#user_context = \"How much foreign currency can a charity take offshore each year?\"\u001b[39;00m\n\u001b[0;32m     35\u001b[0m user_context \u001b[38;5;241m=\u001b[39m \u001b[38;5;124m\"\u001b[39m\u001b[38;5;124mpensions\u001b[39m\u001b[38;5;124m\"\u001b[39m\n\u001b[1;32m---> 37\u001b[0m \u001b[43mexcon\u001b[49m\u001b[38;5;241;43m.\u001b[39;49m\u001b[43muser_provides_input\u001b[49m\u001b[43m(\u001b[49m\u001b[43muser_context\u001b[49m\u001b[43m,\u001b[49m\u001b[43m \u001b[49m\u001b[43mthreshold\u001b[49m\u001b[38;5;241;43m=\u001b[39;49m\u001b[38;5;241;43m0.15\u001b[39;49m\u001b[43m,\u001b[49m\u001b[43m \u001b[49m\u001b[43mmodel_to_use\u001b[49m\u001b[38;5;241;43m=\u001b[39;49m\u001b[43mmodel_to_use\u001b[49m\u001b[43m,\u001b[49m\u001b[43m \u001b[49m\u001b[43mtemperature\u001b[49m\u001b[38;5;241;43m=\u001b[39;49m\u001b[38;5;241;43m0\u001b[39;49m\u001b[43m,\u001b[49m\u001b[43m \u001b[49m\u001b[43mmax_tokens\u001b[49m\u001b[38;5;241;43m=\u001b[39;49m\u001b[38;5;241;43m300\u001b[39;49m\u001b[43m)\u001b[49m\n\u001b[0;32m     39\u001b[0m \u001b[38;5;28mprint\u001b[39m(\u001b[38;5;124mf\u001b[39m\u001b[38;5;124m'\u001b[39m\u001b[38;5;132;01m{\u001b[39;00mexcon\u001b[38;5;241m.\u001b[39mmessages[\u001b[38;5;241m-\u001b[39m\u001b[38;5;241m1\u001b[39m][\u001b[38;5;124m\"\u001b[39m\u001b[38;5;124mrole\u001b[39m\u001b[38;5;124m\"\u001b[39m]\u001b[38;5;132;01m}\u001b[39;00m\u001b[38;5;124m: \u001b[39m\u001b[38;5;132;01m{\u001b[39;00mexcon\u001b[38;5;241m.\u001b[39mmessages[\u001b[38;5;241m-\u001b[39m\u001b[38;5;241m1\u001b[39m][\u001b[38;5;124m\"\u001b[39m\u001b[38;5;124mcontent\u001b[39m\u001b[38;5;124m\"\u001b[39m]\u001b[38;5;132;01m}\u001b[39;00m\u001b[38;5;124m'\u001b[39m)\n",
      "File \u001b[1;32me:\\Code\\pdf\\excon\\src\\chat_bot.py:116\u001b[0m, in \u001b[0;36mExconManual.user_provides_input\u001b[1;34m(self, user_context, threshold, model_to_use, temperature, max_tokens, testing, manual_responses_for_testing)\u001b[0m\n\u001b[0;32m    114\u001b[0m \u001b[39melif\u001b[39;00m flag \u001b[39m==\u001b[39m \u001b[39mself\u001b[39m\u001b[39m.\u001b[39mrag_prefixes[\u001b[39m1\u001b[39m]: \u001b[39m# \"SECTION:\"\u001b[39;00m\n\u001b[0;32m    115\u001b[0m     \u001b[39mself\u001b[39m\u001b[39m.\u001b[39mlogger\u001b[39m.\u001b[39minfo(\u001b[39m\"\u001b[39m\u001b[39mQuestion asked. Request for more info\u001b[39m\u001b[39m\"\u001b[39m)\n\u001b[1;32m--> 116\u001b[0m     df_search_sections \u001b[39m=\u001b[39m \u001b[39mself\u001b[39m\u001b[39m.\u001b[39madd_section_to_resource(modified_section_to_add, df_search_sections)\n\u001b[0;32m    117\u001b[0m     \u001b[39mif\u001b[39;00m \u001b[39mself\u001b[39m\u001b[39m.\u001b[39msystem_state \u001b[39m==\u001b[39m \u001b[39mself\u001b[39m\u001b[39m.\u001b[39msystem_states[\u001b[39m2\u001b[39m]: \u001b[39m# \"requires_additional_sections\"\u001b[39;00m\n\u001b[0;32m    118\u001b[0m         \u001b[39m# TODO: Do you want to ask the user for help?\u001b[39;00m\n\u001b[0;32m    119\u001b[0m         \u001b[39mself\u001b[39m\u001b[39m.\u001b[39mlogger\u001b[39m.\u001b[39minfo(\u001b[39m\"\u001b[39m\u001b[39mRequest to add resources failed\u001b[39m\u001b[39m\"\u001b[39m)\n",
      "\u001b[1;31mNameError\u001b[0m: name 'modified_section_to_add' is not defined"
     ]
    }
   ],
   "source": [
    "#user_context = \"What is a CFC Account?\"\n",
    "#user_context = \"I am submitting documentation to the financial surveillance department. What information do I need to include in my submission?\" # (A.3 (B))\n",
    "#user_context = \"Can a bank provide foreign currency denominated facilities to a South African Corporate?\" #  (A.3 (B))\n",
    "#user_context = \"For how long does the approval for a facility remain valid?\" #  (A.3 (B))\n",
    "#user_context = \"Other than authorised transaction requests, are there requirements for authorised dealers to submit information to the financial surveillance department?\" #  (A.3 (B))\n",
    "#user_context = \"I have been asked to act on an approval issued to another bank. Can I do that?\" #  (A.3 (B))\n",
    "#####user_context = \"--- Same as above but use \"Authorised Dealer\" instead of \"Bank\"\n",
    "#user_context = \"If I am concerned that as client may in breach of regulations, what should I do?\" #  (A.3 (B))\n",
    "#user_context = \"What constitutes 'documentary evidence' for a foreign currency transaction?\" #  (A.3 (C))\n",
    "#user_context = \"Is Swaziland part of the CMA?\" #  (A.3 (E))\n",
    "#user_context = \"A client wants to buy Namibian Dollars. What approvals do they need before they can do this?\" #  (A.3 (E))\n",
    "#user_context = \"A person from Lesotho wants to buy dollars from me. Can I sell them the dollars?\" #  (A.3 (E))\n",
    "#user_context = \"A person from Namibia wants to buy rand from me. Can I sell them the rand?\" #  (A.3 (E))\n",
    "#user_context = \"A treasury management company wants to trade dollars with me. What do I need to check before I can do this?\" #  (A.4 (B))\n",
    "#user_context = \"A client wants to import goods and pay in foreign currency. What documentation do I need before I can assist with the transaction\" #  (B.1 (B))\n",
    "#user_context = \"Over and above the price of the goods, what additional costs can be covered in foreign currency?\" #  (B.1 (C))\n",
    "#user_context = \"Can advance payment be made in a foreign currency to cover imported goods?\" #  (B.1 (D)(i))\n",
    "\n",
    "#user_context = \"Can advance payment be made in a foreign currency to cover imported capital goods?\" #  (B.1 (D)(ii))\n",
    "#user_context = \"When paying for imports in cash, what documentation is required before providing the foreign currency?\" #  (B.1 (D)(iii))\n",
    "\n",
    "#user_context = \"Can imported goods be financed over more than 12 months?\" #  (B.1 (D)(iv))\n",
    "#user_context = \"How much money can an individual invest internationally?\" #  ?\n",
    "#user_context = \"How much money can an individual take offshore?\" #  ?\n",
    "\n",
    "#user_context = \"A media company want to list offshore. Are there specific conditions for this?\"\n",
    "# user_context = \"How many rands can a resident take offshore in cash?\"\n",
    "#user_context = \"Can I grant a foreign company a Rand facility to pay for goods they wish to purchase from a South African exporter?\"\n",
    "#user_context = \"Can I support a non-residential entity with short-term rand trade finance for their exports from South Africa?\"\n",
    "#user_context = \"Hi\"\n",
    "#user_context = \"Who can trade gold?\"\n",
    "#user_context = \"are there specific exchange control rules for religious organizations?\"\n",
    "#user_context = \"How much foreign currency can a charity take offshore each year?\"\n",
    "\n",
    "user_context = \"pensions\"\n",
    "\n",
    "excon.user_provides_input(user_context, threshold=0.15, model_to_use=model_to_use, temperature=0, max_tokens=300)\n",
    "\n",
    "print(f'{excon.messages[-1][\"role\"]}: {excon.messages[-1][\"content\"]}')\n",
    "\n"
   ]
  },
  {
   "cell_type": "code",
   "execution_count": 25,
   "metadata": {},
   "outputs": [
    {
     "name": "stdout",
     "output_type": "stream",
     "text": [
      "System State = rag\n"
     ]
    }
   ],
   "source": [
    "excon.system_state = excon.system_states[0]\n",
    "print(f'System State = {excon.system_state}')\n"
   ]
  },
  {
   "cell_type": "code",
   "execution_count": 30,
   "metadata": {},
   "outputs": [
    {
     "name": "stdout",
     "output_type": "stream",
     "text": [
      "{'role': 'system', 'content': \"You are attempting to answer questions from an Authorised Dealer based only on the relevant documentation provided. You have only three options:\\n1) Answer the question. If you do this, your must preface to response with the word 'ANSWER:'. If possible also provide a reference to the relevant documentation for the user to cross-check. Use this if you are sure about your answer.\\n2) Request additional documentation. If, in the body of the relevant documentation, is a reference to another section of the document that is directly relevant, respond with the word 'SECTION:' followed by the section reference which looks like A.1(A)(i)(aa). \\n3) State 'NONE:' (and nothing else) in all cases where you are not confident about either of the first two options\\nPotentially relevant document section(s):\\nIntroduction \\n    In terms of Regulation 2(2), an Authorised Dealer shall not buy, borrow, receive, sell, lend or deliver any foreign currency or gold except for such purposes or on such conditions as the Treasury, as defined, may determine, subject to the delegation referred to above.\\n    This Currency and Exchanges Manual for Authorised Dealers (Authorised Dealer Manual) contains the permissions and conditions applicable to transactions in foreign exchange that may be undertaken by Authorised Dealers and/or on behalf of their clients in terms of Regulation 2(2), details of related administrative responsibilities as well as the FinSurv Reporting requirements. This Authorised Dealer Manual must be read in conjunction with the Regulations and Authorised Dealers may transact without reference to the Financial Surveillance Department, provided such transactions are permitted in terms of this Authorised Dealer Manual.\\n    The arrangements set out in the Authorised Dealer Manual should in no manner be construed as absolving Authorised Dealers, their clients and associated entities from their duties and obligations under any other law, including but not limited to the Prevention of Organised Crime Act, 1998 (Act No. 121 of 1998), the Financial Intelligence Centre Act, 2001 (Act No. 38 of 2001) and the Protection of Constitutional Democracy against Terrorist and Related Activities Act, 2004 (Act No. 33 of 2004).\\n    The Financial Surveillance Department views contraventions of the Exchange Control Regulations, as well as any actions to circumvent the permissions and conditions contained in the Authorised Dealer Manual, in a very serious light.\\n    The Financial Surveillance Department reserves the right to amend, grant or impose additional permissions or conditions, with new or amended permissions or conditions which will be communicated by the Financial Surveillance Department on its website.\\n    In instances where an Authorised Dealer is not in a position to buy, borrow, sell or lend foreign currency in terms of the permissions and conditions set out in the Authorised Dealer Manual, an official application with full details applicable to the request must be submitted to the Financial Surveillance Department.\\n    For the benefit of the general public, Currency and Exchanges guidelines for business entities and Currency and Exchanges guidelines for individuals have been published by the Financial Surveillance Department. These guidelines set out, in less technical terms, the permissions and conditions relating to cross-border foreign transactions.\\n    The Authorised Dealer Manual, ADLA Manual, Currency and Exchanges guidelines for business entities, Currency and Exchanges guidelines for individuals and applicable amendments thereto are available on the South African Reserve Bank's website: www.resbank.co.za.\\nC. Gold\\n    (C) Acquisition of gold for trade purposes\\n        (i) The acquisition of gold for legitimate trade purposes by e.g. manufacturing jewellers, dentists, is subject to the approval of the South African Diamond and Precious Metals Regulator.\\n        (ii) After receiving such approval, a permit must be obtained from SARS which will entitle the permit holder to approach Rand Refinery Limited for an allocation of gold.\\n        (iii) The holders of gold, having received the approvals outlined above, are exempt from the provisions of Regulation 5(1).\\nC. Gold\\n    (B) Other exports of gold\\n        (i) All applications for permission to export gold in any form should be referred to the South African Diamond and Precious Metals Regulator.\"}\n",
      "{'role': 'user', 'content': 'Who can trade gold?'}\n",
      "Flag: ANSWER:\n",
      "Response:  Gold can be traded by individuals or entities who have obtained the necessary approvals and permits from the South African Diamond and Precious Metals Regulator. (Reference: C. Gold (C)(i) - Acquisition of gold for trade purposes)\n"
     ]
    }
   ],
   "source": [
    "flag, response = excon.resource_augmented_query(user_context, model_to_use = model_to_use, temperature = 0.0, max_tokens = 512, df_definitions = df_definitions, df_search_sections = df_search_sections)\n",
    "print(f\"Flag: {flag}\")\n",
    "print(f'Response: {response}')\n"
   ]
  },
  {
   "cell_type": "code",
   "execution_count": 20,
   "metadata": {},
   "outputs": [
    {
     "name": "stdout",
     "output_type": "stream",
     "text": [
      "C. Gold\n",
      "&nbsp;&nbsp;&nbsp;&nbsp;(C) Acquisition of gold for trade purposes\n",
      "&nbsp;&nbsp;&nbsp;&nbsp;&nbsp;&nbsp;&nbsp;&nbsp;(i) The acquisition of gold for legitimate trade purposes by e.g. manufacturing jewellers, dentists, is subject to the approval of the South African Diamond and Precious Metals Regulator.\n",
      "&nbsp;&nbsp;&nbsp;&nbsp;&nbsp;&nbsp;&nbsp;&nbsp;(ii) After receiving such approval, a permit must be obtained from SARS which will entitle the permit holder to approach Rand Refinery Limited for an allocation of gold.\n",
      "&nbsp;&nbsp;&nbsp;&nbsp;&nbsp;&nbsp;&nbsp;&nbsp;(iii) The holders of gold, having received the approvals outlined above, are exempt from the provisions of Regulation 5(1).\n"
     ]
    }
   ],
   "source": [
    "print(excon.get_regulation_detail('C.(C)'))\n",
    "#excon.get_regulation_detail('B.18(B)(i)(b)')"
   ]
  },
  {
   "cell_type": "code",
   "execution_count": 3,
   "metadata": {},
   "outputs": [],
   "source": [
    "excon_test = ExconManual(log_file='',input_folder = \"./inputs_test/\")\n",
    "#excon_test = ExconManual(log_file='',input_folder = \"./inputs/\")\n"
   ]
  },
  {
   "cell_type": "code",
   "execution_count": 4,
   "metadata": {},
   "outputs": [
    {
     "name": "stderr",
     "output_type": "stream",
     "text": [
      "INFO:src.chat_bot:#################   Similarity Search       #################\n",
      "INFO:src.chat_bot:--   No relevant definitions found\n",
      "INFO:src.chat_bot:--   Relevant Sections\n",
      "INFO:src.chat_bot:0.1318:                C.(C):         heading: Acquisition of gold for trade purposes\n",
      "INFO:src.chat_bot:0.1489:                C.(G):         heading: Applications for the importation of gold\n",
      "INFO:src.chat_bot:Top result: C.(C) with a cosine distance of 0.13176155036104042\n",
      "INFO:src.chat_bot:No unique mode\n",
      "INFO:src.chat_bot:Only the top result added but more were found. Adding the next most likely answer\n",
      "INFO:src.chat_bot:--   Filtered Sections\n",
      "INFO:src.chat_bot:0.1318            :                C.(C):  1\n",
      "INFO:src.chat_bot:0.1489            :                C.(G):  1\n"
     ]
    }
   ],
   "source": [
    "#user_context = \"How much money can an individual take offshore in any year?\"\n",
    "user_context = \"Who can trade gold\"\n",
    "relevant_definitions, relevant_sections = excon_test.similarity_search(user_context)\n",
    "\n",
    "\n",
    "# response = excon_test.user_provides_input(user_context=user_context,\n",
    "#                                           threshold=0.15,\n",
    "#                                           model_to_use=\"gpt-3.5-turbo\", \n",
    "#                                           temperature = 0, \n",
    "#                                           max_tokens = 200, \n",
    "#                                           df_definitions = relevant_definitions, \n",
    "#                                           df_search_sections = relevant_sections)\n",
    "# print(response)\n"
   ]
  },
  {
   "cell_type": "code",
   "execution_count": 49,
   "metadata": {},
   "outputs": [
    {
     "data": {
      "text/html": [
       "<div>\n",
       "<style scoped>\n",
       "    .dataframe tbody tr th:only-of-type {\n",
       "        vertical-align: middle;\n",
       "    }\n",
       "\n",
       "    .dataframe tbody tr th {\n",
       "        vertical-align: top;\n",
       "    }\n",
       "\n",
       "    .dataframe thead th {\n",
       "        text-align: right;\n",
       "    }\n",
       "</style>\n",
       "<table border=\"1\" class=\"dataframe\">\n",
       "  <thead>\n",
       "    <tr style=\"text-align: right;\">\n",
       "      <th></th>\n",
       "      <th>reference</th>\n",
       "      <th>cosine_distance</th>\n",
       "      <th>count</th>\n",
       "      <th>raw_text</th>\n",
       "      <th>token_count</th>\n",
       "    </tr>\n",
       "  </thead>\n",
       "  <tbody>\n",
       "    <tr>\n",
       "      <th>0</th>\n",
       "      <td>C.(C)</td>\n",
       "      <td>0.131650</td>\n",
       "      <td>1</td>\n",
       "      <td>C. Gold\\n    (C) Acquisition of gold for trade...</td>\n",
       "      <td>119</td>\n",
       "    </tr>\n",
       "    <tr>\n",
       "      <th>1</th>\n",
       "      <td>C.(G)</td>\n",
       "      <td>0.148842</td>\n",
       "      <td>1</td>\n",
       "      <td>C. Gold\\n    (G) Applications for the importat...</td>\n",
       "      <td>43</td>\n",
       "    </tr>\n",
       "  </tbody>\n",
       "</table>\n",
       "</div>"
      ],
      "text/plain": [
       "  reference  cosine_distance  count  \\\n",
       "0     C.(C)         0.131650      1   \n",
       "1     C.(G)         0.148842      1   \n",
       "\n",
       "                                            raw_text  token_count  \n",
       "0  C. Gold\\n    (C) Acquisition of gold for trade...          119  \n",
       "1  C. Gold\\n    (G) Applications for the importat...           43  "
      ]
     },
     "execution_count": 49,
     "metadata": {},
     "output_type": "execute_result"
    }
   ],
   "source": [
    "relevant_sections"
   ]
  },
  {
   "cell_type": "code",
   "execution_count": 5,
   "metadata": {},
   "outputs": [
    {
     "name": "stderr",
     "output_type": "stream",
     "text": [
      "INFO:src.chat_bot:#################   RAG       #################\n",
      "INFO:src.chat_bot:\n",
      "You are attempting to answer questions from an Authorised Dealer based only on the relevant documentation provided. You have only three options:\n",
      "1) Answer the question. If you do this, your must preface to response with the word 'ANSWER:'. If possible also provide a reference to the relevant documentation for the user to cross-check. Use this if you are sure about your answer.\n",
      "2) Request additional documentation. If, in the body of the relevant documentation, is a reference to another section of the document that is directly relevant, respond with the word 'SECTION:' followed by the section reference which looks like A.1(A)(i)(aa). \n",
      "3) State 'NONE:' (and nothing else) in all cases where you are not confident about either of the first two options\n",
      "Potentially relevant document section(s):\n",
      "C. Gold\n",
      "    (C) Acquisition of gold for trade purposes\n",
      "        (i) The acquisition of gold for legitimate trade purposes by e.g. manufacturing jewellers, dentists, is subject to the approval of the South African Diamond and Precious Metals Regulator.\n",
      "        (ii) After receiving such approval, a permit must be obtained from SARS which will entitle the permit holder to approach Rand Refinery Limited for an allocation of gold.\n",
      "        (iii) The holders of gold, having received the approvals outlined above, are exempt from the provisions of Regulation 5(1).\n",
      "C. Gold\n",
      "    (G) Applications for the importation of gold\n",
      "        (i) All applications for the importation of gold must be referred to the South African Diamond and Precious Metals Regulator.\n"
     ]
    }
   ],
   "source": [
    "excon_test.messages = [{\"role\": \"user\", \"content\": \"Who can trade gold?\"}]\n",
    "\n",
    "flag, response = excon_test.resource_augmented_query(model_to_use=\"gpt-3.5-turbo\", \n",
    "                                                     temperature = 0, \n",
    "                                                     max_tokens = 200, \n",
    "                                                     df_definitions = relevant_definitions, \n",
    "                                                     df_search_sections = relevant_sections)"
   ]
  },
  {
   "cell_type": "code",
   "execution_count": 6,
   "metadata": {},
   "outputs": [
    {
     "name": "stdout",
     "output_type": "stream",
     "text": [
      "ANSWER:\n",
      " The acquisition of gold for legitimate trade purposes, such as by manufacturing jewellers or dentists, is subject to the approval of the South African Diamond and Precious Metals Regulator. After receiving such approval, a permit must be obtained from SARS, which will allow the permit holder to approach Rand Refinery Limited for an allocation of gold. The holders of gold, having received the necessary approvals, are exempt from certain provisions of Regulation 5(1). (Reference: C. Gold (C)(i))\n"
     ]
    }
   ],
   "source": [
    "print(flag)\n",
    "print(response)"
   ]
  },
  {
   "cell_type": "code",
   "execution_count": 6,
   "metadata": {},
   "outputs": [],
   "source": [
    "import pandas as pd\n",
    "text = \"I.2 Local facilities to non-residents\\n\\\n",
    "        (A) Short-term trade finance extended by a local Authorised Dealer to a non-resident directly related to the export of goods or services from South Africa\\n\\\n",
    "            (i) In order to facilitate the export of goods from South Africa, the Financial Surveillance Department is prepared to permit local Authorised Dealers, on application, to extend short-term finance facilities denominated in Rand or a foreign currency to the non-resident importer or his/her banker abroad on the conditions mentioned below.\\n\\\n",
    "                (a) Finance facilities denominated in Rand\\n\\\n",
    "                    (aa) The facilities must relate to the post-shipment finance of the export of a specific shipment of goods and at the time of drawdown, the local Authorised Dealer extending these facilities must view the prescribed SARS Customs Declaration.\\n\\\n",
    "                    (bb) The foreign currency proceeds eventually received in South Africa and/or payments received from any Non-resident Rand account, must be utilised to liquidate the aforementioned short-term export finance facility. The relevant Financial Surveillance Department requirements relating to the reporting in terms of the Reporting System and the observance of the 30-day rule must be complied with.\\n\\\n",
    "                    (cc) The overall finance period, including any initial credit granted by the exporter, may not exceed six months from date of shipment of the underlying goods from South Africa unless the dispensation outlined in section B.18(B)(i)(b) of the Authorised Dealer Manual has been granted, when the overall finance period, including any initial credit granted by the exporter, may not exceed 12 months from date of shipment of the underlying goods from South Africa. An export finance facility may be extended in the event of the overseas importer requiring an extension of the original credit period, provided that the overall finance periods set out above are not exceeded.\\n\\\n",
    "                    (dd) The facility must be repaid with foreign currency and/or by payment from a Non-resident Rand account. No facility may be drawn down where the proceeds of the underlying export transaction have already been received.\"\n",
    "manual_data = [\"I.2(A)(i)(a)\", 1, text, 100]\n",
    "df_manual_data = pd.DataFrame([manual_data], columns = [\"reference\", \"count\", \"raw_text\", \"token_count\"])"
   ]
  },
  {
   "cell_type": "code",
   "execution_count": 10,
   "metadata": {},
   "outputs": [],
   "source": [
    "question = \"Can you list the dispensations necessary for a rand facility to a non-resident exceed 6 months?\"\n",
    "excon_test.messages = [{\"role\": \"user\", \"content\": question}]\n",
    "flag, response = excon_test.resource_augmented_query(model_to_use=\"gpt-4\", #\"gpt-3.5-turbo\", \n",
    "                                                     temperature = 0, \n",
    "                                                     max_tokens = 200, \n",
    "                                                     df_definitions = pd.DataFrame(), \n",
    "                                                     df_search_sections = df_manual_data)"
   ]
  },
  {
   "cell_type": "code",
   "execution_count": 11,
   "metadata": {},
   "outputs": [
    {
     "name": "stdout",
     "output_type": "stream",
     "text": [
      "SECTION:\n",
      " B.18(B)(i)(b)\n"
     ]
    }
   ],
   "source": [
    "print(flag)\n",
    "print(response)"
   ]
  },
  {
   "cell_type": "code",
   "execution_count": 14,
   "metadata": {},
   "outputs": [
    {
     "data": {
      "text/plain": [
       "'B.18(B)(i)(b)'"
      ]
     },
     "execution_count": 14,
     "metadata": {},
     "output_type": "execute_result"
    }
   ],
   "source": [
    "section_to_add = response\n",
    "section_to_add = section_to_add.strip()\n",
    "section_to_add"
   ]
  },
  {
   "cell_type": "code",
   "execution_count": 18,
   "metadata": {},
   "outputs": [],
   "source": [
    "import regex\n",
    "\n",
    "def find_fuzzy_reference(section_details, reference):\n",
    "    # Remove special regex characters from the reference string and escape it\n",
    "    sanitized_reference = regex.sub(r'[\\\\.*+?^${}()|[\\]]', '', reference)\n",
    "    pattern = r'(%s){e<=2}' % sanitized_reference\n",
    "    match = regex.search(pattern, section_details)\n",
    "    if match:\n",
    "        return match.group()\n",
    "    else:\n",
    "        return None"
   ]
  },
  {
   "cell_type": "code",
   "execution_count": 20,
   "metadata": {},
   "outputs": [
    {
     "name": "stdout",
     "output_type": "stream",
     "text": [
      "None\n"
     ]
    }
   ],
   "source": [
    "text = \"I.2 Local facilities to non-residents\\n\\\n",
    "        (A) Short-term trade finance extended by a local Authorised Dealer to a non-resident directly related to the export of goods or services from South Africa\\n\\\n",
    "            (i) In order to facilitate the export of goods from South Africa, the Financial Surveillance Department is prepared to permit local Authorised Dealers, on application, to extend short-term finance facilities denominated in Rand or a foreign currency to the non-resident importer or his/her banker abroad on the conditions mentioned below.\\n\\\n",
    "                (a) Finance facilities denominated in Rand\\n\\\n",
    "                    (aa) The facilities must relate to the post-shipment finance of the export of a specific shipment of goods and at the time of drawdown, the local Authorised Dealer extending these facilities must view the prescribed SARS Customs Declaration.\\n\\\n",
    "                    (bb) The foreign currency proceeds eventually received in South Africa and/or payments received from any Non-resident Rand account, must be utilised to liquidate the aforementioned short-term export finance facility. The relevant Financial Surveillance Department requirements relating to the reporting in terms of the Reporting System and the observance of the 30-day rule must be complied with.\\n\\\n",
    "                    (cc) The overall finance period, including any initial credit granted by the exporter, may not exceed six months from date of shipment of the underlying goods from South Africa unless the dispensation outlined in section B.18(B)(i)(b) of the Authorised Dealer Manual has been granted, when the overall finance period, including any initial credit granted by the exporter, may not exceed 12 months from date of shipment of the underlying goods from South Africa. An export finance facility may be extended in the event of the overseas importer requiring an extension of the original credit period, provided that the overall finance periods set out above are not exceeded.\\n\\\n",
    "                    (dd) The facility must be repaid with foreign currency and/or by payment from a Non-resident Rand account. No facility may be drawn down where the proceeds of the underlying export transaction have already been received.\"\n",
    "        \n",
    "section = \"B.18 Gold (B)(i)(b)\"\n",
    "match = find_fuzzy_reference(text, section)\n",
    "print(match)"
   ]
  },
  {
   "cell_type": "code",
   "execution_count": 17,
   "metadata": {},
   "outputs": [
    {
     "data": {
      "text/plain": [
       "str"
      ]
     },
     "execution_count": 17,
     "metadata": {},
     "output_type": "execute_result"
    }
   ],
   "source": [
    "type(match)"
   ]
  },
  {
   "cell_type": "code",
   "execution_count": 31,
   "metadata": {},
   "outputs": [],
   "source": [
    "import re\n",
    "\n",
    "def extract_valid_reference(input_string):\n",
    "    excon_index_patterns = [\n",
    "        r'[A-Z]',\n",
    "        r'\\.\\d{1,2}',\n",
    "        r'\\([A-Z]\\)',\n",
    "        r'\\((i|ii|iii|iv|v|vi|vii|viii|ix|x|xi|xii|xiii|xiv|xv|xvi|xvii|xviii|xix|xx|xxi|xxii|xxiii)\\)',\n",
    "        r'\\([a-z]\\)',\n",
    "        r'\\([a-z]{2}\\)',\n",
    "        r'\\((?:[1-9]|[1-9][0-9])\\)'\n",
    "    ]\n",
    "    \n",
    "    partial_ref = \"\"\n",
    "    remaining_str = input_string\n",
    "    \n",
    "    for pattern in excon_index_patterns:\n",
    "        match = re.search(pattern, remaining_str)\n",
    "        if match:\n",
    "            partial_ref += match.group()\n",
    "            remaining_str = remaining_str[match.end():]\n",
    "        else:\n",
    "            if remaining_str:\n",
    "                return None\n",
    "            break\n",
    "    \n",
    "    return partial_ref if partial_ref else None"
   ]
  },
  {
   "cell_type": "code",
   "execution_count": 32,
   "metadata": {},
   "outputs": [
    {
     "name": "stdout",
     "output_type": "stream",
     "text": [
      "B.18(B)(i)(b)\n",
      "None\n",
      "A.1\n"
     ]
    }
   ],
   "source": [
    "# Test the function\n",
    "print(extract_valid_reference('B.18 Gold (B)(i)(b)'))  # Output: 'B.18(B)(i)(b)'\n",
    "print(extract_valid_reference('B.18 Gold (B)(a)(b)'))  # Output: None\n",
    "print(extract_valid_reference('A.1'))  # Output: 'A.1'"
   ]
  },
  {
   "cell_type": "code",
   "execution_count": null,
   "metadata": {},
   "outputs": [],
   "source": []
  }
 ],
 "metadata": {
  "kernelspec": {
   "display_name": "Python 3.10.4 ('env': venv)",
   "language": "python",
   "name": "python3"
  },
  "language_info": {
   "codemirror_mode": {
    "name": "ipython",
    "version": 3
   },
   "file_extension": ".py",
   "mimetype": "text/x-python",
   "name": "python",
   "nbconvert_exporter": "python",
   "pygments_lexer": "ipython3",
   "version": "3.10.4"
  },
  "orig_nbformat": 4,
  "vscode": {
   "interpreter": {
    "hash": "007219f1a1c0c3993c3211d5a541b1fa109902aadb48cb5499ee55023bf45452"
   }
  }
 },
 "nbformat": 4,
 "nbformat_minor": 2
}
