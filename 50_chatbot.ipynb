{
 "cells": [
  {
   "cell_type": "code",
   "execution_count": 1,
   "metadata": {},
   "outputs": [],
   "source": [
    "import importlib\n",
    "import src.chat_bot\n",
    "importlib.reload(src.chat_bot)\n",
    "from src.chat_bot import ExconManual"
   ]
  },
  {
   "cell_type": "code",
   "execution_count": 13,
   "metadata": {},
   "outputs": [],
   "source": [
    "#ad = True\n",
    "ad = False # = ADLA chat\n",
    "\n",
    "logging_level = 15\n",
    "#logging_level = 20\n",
    "log_file = ''\n",
    "\n",
    "if ad:\n",
    "    path_to_manual_as_csv_file = \"./inputs/ad_manual.csv\"\n",
    "    path_to_definitions_as_parquet_file = \"./inputs/ad_definitions.parquet\"\n",
    "    path_to_index_as_parquet_file = \"./inputs/ad_index.parquet\"\n",
    "    chat_for_ad = True\n",
    "else:\n",
    "    path_to_manual_as_csv_file = \"./inputs/adla_manual.csv\"\n",
    "    path_to_definitions_as_parquet_file = \"./inputs/adla_definitions.parquet\"\n",
    "    path_to_index_as_parquet_file = \"./inputs/adla_index.parquet\"\n",
    "    chat_for_ad = False\n",
    "    #excon = ExconManual(path_to_manual_as_csv_file, path_to_definitions_as_parquet_file, path_to_index_as_parquet_file, chat_for_ad = False,log_file=log_file, logging_level=logging_level)\n",
    "\n",
    "\n",
    "excon = ExconManual(path_to_manual_as_csv_file, path_to_definitions_as_parquet_file, path_to_index_as_parquet_file, chat_for_ad = chat_for_ad, log_file=log_file, logging_level=logging_level)\n",
    "\n"
   ]
  },
  {
   "cell_type": "code",
   "execution_count": 3,
   "metadata": {},
   "outputs": [
    {
     "data": {
      "text/plain": [
       "\"A.3 The terms and conditions for submission of an application for authorisation to conduct the business of an Authorised Dealer in foreign exchange with limited authority\\n    (A) Categories of Authorised Dealers in foreign exchange with limited authority\\n    ADLAs are classified into the following four categories:\\n        (i) Category One\\n        An ADLA who is authorised to operate as a Bureau de Change.\\n        (ii) Category Two\\n        An ADLA who is authorised to operate as a Bureau de Change, provide specific transactions under the single discretionary allowance limit of R1 million per applicant within the calendar year and offer money remittance services in partnership with external money transfer operators.\\n        (iii) Category Three\\n        An ADLA who is authorised to operate as an independent money transfer operator and/or value transfer service provider.\\n        (iv) Category Four\\n        An ADLA who is authorised to:\\n            (a) operate as a Bureau de Change;\\n            (b) provide specific transactions under the single discretionary allowance limit of R1 million per applicant within the calendar year;\\n            (c) offer money remittance services in partnership with external money transfer operators;\\n            (d) operate as an independent money transfer operator; and/or\\n            (e) operate as a value transfer service provider.\\n    (B) Application procedure\\n        (i) An application to conduct the business of an ADLA must be submitted to the Financial Surveillance Department.\\n        (ii) The completed prescribed 'Application for authorisation to conduct the business of an Authorised Dealer in foreign exchange with limited authority, a copy of which is attached hereto as Annexure A, must be accompanied by the following information:\\n            (a) a certified copy of the Notice of Incorporation (Form CoR14.1) issued by the CIPC, as proof of the registration of the limited liability company in South Africa under the Companies Act, 2008 (Act No. 71 of 2008);\\n            (b) a certified copy of the Registration Certificate (Form CoR14.3) issued by CIPC, as proof that the company has been registered in terms of section 14 of the Companies Act, 2008 (Act No. 71 of 2008);\\n            (c) a certified copy of the Memorandum of Incorporation (Form CoR15.1A) issued by CIPC;\\n            (d) details of the proposed place of business which must fully comply with the conditions as provided for in sections B.2(A) and (D) of the ADLA Manual;\\n            (e) a detailed business plan which must, inter alia, include full details of the following key aspects:\\n                (aa) equity structure, which requires that the full ownership of the unlisted company be disclosed, including the identity of the beneficial owner(s);\\n                (bb) proposed organisational structure including, where applicable, a description of the intended use of agents and branches;\\n                (cc) details of funding of the ADLA, i.e. own funds, loan funding (if so, name of lender and domicile) and other sources;\\n                (dd) a reasonably measurable forecast budget calculation for the first three financial years which demonstrates that the applicant is able to employ appropriate systems, resources and procedures to operate soundly;\\n                (ee) a description of the applicant's governance arrangements and internal control mechanisms relating to, inter alia, administrative, risk management and accounting procedures, which demonstrates that these governance arrangements, control mechanisms and procedures are appropriate, sound and adequate;\\n            (f) A declaration by shareholders and beneficial owner(s) that:\\n                (aa) they hold the shares in their personal capacity and not as agents or nominees for disclosed or undisclosed principals;\\n                (bb) there are no silent partners controlling the shareholders of the company; and\\n                (cc) approval from the Financial Surveillance Department will be obtained in respect of any subsequent changes in the beneficial ownership of the ADLA;\\n            (g) a Risk Management and Compliance Programme of the ADLA as required in terms of section 42 of the FIC Act. The Financial Surveillance Department will indicate whether the Risk Management and Compliance Programme is sufficient to enable the ADLA to comply to its obligations under chapter 3 of the FIC Act. The Risk Management and Compliance Programme should, inter alia, include details in respect of the following:\\n                (aa) approval from the board of directors of the ADLA. The board of directors of the ADLA must ensure compliance by the ADLA and its employees with the provisions of the FIC Act and the Risk Management and Compliance Programme;\\n                (bb) the compliance function to assist the board of directors of the ADLA in discharging their obligations in (1) above;\\n                (cc) the person to be appointed with the necessary competence and seniority responsible to ensure the effectiveness of the compliance function (section 42A(1)(b) of the FIC Act);\\n                (dd) how the Risk Management and Compliance Programme enables the ADLA to identify, assess, monitor, mitigate and manage the money laundering and terrorist financing risk of products or services offered by the ADLA;\\n                (ee) the manner in which the ADLA determines if a person is:\\n                    (1) a prospective client in the process of establishing a business relationship or entering into a single transaction with the ADLA; or\\n                    (2) a client who has established a business relationship or entered into a single transaction;\\n                (ff) the manner in which the ADLA complies with section 20A of the FIC Act (anonymous clients and clients acting under false or fictitious names);\\n                (gg) the manner in which and the processes by which the establishment and verification of the identity of persons\\n                whom the ADLA must identify in terms of Part 1 of Chapter 3 of the FIC Act is performed by the ADLA;\\n                (hh) the manner in which the ADLA determines whether future transactions that will be performed in the course of the business relationship are consistent with the ADLA's knowledge of a prospective client;\\n        (ii) the manner in which and the processes by which the ADLA conducts additional CDD measures in respect of legal persons, trusts and partnerships;\\n                (jj) the manner in which and the processes by which ongoing CDD and account monitoring in respect of business relationships is conducted by the ADLA;\\n                (kk) the manner in which the examining of:\\n                    (1) complex or unusually large transactions; and\\n                    (2) unusual patterns of transactions which have no apparent business or lawful purpose, and keeping of written findings relating thereto, is done by the ADLA;\\n                (ll) the manner in which and the processes by which the ADLA will confirm information relating to a client when the ADLA has doubts about the veracity of previously obtained information;\\n                (mm) the manner in which and the processes by which the ADLA will perform the CDD requirements in accordance with sections 21, 21A, 21B and 21C of the FIC Act when, during the course of a business relationship, the ADLA suspects that a transaction or activity is suspicious or unusual as contemplated in section 29 of the FIC Act\\n                (nn) the manner in which the ADLA will terminate an existing business relationship as contemplated in section 21E of the FIC Act;\\n                (oo) the manner in which and the processes by which the ADLA determines whether a prospective client is a foreign prominent public official or a domestic prominent influential person;\\n                (pp) the manner in which and the processes by which enhanced CDD is conducted for higher-risk business relationships and when simplified customer CDD might be permitted by the ADLA;\\n                (qq) the manner in which and place at which the records are kept by the ADLA in terms of Part 2 of Chapter 3 of the FIC Act (sections 22, 22A, 23 and 24);\\n                (rr) how the ADLA determines when a transaction or activity is reportable to the Financial Intelligence Centre under Part 3 of Chapter 3 of the FIC Act;\\n                (ss) the processes for reporting information to the Financial Intelligence Centre under Part 3 of Chapter 3 of the FIC Act including:\\n                    (1) dealing with property associated with terrorist and related activities (section 28A);\\n                    (2) reporting cash transactions above the R24 999.99 limit (section 28);\\n                    (3) reporting suspicious and unusual transactions (section 29) and the  tipping  off  provision  (section 29(3));\\n                    (4) protection of persons making reports (section 38); and\\n                    (5) access to information (sections 27 and 32);\\n                (tt) the manner in which the Risk Management and Compliance Programme is implemented in branches, so as to enable the ADLA to comply with its obligations under the FIC Act;\\n                (uu) the processes for the ADLA to implement its Risk Management and Compliance Programme; and\\n                (vv) provision for disciplinary steps and corrective action in the event of non-compliance by the ADLA and its staff members (sections 46 to 66).\\n        (iii) a duly completed Statement by individuals who are holding, or are proposing to hold, the office of a director and/or, shareholder and by the beneficial owner(s) in an Authorised Dealer in foreign exchange with limited authority, a copy of which is attached hereto as Annexure B, duly signed and supported by the required documentation;\\n        (iv) a duly completed consent and declaration form by individuals who are holding, or are proposing to hold, the office of a director and/or, shareholder and by the beneficial owner(s) in an Authorised Dealer in foreign exchange with limited authority, a copy of which is attached hereto as Annexure C, duly signed and supported by the required documentation;\\n        (v) full details of the proposed implementation of the Reporting System. The Divisional Head: System Business Support Division, Financial Surveillance Department, South African Reserve Bank, P O Box 3125, Pretoria, 0001 may be contacted for full details in this regard. Alternatively an email can be sent to FNS-Development@resbank.co.za.\\n    (C) Adjudication process\\n        (i) The application to conduct the business of an ADLA will be considered on receipt thereof by the Financial Surveillance Department taking into account, inter alia, factors pertaining to the overall national and economic interest of South Africa.\\n        (ii) Should the Financial Surveillance Department be satisfied that all the requirements have been met, a conditional written approval will be granted to the applicant to conduct the business of an ADLA.\\n        (iii) The ADLA will only be permitted to commence with the approved business once the following conditions have been met:\\n            (a) the beneficial owner(s), shareholder(s), director(s), senior exchange control officer and the anti-money laundering compliance officer are deemed as 'fit and proper' by the Financial Surveillance Department;\\n            (b) successful testing and certification of the Reporting System;\\n            (c) written confirmation from a registered bank is provided that the minimum unimpaired capital requirement of R2 million is in place for a category one ADLA, R3 million for a category two ADLA, R5 million for a category three ADLA and R8 million for a category four ADLA;\\n            (d) written confirmation from the company's director(s) is provided that the unimpaired capital will remain unimpaired in the business of the ADLA during the lifetime of its operations (see section B.2(A)(i) of the ADLA Manual for conditions applicable to unimpaired capital);\\n            (e) finalisation and approval of the proposed place of business;\\n            (f) finalisation of the Risk Management and Compliance Programme for compliance in accordance with the provisions of section 42 of the FIC Act; and\\n            (g) finalisation of the appointment of a senior exchange control officer and anti-money laundering compliance officer. Detailed curricula vitae of the proposed candidates must be forwarded to the Financial Surveillance Department, who reserves the right to veto the appointment of parties deemed not suitable for the respective\\n            positions.\\n        (iv) It should be noted that the above-mentioned conditions must be met within a period of six months from the date of the conditional approval issued by the Financial Surveillance Department, failing which such approval may be withdrawn.\\n        (v) Should the Financial Surveillance Department be satisfied that all the conditions mentioned in (iii) above have been met, it will arrange for the publication of the name of the entity and the authorisation granted in the Government Gazette.\\n        (vi) Once the details mentioned have been published in the Government Gazette, the Financial Surveillance Department will issue to the ADLA concerned a formal letter of appointment.\\n        (vii) The letter of appointment to conduct the business of an ADLA is neither tradable nor transferable.\\n        (viii) A circular will then be issued by the Financial Surveillance Department to notify all the Authorised Dealers, ADLAs and other role players of the appointment of the new ADLA.\\n        (ix) Section A.2(A) of the ADLA Manual will be updated by including the name of the new ADLA.\\n        (x) It should be noted that Regulation 22, inter alia, provides that any person who makes an incorrect statement in a declaration made or return rendered for the purposes of these Regulations or refuses or neglects to furnish any information which he is required to furnish under these Regulations, shall be guilty of an offence and liable upon conviction to a fine or to imprisonment or to both such fine and imprisonment. This may also result in the authorisation granted being withdrawn.\\n        (xi) It should be noted that this section only contains terms and conditions for the submission of an application for authorisation to conduct the business of an ADLA and that compliance therewith should not be construed as an indication that the application will necessarily be approved.\\n        (xii) Should the Financial Surveillance Department decline an application for authorisation to conduct the business of an ADLA, a written notice of the decision will be provided to the applicant concerned.\""
      ]
     },
     "execution_count": 3,
     "metadata": {},
     "output_type": "execute_result"
    }
   ],
   "source": [
    "excon.get_regulation_detail(\"A.3\")"
   ]
  },
  {
   "cell_type": "code",
   "execution_count": 4,
   "metadata": {},
   "outputs": [],
   "source": [
    "model_to_use=\"gpt-3.5-turbo\"\n",
    "#model_to_use=\"gpt-4\"\n",
    "#model_to_use=\"gpt-3.5-turbo-16k\""
   ]
  },
  {
   "cell_type": "code",
   "execution_count": 9,
   "metadata": {},
   "outputs": [
    {
     "name": "stderr",
     "output_type": "stream",
     "text": [
      "INFO:src.chat_bot:user: Are there different categories for ALDAs?\n",
      "DEV:src.chat_bot:#################   Similarity Search       #################\n",
      "DEV:src.chat_bot:--   No relevant definitions found\n",
      "DEV:src.chat_bot:--   No relevant sections found\n",
      "DEV:src.chat_bot:Unable to find any definitions or text related to this query\n",
      "INFO:src.chat_bot:assistant: I was unable to find any relevant documentation to assist in answering the question. Can you try re-phrasing the question?\n"
     ]
    },
    {
     "name": "stdout",
     "output_type": "stream",
     "text": [
      "I was unable to find any relevant documentation to assist in answering the question. Can you try re-phrasing the question?\n"
     ]
    }
   ],
   "source": [
    "user_context = \"A non-resident wants to buy residential property in South Africa. What are the restrictions around doing this?\"\n",
    "#user_context = \"A South African citizen is emigrating. What is the process they need to follow to take all their cash offshore?\"\n",
    "#user_context = \"What is the Foreign investment limits for South African institutional investors?\"\n",
    "#user_context = \"Can a individual transfer his shares in a dual listed company to his offshore portfolio?\"\n",
    "\n",
    "#user_context = \"Can cash balances for individuals who are no longer tax resident be transferred offshore?\"\n",
    "\n",
    "user_context = \"How do I need to report outbound cross-boarder payments?\"\n",
    "\n",
    "user_context = \"Are there different categories for ALDAs?\"\n",
    "\n",
    "excon.user_provides_input(user_context, threshold=0.15, model_to_use=model_to_use, temperature=0, max_tokens=300)\n",
    "print(excon.messages[-1][\"content\"])\n"
   ]
  },
  {
   "cell_type": "code",
   "execution_count": 16,
   "metadata": {},
   "outputs": [
    {
     "data": {
      "text/plain": [
       "\"C.1 FinSurv Reporting System\\n    (E) Inward payments\\n        (ii) Integrated form\\n            (a) The integrated form is applicable to all transactions reported under the BOPCUS module.\\n            (b) Transactions reported by ADLAs under the 'NON REPORTABLE' and 'INTERBANK' modules do not require an integrated form.\\n            (c) ADLAs must make use of an integrated form in respect of all inward payments either in hard copy or electronic format to obtain data required for the processing and reporting of all BOPCUS cross- border foreign exchange transactions to the Financial Surveillance Department.\\n            (d) When the client is physically present at the ADLA, the integrated form must be completed and signed by the client in respect of all inward payments.\\n            (e) When the client is not physically present to complete and sign the integrated form, the ADLA may complete and sign the integrated form either physically or electronically, provided that the ADLA has been authorised or mandated to do so by means of a letter, a facsimile message, an email message or by a recorded telephonic message to act on the client's behalf.\\n            (f) The client's communication must be retained by the ADLA for a period of five years for inspection purposes.\""
      ]
     },
     "execution_count": 16,
     "metadata": {},
     "output_type": "execute_result"
    }
   ],
   "source": [
    "excon.get_regulation_detail(\"C.1(E)(ii)\")"
   ]
  },
  {
   "cell_type": "code",
   "execution_count": 30,
   "metadata": {},
   "outputs": [
    {
     "name": "stdout",
     "output_type": "stream",
     "text": [
      "{'role': 'system', 'content': \"You are attempting to answer questions from an Authorised Dealer based only on the relevant documentation provided. You have only three options:\\n1) Answer the question. If you do this, your must preface to response with the word 'ANSWER:'. If possible also provide a reference to the relevant documentation for the user to cross-check. Use this if you are sure about your answer.\\n2) Request additional documentation. If, in the body of the relevant documentation, is a reference to another section of the document that is directly relevant, respond with the word 'SECTION:' followed by the section reference which looks like A.1(A)(i)(aa). \\n3) State 'NONE:' (and nothing else) in all cases where you are not confident about either of the first two options\\nPotentially relevant document section(s):\\nIntroduction \\n    In terms of Regulation 2(2), an Authorised Dealer shall not buy, borrow, receive, sell, lend or deliver any foreign currency or gold except for such purposes or on such conditions as the Treasury, as defined, may determine, subject to the delegation referred to above.\\n    This Currency and Exchanges Manual for Authorised Dealers (Authorised Dealer Manual) contains the permissions and conditions applicable to transactions in foreign exchange that may be undertaken by Authorised Dealers and/or on behalf of their clients in terms of Regulation 2(2), details of related administrative responsibilities as well as the FinSurv Reporting requirements. This Authorised Dealer Manual must be read in conjunction with the Regulations and Authorised Dealers may transact without reference to the Financial Surveillance Department, provided such transactions are permitted in terms of this Authorised Dealer Manual.\\n    The arrangements set out in the Authorised Dealer Manual should in no manner be construed as absolving Authorised Dealers, their clients and associated entities from their duties and obligations under any other law, including but not limited to the Prevention of Organised Crime Act, 1998 (Act No. 121 of 1998), the Financial Intelligence Centre Act, 2001 (Act No. 38 of 2001) and the Protection of Constitutional Democracy against Terrorist and Related Activities Act, 2004 (Act No. 33 of 2004).\\n    The Financial Surveillance Department views contraventions of the Exchange Control Regulations, as well as any actions to circumvent the permissions and conditions contained in the Authorised Dealer Manual, in a very serious light.\\n    The Financial Surveillance Department reserves the right to amend, grant or impose additional permissions or conditions, with new or amended permissions or conditions which will be communicated by the Financial Surveillance Department on its website.\\n    In instances where an Authorised Dealer is not in a position to buy, borrow, sell or lend foreign currency in terms of the permissions and conditions set out in the Authorised Dealer Manual, an official application with full details applicable to the request must be submitted to the Financial Surveillance Department.\\n    For the benefit of the general public, Currency and Exchanges guidelines for business entities and Currency and Exchanges guidelines for individuals have been published by the Financial Surveillance Department. These guidelines set out, in less technical terms, the permissions and conditions relating to cross-border foreign transactions.\\n    The Authorised Dealer Manual, ADLA Manual, Currency and Exchanges guidelines for business entities, Currency and Exchanges guidelines for individuals and applicable amendments thereto are available on the South African Reserve Bank's website: www.resbank.co.za.\\nC. Gold\\n    (C) Acquisition of gold for trade purposes\\n        (i) The acquisition of gold for legitimate trade purposes by e.g. manufacturing jewellers, dentists, is subject to the approval of the South African Diamond and Precious Metals Regulator.\\n        (ii) After receiving such approval, a permit must be obtained from SARS which will entitle the permit holder to approach Rand Refinery Limited for an allocation of gold.\\n        (iii) The holders of gold, having received the approvals outlined above, are exempt from the provisions of Regulation 5(1).\\nC. Gold\\n    (B) Other exports of gold\\n        (i) All applications for permission to export gold in any form should be referred to the South African Diamond and Precious Metals Regulator.\"}\n",
      "{'role': 'user', 'content': 'Who can trade gold?'}\n",
      "Flag: ANSWER:\n",
      "Response:  Gold can be traded by individuals or entities who have obtained the necessary approvals and permits from the South African Diamond and Precious Metals Regulator. (Reference: C. Gold (C)(i) - Acquisition of gold for trade purposes)\n"
     ]
    }
   ],
   "source": [
    "flag, response = excon.resource_augmented_query(user_context, model_to_use = model_to_use, temperature = 0.0, max_tokens = 512, df_definitions = df_definitions, df_search_sections = df_search_sections)\n",
    "print(f\"Flag: {flag}\")\n",
    "print(f'Response: {response}')\n"
   ]
  },
  {
   "cell_type": "code",
   "execution_count": 12,
   "metadata": {},
   "outputs": [
    {
     "name": "stdout",
     "output_type": "stream",
     "text": [
      "### User Input\n",
      "A non-resident wants to buy residential property in South Africa. What are the restrictions around doing this?\n",
      "\n",
      "\n",
      "### Response\n",
      "Non-residents are generally allowed to purchase residential property in South Africa. However, there are some restrictions and requirements that need to be met. According to section I.1(E)(i) of the Exchange Control Manual for Authorised Dealers, non-residents can be granted local financial assistance facilities for the acquisition of residential property, subject to normal lending criteria. \n",
      "\n",
      "Additionally, any facility being made available to a non-resident must be secured by an unencumbered Rand deposit or Rand-based asset of equal or higher value. The facility granted to the non-resident should not cause the borrower to exceed 100% of the Rand value of funds introduced from abroad and invested locally. \n",
      "\n",
      "It is important to note that facilities granted for the acquisition of fixed property cannot be increased based on a revaluation of the property at any stage. \n",
      "\n",
      "Reference: Exchange Control Manual for Authorised Dealers, Section I.1(E)(i)\n",
      "\n",
      "\n",
      "### Reference\n",
      "I.1 Local financial assistance to affected persons and non-residents\n",
      "    (E) Non-residents\n",
      "        (i) Authorised Dealers may grant or authorise local financial assistance facilities to non-residents in respect of bona fide foreign direct investment in South Africa without restrictions, except where the funds are required for financial transactions and/or the acquisition of residential or commercial property in South Africa, the 1:1 ratio will apply.\n"
     ]
    }
   ],
   "source": [
    "print(\"### User Input\")\n",
    "print(user_context)\n",
    "print(\"\\n\")\n",
    "\n",
    "message = excon.messages[-1][\"content\"]\n",
    "print('### Response')\n",
    "print(message)\n",
    "print(\"\\n\")\n",
    "\n",
    "print(\"### Reference\")\n",
    "reference = message.split('\\n')[-1]\n",
    "print(excon.get_regulation_detail(reference))\n"
   ]
  },
  {
   "cell_type": "code",
   "execution_count": 9,
   "metadata": {},
   "outputs": [
    {
     "data": {
      "text/plain": [
       "'No section could be found with the reference I.(E)(ii)'"
      ]
     },
     "execution_count": 9,
     "metadata": {},
     "output_type": "execute_result"
    }
   ],
   "source": [
    "excon.get_regulation_detail('I.(1)(E)(ii)')"
   ]
  },
  {
   "cell_type": "code",
   "execution_count": 4,
   "metadata": {},
   "outputs": [],
   "source": [
    "#user_context = \"What is a CFC Account?\"\n",
    "#user_context = \"I am submitting documentation to the financial surveillance department. What information do I need to include in my submission?\" # (A.3 (B))\n",
    "#user_context = \"Can a bank provide foreign currency denominated facilities to a South African Corporate?\" #  (A.3 (B))\n",
    "#user_context = \"For how long does the approval for a facility remain valid?\" #  (A.3 (B))\n",
    "#user_context = \"Other than authorised transaction requests, are there requirements for authorised dealers to submit information to the financial surveillance department?\" #  (A.3 (B))\n",
    "#user_context = \"I have been asked to act on an approval issued to another bank. Can I do that?\" #  (A.3 (B))\n",
    "#####user_context = \"--- Same as above but use \"Authorised Dealer\" instead of \"Bank\"\n",
    "#user_context = \"If I am concerned that as client may in breach of regulations, what should I do?\" #  (A.3 (B))\n",
    "#user_context = \"What constitutes 'documentary evidence' for a foreign currency transaction?\" #  (A.3 (C))\n",
    "#user_context = \"Is Swaziland part of the CMA?\" #  (A.3 (E))\n",
    "#user_context = \"A client wants to buy Namibian Dollars. What approvals do they need before they can do this?\" #  (A.3 (E))\n",
    "#user_context = \"A person from Lesotho wants to buy dollars from me. Can I sell them the dollars?\" #  (A.3 (E))\n",
    "#user_context = \"A person from Namibia wants to buy rand from me. Can I sell them the rand?\" #  (A.3 (E))\n",
    "#user_context = \"A treasury management company wants to trade dollars with me. What do I need to check before I can do this?\" #  (A.4 (B))\n",
    "#user_context = \"A client wants to import goods and pay in foreign currency. What documentation do I need before I can assist with the transaction\" #  (B.1 (B))\n",
    "#user_context = \"Over and above the price of the goods, what additional costs can be covered in foreign currency?\" #  (B.1 (C))\n",
    "#user_context = \"Can advance payment be made in a foreign currency to cover imported goods?\" #  (B.1 (D)(i))\n",
    "\n",
    "#user_context = \"Can advance payment be made in a foreign currency to cover imported capital goods?\" #  (B.1 (D)(ii))\n",
    "#user_context = \"When paying for imports in cash, what documentation is required before providing the foreign currency?\" #  (B.1 (D)(iii))\n",
    "\n",
    "#user_context = \"Can imported goods be financed over more than 12 months?\" #  (B.1 (D)(iv))\n",
    "#user_context = \"How much money can an individual invest internationally?\" #  ?\n",
    "#user_context = \"How much money can an individual take offshore?\" #  ?\n",
    "\n",
    "#user_context = \"A media company want to list offshore. Are there specific conditions for this?\"\n",
    "# user_context = \"How many rands can a resident take offshore in cash?\"\n",
    "#user_context = \"Can I grant a foreign company a Rand facility to pay for goods they wish to purchase from a South African exporter?\"\n",
    "#user_context = \"Can I support a non-residential entity with short-term rand trade finance for their exports from South Africa?\"\n",
    "#user_context = \"Hi\"\n",
    "#user_context = \"Who can trade gold?\"\n",
    "#user_context = \"are there specific exchange control rules for religious organizations?\"\n",
    "#user_context = \"How much foreign currency can a charity take offshore each year?\"\n",
    "\n"
   ]
  },
  {
   "cell_type": "code",
   "execution_count": null,
   "metadata": {},
   "outputs": [],
   "source": []
  }
 ],
 "metadata": {
  "kernelspec": {
   "display_name": "Python 3.10.4 ('env': venv)",
   "language": "python",
   "name": "python3"
  },
  "language_info": {
   "codemirror_mode": {
    "name": "ipython",
    "version": 3
   },
   "file_extension": ".py",
   "mimetype": "text/x-python",
   "name": "python",
   "nbconvert_exporter": "python",
   "pygments_lexer": "ipython3",
   "version": "3.10.4"
  },
  "orig_nbformat": 4,
  "vscode": {
   "interpreter": {
    "hash": "007219f1a1c0c3993c3211d5a541b1fa109902aadb48cb5499ee55023bf45452"
   }
  }
 },
 "nbformat": 4,
 "nbformat_minor": 2
}
