{
 "cells": [
  {
   "cell_type": "code",
   "execution_count": 9,
   "metadata": {},
   "outputs": [],
   "source": [
    "import importlib\n",
    "import src.chat_bot\n",
    "importlib.reload(src.chat_bot)\n",
    "from src.chat_bot import ExconManual"
   ]
  },
  {
   "cell_type": "code",
   "execution_count": 10,
   "metadata": {},
   "outputs": [
    {
     "name": "stdout",
     "output_type": "stream",
     "text": [
      "Loaded Authorised Dealer Manual\n"
     ]
    }
   ],
   "source": [
    "ad = True\n",
    "#ad = False # = ADLA chat\n",
    "if ad:\n",
    "    print(\"Loaded Authorised Dealer Manual\")\n",
    "else:\n",
    "    print(\"Loaded ADLA manual\")\n",
    "\n",
    "#logging_level = 15\n",
    "logging_level = 20\n",
    "log_file = ''\n",
    "\n",
    "if ad:\n",
    "    path_to_manual_as_csv_file = \"./inputs/ad_manual.csv\"\n",
    "    path_to_definitions_as_parquet_file = \"./inputs/ad_definitions.parquet\"\n",
    "    path_to_index_as_parquet_file = \"./inputs/ad_index.parquet\"\n",
    "    chat_for_ad = True\n",
    "else:\n",
    "    path_to_manual_as_csv_file = \"./inputs/adla_manual.csv\"\n",
    "    path_to_definitions_as_parquet_file = \"./inputs/adla_definitions.parquet\"\n",
    "    path_to_index_as_parquet_file = \"./inputs/adla_index.parquet\"\n",
    "    chat_for_ad = False\n",
    "\n",
    "\n",
    "excon = ExconManual(path_to_manual_as_csv_file, path_to_definitions_as_parquet_file, path_to_index_as_parquet_file, chat_for_ad = chat_for_ad, log_file=log_file, logging_level=logging_level)\n"
   ]
  },
  {
   "cell_type": "code",
   "execution_count": 19,
   "metadata": {},
   "outputs": [
    {
     "data": {
      "text/plain": [
       "'B.2 Operational conditions applicable to conducting the business of an Authorised Dealer in foreign exchange with limited authority\\n    (A) Governance\\n    The following operational conditions must be adhered to by an ADLA:\\n        (xii) As an exception to (xi) above, ADLAs may accord foreign currency to foreign diplomats, accredited foreign diplomatic staff, students with a valid student card from other CMA countries whilst in South Africa as well as CMA residents working and residing in South Africa, provided the CMA resident can substantiate that the value of such funds is reasonable in relation to their income generating activities in South Africa. Also see sections B.1(A)(ii)(d)(aa)(2), (3) and B.1(B)(ii)(d)(aa) of the ADLA Manual.'"
      ]
     },
     "execution_count": 19,
     "metadata": {},
     "output_type": "execute_result"
    }
   ],
   "source": [
    "excon.get_regulation_detail(\"B.2(A)(xii)\")"
   ]
  },
  {
   "cell_type": "code",
   "execution_count": 3,
   "metadata": {},
   "outputs": [],
   "source": [
    "#model_to_use=\"gpt-3.5-turbo\"\n",
    "model_to_use = \"gpt-4-1106-preview\"\n",
    "#model_to_use=\"gpt-4\"\n",
    "#model_to_use=\"gpt-3.5-turbo-16k\""
   ]
  },
  {
   "cell_type": "code",
   "execution_count": 16,
   "metadata": {},
   "outputs": [
    {
     "name": "stderr",
     "output_type": "stream",
     "text": [
      "INFO:src.chat_bot:user: A non-resident wants to buy residential property in South Africa. What are the restrictions around doing this?\n",
      "INFO:src.chat_bot:\n",
      "You are attempting to answer questions from an Authorised Dealer (AD) based only on the relevant documentation provided. You have only three options:\n",
      "1) Answer the question. If you do this, your must preface to response with the word 'ANSWER:'. If possible also provide a reference to the relevant documentation for the user to cross-check. Use this if you are sure about your answer.\n",
      "2) Request additional documentation. If, in the body of the relevant documentation, is a reference to another section of the document that is directly relevant, respond with the word 'SECTION:' followed by the section reference which looks like A.1(A)(i)(aa). \n",
      "3) State 'NONE:' (and nothing else) in all cases where you are not confident about either of the first two options\n",
      "Potentially relevant definition(s):\n",
      "Resident means any person (i.e. a natural person or legal entity) who has taken up permanent residence, is domiciled or registered in South Africa. For the purpose of the Authorised Dealer Manual, this excludes any approved offshore investments held by South African residents outside the CMA. However, such entities are still subject to exchange control rules and the Regulations. \n",
      "Resident temporarily abroad means any resident who has departed from South Africa to any country outside the CMA with no intention of taking up residence or who has not been granted permanent residence in another country, excluding those residents who are abroad on holiday or business travel. \n",
      "Resident account means the account of a person resident, domiciled or registered in South Africa, including that of a CMA resident. \n",
      "Potentially relevant document section(s):\n",
      "G. Securities control\n",
      "    (C) South African assets owned by non-residents\n",
      "        (i) Non-residents may freely invest in South Africa, provided that suitable documentary evidence is viewed in order to ensure that such transactions are concluded at arm's length, at fair market related prices and are financed in an approved manner. In this regard, such financing must be in the form of the introduction of foreign currency, Rand from a Non-resident Rand account in the name of the non-resident and/or Rand from a vostro account held in the books of the Authorised Dealer or in terms of the provisions of section I.1 of the Authorised Dealer Manual. The creation of any loan account between a resident and a non-resident would require the prior written approval of the Financial Surveillance Department.\n",
      "        (ii) The local sale or redemption proceeds of non-resident owned assets in South Africa may be regarded as freely transferable. Such proceeds may also be freely used in the CMA by non-residents for investment and other purposes, and may accordingly be credited to Non-resident Rand accounts. The provisions of subsection (D) below should be noted.\n",
      "        (iii) Stockbrokers may not retain, uninvested in their possession, the cash proceeds of securities sold on behalf of non-residents. Such funds must be paid to the credit of a Non-resident Rand account with an Authorised Bank with whom each stockbroking firm may, for this purpose, maintain a single Non-resident Rand account in its own name to handle the share transactions of non-resident clients.\n",
      "B.10 Insurance and pensions\n",
      "    (F) Short-term insurance by non-residents\n",
      "        (i) Short-term insurance policies may be issued to non-residents by registered South African insurance companies and intermediaries in Rand or in any foreign currency. Authorised Dealers must, however, satisfy themselves that premiums in respect thereof are received in South Africa and converted to Rand or, if authorised, credited to a CFC account as referred to in subsection (D)(iv) above.\n",
      "        (ii) Any funds due by registered South African insurance companies in settlement of claims lodged by non-residents may be transferred abroad or, if authorised, released by the Authorised Dealer concerned from a CFC account.\n",
      "        (iii) Losses payable and account balances due by registered South African insurance companies on facultative and treaty reinsurance may also be transferred abroad or, if authorised, released by the Authorised Dealer concerned from a CFC account, provided that the request is supported by a statement of account reflecting details of the losses or account balances to be settled. Care must be exercised to ensure that only debits and credits referred to in subsection (C)(iii) above are reflected on the accounts before authorising settlement of outstanding account balances.\n",
      "I.1 Local financial assistance to affected persons and non-residents\n",
      "    (E) Non-residents\n",
      "        (i) Authorised Dealers may grant or authorise local financial assistance facilities to non-residents in respect of bona fide foreign direct investment in South Africa without restrictions, except where the funds are required for financial transactions and/or the acquisition of residential or commercial property in South Africa, the 1:1 ratio will apply.\n",
      "        (ii) As an exception to (i) above, Authorised Dealers may grant or authorise local financial assistance facilities to non-residents living and working in South Africa in respect of the acquisition of residential property, subject to normal lending criteria.\n",
      "        (iii) Any facility being made available to a non-resident party must be secured by an unencumbered Rand deposit or Rand based asset of equal or higher value. In addition, any facility accorded to the non-resident in respect of the aforementioned may not cause the borrower to exceed 100 per cent of the Rand value of funds introduced from abroad and invested locally.\n",
      "        (iv) If facilities are granted for the acquisition of fixed property, such facilities may not be increased at any stage based on a revaluation of the property in question.\n",
      "ERROR:src.chat_bot:The LLM asked for an additional valid reference G.(C)(i) but we could not determine which section referred to it\n"
     ]
    },
    {
     "ename": "ValueError",
     "evalue": "cannot set a row with mismatched columns",
     "output_type": "error",
     "traceback": [
      "\u001b[1;31m---------------------------------------------------------------------------\u001b[0m",
      "\u001b[1;31mValueError\u001b[0m                                Traceback (most recent call last)",
      "Cell \u001b[1;32mIn[16], line 15\u001b[0m\n\u001b[0;32m      2\u001b[0m \u001b[38;5;66;03m#user_context = \"A South African citizen is emigrating. What is the process they need to follow to take all their cash offshore?\"\u001b[39;00m\n\u001b[0;32m      3\u001b[0m \u001b[38;5;66;03m#user_context = \"What is the Foreign investment limits for South African institutional investors?\"\u001b[39;00m\n\u001b[0;32m      4\u001b[0m \u001b[38;5;66;03m#user_context = \"Can a individual transfer his shares in a dual listed company to his offshore portfolio?\"\u001b[39;00m\n\u001b[1;32m   (...)\u001b[0m\n\u001b[0;32m     11\u001b[0m \n\u001b[0;32m     12\u001b[0m \u001b[38;5;66;03m#user_context = \"Who can trade gold?\"\u001b[39;00m\n\u001b[0;32m     14\u001b[0m excon\u001b[38;5;241m.\u001b[39mreset_conversation_history()\n\u001b[1;32m---> 15\u001b[0m \u001b[43mexcon\u001b[49m\u001b[38;5;241;43m.\u001b[39;49m\u001b[43muser_provides_input\u001b[49m\u001b[43m(\u001b[49m\u001b[43muser_context\u001b[49m\u001b[43m,\u001b[49m\u001b[43m \u001b[49m\u001b[43mthreshold\u001b[49m\u001b[38;5;241;43m=\u001b[39;49m\u001b[38;5;241;43m0.15\u001b[39;49m\u001b[43m,\u001b[49m\u001b[43m \u001b[49m\u001b[43mmodel_to_use\u001b[49m\u001b[38;5;241;43m=\u001b[39;49m\u001b[43mmodel_to_use\u001b[49m\u001b[43m,\u001b[49m\u001b[43m \u001b[49m\u001b[43mtemperature\u001b[49m\u001b[38;5;241;43m=\u001b[39;49m\u001b[38;5;241;43m0\u001b[39;49m\u001b[43m,\u001b[49m\u001b[43m \u001b[49m\u001b[43mmax_tokens\u001b[49m\u001b[38;5;241;43m=\u001b[39;49m\u001b[38;5;241;43m300\u001b[39;49m\u001b[43m)\u001b[49m\n\u001b[0;32m     16\u001b[0m \u001b[38;5;28mprint\u001b[39m(excon\u001b[38;5;241m.\u001b[39mmessages[\u001b[38;5;241m-\u001b[39m\u001b[38;5;241m1\u001b[39m][\u001b[38;5;124m\"\u001b[39m\u001b[38;5;124mcontent\u001b[39m\u001b[38;5;124m\"\u001b[39m])\n",
      "File \u001b[1;32me:\\Code\\pdf\\excon\\src\\chat_bot.py:158\u001b[0m, in \u001b[0;36mExconManual.user_provides_input\u001b[1;34m(self, user_context, threshold, model_to_use, temperature, max_tokens, testing, manual_responses_for_testing)\u001b[0m\n\u001b[0;32m    156\u001b[0m     \u001b[39mself\u001b[39m\u001b[39m.\u001b[39mmessages\u001b[39m.\u001b[39mappend({\u001b[39m\"\u001b[39m\u001b[39mrole\u001b[39m\u001b[39m\"\u001b[39m: \u001b[39m\"\u001b[39m\u001b[39massistant\u001b[39m\u001b[39m\"\u001b[39m, \u001b[39m\"\u001b[39m\u001b[39mcontent\u001b[39m\u001b[39m\"\u001b[39m: \u001b[39mself\u001b[39m\u001b[39m.\u001b[39massistant_msg_stuck}) \n\u001b[0;32m    157\u001b[0m     \u001b[39mreturn\u001b[39;00m                    \n\u001b[1;32m--> 158\u001b[0m df_search_sections \u001b[39m=\u001b[39m \u001b[39mself\u001b[39;49m\u001b[39m.\u001b[39;49madd_section_to_resource(modified_section_to_add, df_search_sections)\n\u001b[0;32m    159\u001b[0m \u001b[39mif\u001b[39;00m \u001b[39mself\u001b[39m\u001b[39m.\u001b[39msystem_state \u001b[39m==\u001b[39m \u001b[39mself\u001b[39m\u001b[39m.\u001b[39msystem_states[\u001b[39m2\u001b[39m]: \u001b[39m# \"requires_additional_sections\"\u001b[39;00m\n\u001b[0;32m    160\u001b[0m     \u001b[39m# TODO: Do you want to ask the user for help?\u001b[39;00m\n\u001b[0;32m    161\u001b[0m     \u001b[39mself\u001b[39m\u001b[39m.\u001b[39mlogger\u001b[39m.\u001b[39minfo(\u001b[39m\"\u001b[39m\u001b[39mRequest to add resources failed\u001b[39m\u001b[39m\"\u001b[39m)\n",
      "File \u001b[1;32me:\\Code\\pdf\\excon\\src\\chat_bot.py:231\u001b[0m, in \u001b[0;36mExconManual.add_section_to_resource\u001b[1;34m(self, section_to_add, df_search_sections)\u001b[0m\n\u001b[0;32m    229\u001b[0m raw_text \u001b[39m=\u001b[39m \u001b[39mself\u001b[39m\u001b[39m.\u001b[39mget_regulation_detail(section)\n\u001b[0;32m    230\u001b[0m token_count \u001b[39m=\u001b[39m num_tokens_from_string(raw_text)\n\u001b[1;32m--> 231\u001b[0m df_search_sections\u001b[39m.\u001b[39;49mloc[\u001b[39mlen\u001b[39;49m(df_search_sections\u001b[39m.\u001b[39;49mindex)] \u001b[39m=\u001b[39m [section, count, raw_text, token_count]\n\u001b[0;32m    232\u001b[0m \u001b[39mreturn\u001b[39;00m df_search_sections\n",
      "File \u001b[1;32me:\\Code\\pdf\\excon\\env\\lib\\site-packages\\pandas\\core\\indexing.py:885\u001b[0m, in \u001b[0;36m_LocationIndexer.__setitem__\u001b[1;34m(self, key, value)\u001b[0m\n\u001b[0;32m    882\u001b[0m \u001b[39mself\u001b[39m\u001b[39m.\u001b[39m_has_valid_setitem_indexer(key)\n\u001b[0;32m    884\u001b[0m iloc \u001b[39m=\u001b[39m \u001b[39mself\u001b[39m \u001b[39mif\u001b[39;00m \u001b[39mself\u001b[39m\u001b[39m.\u001b[39mname \u001b[39m==\u001b[39m \u001b[39m\"\u001b[39m\u001b[39miloc\u001b[39m\u001b[39m\"\u001b[39m \u001b[39melse\u001b[39;00m \u001b[39mself\u001b[39m\u001b[39m.\u001b[39mobj\u001b[39m.\u001b[39miloc\n\u001b[1;32m--> 885\u001b[0m iloc\u001b[39m.\u001b[39;49m_setitem_with_indexer(indexer, value, \u001b[39mself\u001b[39;49m\u001b[39m.\u001b[39;49mname)\n",
      "File \u001b[1;32me:\\Code\\pdf\\excon\\env\\lib\\site-packages\\pandas\\core\\indexing.py:1883\u001b[0m, in \u001b[0;36m_iLocIndexer._setitem_with_indexer\u001b[1;34m(self, indexer, value, name)\u001b[0m\n\u001b[0;32m   1880\u001b[0m     indexer, missing \u001b[39m=\u001b[39m convert_missing_indexer(indexer)\n\u001b[0;32m   1882\u001b[0m     \u001b[39mif\u001b[39;00m missing:\n\u001b[1;32m-> 1883\u001b[0m         \u001b[39mself\u001b[39;49m\u001b[39m.\u001b[39;49m_setitem_with_indexer_missing(indexer, value)\n\u001b[0;32m   1884\u001b[0m         \u001b[39mreturn\u001b[39;00m\n\u001b[0;32m   1886\u001b[0m \u001b[39mif\u001b[39;00m name \u001b[39m==\u001b[39m \u001b[39m\"\u001b[39m\u001b[39mloc\u001b[39m\u001b[39m\"\u001b[39m:\n\u001b[0;32m   1887\u001b[0m     \u001b[39m# must come after setting of missing\u001b[39;00m\n",
      "File \u001b[1;32me:\\Code\\pdf\\excon\\env\\lib\\site-packages\\pandas\\core\\indexing.py:2219\u001b[0m, in \u001b[0;36m_iLocIndexer._setitem_with_indexer_missing\u001b[1;34m(self, indexer, value)\u001b[0m\n\u001b[0;32m   2216\u001b[0m     \u001b[39mif\u001b[39;00m is_list_like_indexer(value):\n\u001b[0;32m   2217\u001b[0m         \u001b[39m# must have conforming columns\u001b[39;00m\n\u001b[0;32m   2218\u001b[0m         \u001b[39mif\u001b[39;00m \u001b[39mlen\u001b[39m(value) \u001b[39m!=\u001b[39m \u001b[39mlen\u001b[39m(\u001b[39mself\u001b[39m\u001b[39m.\u001b[39mobj\u001b[39m.\u001b[39mcolumns):\n\u001b[1;32m-> 2219\u001b[0m             \u001b[39mraise\u001b[39;00m \u001b[39mValueError\u001b[39;00m(\u001b[39m\"\u001b[39m\u001b[39mcannot set a row with mismatched columns\u001b[39m\u001b[39m\"\u001b[39m)\n\u001b[0;32m   2221\u001b[0m     value \u001b[39m=\u001b[39m Series(value, index\u001b[39m=\u001b[39m\u001b[39mself\u001b[39m\u001b[39m.\u001b[39mobj\u001b[39m.\u001b[39mcolumns, name\u001b[39m=\u001b[39mindexer)\n\u001b[0;32m   2223\u001b[0m \u001b[39mif\u001b[39;00m \u001b[39mnot\u001b[39;00m \u001b[39mlen\u001b[39m(\u001b[39mself\u001b[39m\u001b[39m.\u001b[39mobj):\n\u001b[0;32m   2224\u001b[0m     \u001b[39m# We will ignore the existing dtypes instead of using\u001b[39;00m\n\u001b[0;32m   2225\u001b[0m     \u001b[39m#  internals.concat logic\u001b[39;00m\n",
      "\u001b[1;31mValueError\u001b[0m: cannot set a row with mismatched columns"
     ]
    }
   ],
   "source": [
    "user_context = \"A non-resident wants to buy residential property in South Africa. What are the restrictions around doing this?\"\n",
    "#user_context = \"A South African citizen is emigrating. What is the process they need to follow to take all their cash offshore?\"\n",
    "#user_context = \"What is the Foreign investment limits for South African institutional investors?\"\n",
    "#user_context = \"Can a individual transfer his shares in a dual listed company to his offshore portfolio?\"\n",
    "\n",
    "#user_context = \"Can cash balances for individuals who are no longer tax resident be transferred offshore?\"\n",
    "\n",
    "#user_context = \"How do I need to report outbound cross-boarder payments?\"\n",
    "\n",
    "#user_context = \"Are there different categories for ALDAs?\"\n",
    "\n",
    "#user_context = \"Who can trade gold?\"\n",
    "\n",
    "excon.reset_conversation_history()\n",
    "excon.user_provides_input(user_context, threshold=0.15, model_to_use=model_to_use, temperature=0, max_tokens=300)\n",
    "print(excon.messages[-1][\"content\"])\n"
   ]
  },
  {
   "cell_type": "code",
   "execution_count": 16,
   "metadata": {},
   "outputs": [
    {
     "data": {
      "text/plain": [
       "\"C.1 FinSurv Reporting System\\n    (E) Inward payments\\n        (ii) Integrated form\\n            (a) The integrated form is applicable to all transactions reported under the BOPCUS module.\\n            (b) Transactions reported by ADLAs under the 'NON REPORTABLE' and 'INTERBANK' modules do not require an integrated form.\\n            (c) ADLAs must make use of an integrated form in respect of all inward payments either in hard copy or electronic format to obtain data required for the processing and reporting of all BOPCUS cross- border foreign exchange transactions to the Financial Surveillance Department.\\n            (d) When the client is physically present at the ADLA, the integrated form must be completed and signed by the client in respect of all inward payments.\\n            (e) When the client is not physically present to complete and sign the integrated form, the ADLA may complete and sign the integrated form either physically or electronically, provided that the ADLA has been authorised or mandated to do so by means of a letter, a facsimile message, an email message or by a recorded telephonic message to act on the client's behalf.\\n            (f) The client's communication must be retained by the ADLA for a period of five years for inspection purposes.\""
      ]
     },
     "execution_count": 16,
     "metadata": {},
     "output_type": "execute_result"
    }
   ],
   "source": [
    "excon.get_regulation_detail(\"C.1(E)(ii)\")"
   ]
  },
  {
   "cell_type": "code",
   "execution_count": 30,
   "metadata": {},
   "outputs": [
    {
     "name": "stdout",
     "output_type": "stream",
     "text": [
      "{'role': 'system', 'content': \"You are attempting to answer questions from an Authorised Dealer based only on the relevant documentation provided. You have only three options:\\n1) Answer the question. If you do this, your must preface to response with the word 'ANSWER:'. If possible also provide a reference to the relevant documentation for the user to cross-check. Use this if you are sure about your answer.\\n2) Request additional documentation. If, in the body of the relevant documentation, is a reference to another section of the document that is directly relevant, respond with the word 'SECTION:' followed by the section reference which looks like A.1(A)(i)(aa). \\n3) State 'NONE:' (and nothing else) in all cases where you are not confident about either of the first two options\\nPotentially relevant document section(s):\\nIntroduction \\n    In terms of Regulation 2(2), an Authorised Dealer shall not buy, borrow, receive, sell, lend or deliver any foreign currency or gold except for such purposes or on such conditions as the Treasury, as defined, may determine, subject to the delegation referred to above.\\n    This Currency and Exchanges Manual for Authorised Dealers (Authorised Dealer Manual) contains the permissions and conditions applicable to transactions in foreign exchange that may be undertaken by Authorised Dealers and/or on behalf of their clients in terms of Regulation 2(2), details of related administrative responsibilities as well as the FinSurv Reporting requirements. This Authorised Dealer Manual must be read in conjunction with the Regulations and Authorised Dealers may transact without reference to the Financial Surveillance Department, provided such transactions are permitted in terms of this Authorised Dealer Manual.\\n    The arrangements set out in the Authorised Dealer Manual should in no manner be construed as absolving Authorised Dealers, their clients and associated entities from their duties and obligations under any other law, including but not limited to the Prevention of Organised Crime Act, 1998 (Act No. 121 of 1998), the Financial Intelligence Centre Act, 2001 (Act No. 38 of 2001) and the Protection of Constitutional Democracy against Terrorist and Related Activities Act, 2004 (Act No. 33 of 2004).\\n    The Financial Surveillance Department views contraventions of the Exchange Control Regulations, as well as any actions to circumvent the permissions and conditions contained in the Authorised Dealer Manual, in a very serious light.\\n    The Financial Surveillance Department reserves the right to amend, grant or impose additional permissions or conditions, with new or amended permissions or conditions which will be communicated by the Financial Surveillance Department on its website.\\n    In instances where an Authorised Dealer is not in a position to buy, borrow, sell or lend foreign currency in terms of the permissions and conditions set out in the Authorised Dealer Manual, an official application with full details applicable to the request must be submitted to the Financial Surveillance Department.\\n    For the benefit of the general public, Currency and Exchanges guidelines for business entities and Currency and Exchanges guidelines for individuals have been published by the Financial Surveillance Department. These guidelines set out, in less technical terms, the permissions and conditions relating to cross-border foreign transactions.\\n    The Authorised Dealer Manual, ADLA Manual, Currency and Exchanges guidelines for business entities, Currency and Exchanges guidelines for individuals and applicable amendments thereto are available on the South African Reserve Bank's website: www.resbank.co.za.\\nC. Gold\\n    (C) Acquisition of gold for trade purposes\\n        (i) The acquisition of gold for legitimate trade purposes by e.g. manufacturing jewellers, dentists, is subject to the approval of the South African Diamond and Precious Metals Regulator.\\n        (ii) After receiving such approval, a permit must be obtained from SARS which will entitle the permit holder to approach Rand Refinery Limited for an allocation of gold.\\n        (iii) The holders of gold, having received the approvals outlined above, are exempt from the provisions of Regulation 5(1).\\nC. Gold\\n    (B) Other exports of gold\\n        (i) All applications for permission to export gold in any form should be referred to the South African Diamond and Precious Metals Regulator.\"}\n",
      "{'role': 'user', 'content': 'Who can trade gold?'}\n",
      "Flag: ANSWER:\n",
      "Response:  Gold can be traded by individuals or entities who have obtained the necessary approvals and permits from the South African Diamond and Precious Metals Regulator. (Reference: C. Gold (C)(i) - Acquisition of gold for trade purposes)\n"
     ]
    }
   ],
   "source": [
    "flag, response = excon.resource_augmented_query(user_context, model_to_use = model_to_use, temperature = 0.0, max_tokens = 512, df_definitions = df_definitions, df_search_sections = df_search_sections)\n",
    "print(f\"Flag: {flag}\")\n",
    "print(f'Response: {response}')\n"
   ]
  },
  {
   "cell_type": "code",
   "execution_count": 12,
   "metadata": {},
   "outputs": [
    {
     "name": "stdout",
     "output_type": "stream",
     "text": [
      "### User Input\n",
      "A non-resident wants to buy residential property in South Africa. What are the restrictions around doing this?\n",
      "\n",
      "\n",
      "### Response\n",
      "Non-residents are generally allowed to purchase residential property in South Africa. However, there are some restrictions and requirements that need to be met. According to section I.1(E)(i) of the Exchange Control Manual for Authorised Dealers, non-residents can be granted local financial assistance facilities for the acquisition of residential property, subject to normal lending criteria. \n",
      "\n",
      "Additionally, any facility being made available to a non-resident must be secured by an unencumbered Rand deposit or Rand-based asset of equal or higher value. The facility granted to the non-resident should not cause the borrower to exceed 100% of the Rand value of funds introduced from abroad and invested locally. \n",
      "\n",
      "It is important to note that facilities granted for the acquisition of fixed property cannot be increased based on a revaluation of the property at any stage. \n",
      "\n",
      "Reference: Exchange Control Manual for Authorised Dealers, Section I.1(E)(i)\n",
      "\n",
      "\n",
      "### Reference\n",
      "I.1 Local financial assistance to affected persons and non-residents\n",
      "    (E) Non-residents\n",
      "        (i) Authorised Dealers may grant or authorise local financial assistance facilities to non-residents in respect of bona fide foreign direct investment in South Africa without restrictions, except where the funds are required for financial transactions and/or the acquisition of residential or commercial property in South Africa, the 1:1 ratio will apply.\n"
     ]
    }
   ],
   "source": [
    "print(\"### User Input\")\n",
    "print(user_context)\n",
    "print(\"\\n\")\n",
    "\n",
    "message = excon.messages[-1][\"content\"]\n",
    "print('### Response')\n",
    "print(message)\n",
    "print(\"\\n\")\n",
    "\n",
    "print(\"### Reference\")\n",
    "reference = message.split('\\n')[-1]\n",
    "print(excon.get_regulation_detail(reference))\n"
   ]
  },
  {
   "cell_type": "code",
   "execution_count": 9,
   "metadata": {},
   "outputs": [
    {
     "data": {
      "text/plain": [
       "'No section could be found with the reference I.(E)(ii)'"
      ]
     },
     "execution_count": 9,
     "metadata": {},
     "output_type": "execute_result"
    }
   ],
   "source": [
    "excon.get_regulation_detail('I.(1)(E)(ii)')"
   ]
  },
  {
   "cell_type": "code",
   "execution_count": 4,
   "metadata": {},
   "outputs": [],
   "source": [
    "#user_context = \"What is a CFC Account?\"\n",
    "#user_context = \"I am submitting documentation to the financial surveillance department. What information do I need to include in my submission?\" # (A.3 (B))\n",
    "#user_context = \"Can a bank provide foreign currency denominated facilities to a South African Corporate?\" #  (A.3 (B))\n",
    "#user_context = \"For how long does the approval for a facility remain valid?\" #  (A.3 (B))\n",
    "#user_context = \"Other than authorised transaction requests, are there requirements for authorised dealers to submit information to the financial surveillance department?\" #  (A.3 (B))\n",
    "#user_context = \"I have been asked to act on an approval issued to another bank. Can I do that?\" #  (A.3 (B))\n",
    "#####user_context = \"--- Same as above but use \"Authorised Dealer\" instead of \"Bank\"\n",
    "#user_context = \"If I am concerned that as client may in breach of regulations, what should I do?\" #  (A.3 (B))\n",
    "#user_context = \"What constitutes 'documentary evidence' for a foreign currency transaction?\" #  (A.3 (C))\n",
    "#user_context = \"Is Swaziland part of the CMA?\" #  (A.3 (E))\n",
    "#user_context = \"A client wants to buy Namibian Dollars. What approvals do they need before they can do this?\" #  (A.3 (E))\n",
    "#user_context = \"A person from Lesotho wants to buy dollars from me. Can I sell them the dollars?\" #  (A.3 (E))\n",
    "#user_context = \"A person from Namibia wants to buy rand from me. Can I sell them the rand?\" #  (A.3 (E))\n",
    "#user_context = \"A treasury management company wants to trade dollars with me. What do I need to check before I can do this?\" #  (A.4 (B))\n",
    "#user_context = \"A client wants to import goods and pay in foreign currency. What documentation do I need before I can assist with the transaction\" #  (B.1 (B))\n",
    "#user_context = \"Over and above the price of the goods, what additional costs can be covered in foreign currency?\" #  (B.1 (C))\n",
    "#user_context = \"Can advance payment be made in a foreign currency to cover imported goods?\" #  (B.1 (D)(i))\n",
    "\n",
    "#user_context = \"Can advance payment be made in a foreign currency to cover imported capital goods?\" #  (B.1 (D)(ii))\n",
    "#user_context = \"When paying for imports in cash, what documentation is required before providing the foreign currency?\" #  (B.1 (D)(iii))\n",
    "\n",
    "#user_context = \"Can imported goods be financed over more than 12 months?\" #  (B.1 (D)(iv))\n",
    "#user_context = \"How much money can an individual invest internationally?\" #  ?\n",
    "#user_context = \"How much money can an individual take offshore?\" #  ?\n",
    "\n",
    "#user_context = \"A media company want to list offshore. Are there specific conditions for this?\"\n",
    "# user_context = \"How many rands can a resident take offshore in cash?\"\n",
    "#user_context = \"Can I grant a foreign company a Rand facility to pay for goods they wish to purchase from a South African exporter?\"\n",
    "#user_context = \"Can I support a non-residential entity with short-term rand trade finance for their exports from South Africa?\"\n",
    "#user_context = \"Hi\"\n",
    "#user_context = \"Who can trade gold?\"\n",
    "#user_context = \"are there specific exchange control rules for religious organizations?\"\n",
    "#user_context = \"How much foreign currency can a charity take offshore each year?\"\n",
    "\n"
   ]
  },
  {
   "cell_type": "code",
   "execution_count": null,
   "metadata": {},
   "outputs": [],
   "source": []
  }
 ],
 "metadata": {
  "kernelspec": {
   "display_name": "Python 3.10.4 ('env': venv)",
   "language": "python",
   "name": "python3"
  },
  "language_info": {
   "codemirror_mode": {
    "name": "ipython",
    "version": 3
   },
   "file_extension": ".py",
   "mimetype": "text/x-python",
   "name": "python",
   "nbconvert_exporter": "python",
   "pygments_lexer": "ipython3",
   "version": "3.10.4"
  },
  "orig_nbformat": 4,
  "vscode": {
   "interpreter": {
    "hash": "007219f1a1c0c3993c3211d5a541b1fa109902aadb48cb5499ee55023bf45452"
   }
  }
 },
 "nbformat": 4,
 "nbformat_minor": 2
}
