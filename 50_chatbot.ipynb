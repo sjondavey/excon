{
 "cells": [
  {
   "cell_type": "code",
   "execution_count": 1,
   "metadata": {},
   "outputs": [],
   "source": [
    "import importlib\n",
    "import src.chat_bot\n",
    "importlib.reload(src.chat_bot)\n",
    "from src.chat_bot import ExconManual"
   ]
  },
  {
   "cell_type": "code",
   "execution_count": 2,
   "metadata": {},
   "outputs": [
    {
     "name": "stdout",
     "output_type": "stream",
     "text": [
      "Loaded ADLA manual\n"
     ]
    }
   ],
   "source": [
    "#ad = True\n",
    "ad = False # = ADLA chat\n",
    "if ad:\n",
    "    print(\"Loaded Authorised Dealer Manual\")\n",
    "else:\n",
    "    print(\"Loaded ADLA manual\")\n",
    "\n",
    "logging_level = 15\n",
    "#logging_level = 20\n",
    "log_file = ''\n",
    "\n",
    "if ad:\n",
    "    path_to_manual_as_csv_file = \"./inputs/ad_manual.csv\"\n",
    "    path_to_definitions_as_parquet_file = \"./inputs/ad_definitions.parquet\"\n",
    "    path_to_index_as_parquet_file = \"./inputs/ad_index.parquet\"\n",
    "    chat_for_ad = True\n",
    "else:\n",
    "    path_to_manual_as_csv_file = \"./inputs/adla_manual.csv\"\n",
    "    path_to_definitions_as_parquet_file = \"./inputs/adla_definitions.parquet\"\n",
    "    path_to_index_as_parquet_file = \"./inputs/adla_index.parquet\"\n",
    "    chat_for_ad = False\n",
    "\n",
    "\n",
    "excon = ExconManual(path_to_manual_as_csv_file, path_to_definitions_as_parquet_file, path_to_index_as_parquet_file, chat_for_ad = chat_for_ad, log_file=log_file, logging_level=logging_level)\n"
   ]
  },
  {
   "cell_type": "code",
   "execution_count": 4,
   "metadata": {},
   "outputs": [
    {
     "name": "stdout",
     "output_type": "stream",
     "text": [
      "A.3 The terms and conditions for submission of an application for authorisation to conduct the business of an Authorised Dealer in foreign exchange with limited authority\n",
      "    (B) Application procedure\n",
      "        (ii) The completed prescribed 'Application for authorisation to conduct the business of an Authorised Dealer in foreign exchange with limited authority, a copy of which is attached hereto as Annexure A, must be accompanied by the following information:\n",
      "            (a) a certified copy of the Notice of Incorporation (Form CoR14.1) issued by the CIPC, as proof of the registration of the limited liability company in South Africa under the Companies Act, 2008 (Act No. 71 of 2008);\n",
      "        (ii) the manner in which and the processes by which the ADLA conducts additional CDD measures in respect of legal persons, trusts and partnerships;\n"
     ]
    }
   ],
   "source": [
    "print(excon.get_regulation_detail(\"A.3 (B)(ii)(a)\"))"
   ]
  },
  {
   "cell_type": "code",
   "execution_count": 33,
   "metadata": {},
   "outputs": [],
   "source": [
    "model_to_use=\"gpt-3.5-turbo\"\n",
    "#model_to_use = \"gpt-4-1106-preview\"\n",
    "#model_to_use=\"gpt-4\"\n",
    "#model_to_use=\"gpt-3.5-turbo-16k\""
   ]
  },
  {
   "cell_type": "code",
   "execution_count": 34,
   "metadata": {},
   "outputs": [
    {
     "name": "stderr",
     "output_type": "stream",
     "text": [
      "INFO:src.chat_bot:User Question:\n",
      "If I want to offer cross-border payments, what license do I need?\n",
      "DEV:src.chat_bot:#################   Similarity Search       #################\n",
      "DEV:src.chat_bot:--   No relevant definitions found\n",
      "DEV:src.chat_bot:--   Relevant Sections\n",
      "DEV:src.chat_bot:0.1282:               C.1(E):        question: What are the reporting requirements for cross-border transactions?\n",
      "DEV:src.chat_bot:0.1494:         B.2(A)(xxii):        question: What are the requirements regarding foreign currency?\n",
      "DEV:src.chat_bot:0.1495:          B.1(B)(iii):        question: What guidelines should I follow while offering money remittance services?\n",
      "DEV:src.chat_bot:0.1498:            B.2(A)(x):        question: Are there specific rules for launching digital foreign exchange services?\n",
      "DEV:src.chat_bot:Top result: C.1(E) with a cosine distance of 0.1282\n",
      "DEV:src.chat_bot:No unique mode\n",
      "DEV:src.chat_bot:Only the top result added but more were found. Adding the next most likely answer\n",
      "DEV:src.chat_bot:--   Filtered Sections\n",
      "DEV:src.chat_bot:0.1282            :               C.1(E):  1\n",
      "DEV:src.chat_bot:0.1494            :         B.2(A)(xxii):  1\n",
      "DEV:src.chat_bot:0.1495            :          B.1(B)(iii):  1\n",
      "DEV:src.chat_bot:#################   RAG Prompts   #################\n",
      "INFO:src.chat_bot:System Prompt:\n",
      "You are answering questions for an Authorised Dealer with Limited Authority (ADLA) based only on the relevant sections from the 'Currency and Exchange Manual for Authorised Dealers in foreign exchange with limited authority' (Manual or CEMADLA) that are provided. You have three options:\n",
      "1) Answer the question. Preface an answer with the tag 'ANSWER:'. If possible, end the answer with the reference to the section or sections you used to answer the question.\n",
      "2) Request additional documentation. If, in the body of the sections provided, there is a reference to another section of the Manual that is directly relevant and not already provided, respond with the word 'SECTION:' followed by the full section reference.\n",
      "3) State 'NONE:' and nothing else in all other cases\n",
      "\n",
      "Note: In the manual sections are numbered like A.1(A) or C.(C)(iii)(c)(cc)(3). The first index uses the regex pattern r'[A-Z]\\.\\d(0, 2)'. Thereafter, each sub-index is surrounded by round brackets\n",
      "INFO:src.chat_bot:User Prompt with RAG:\n",
      "Question: If I want to offer cross-border payments, what license do I need?\n",
      "\n",
      "Sections from the Manual\n",
      "C.1 FinSurv Reporting System\n",
      "    (E) Inward payments\n",
      "        (i) General\n",
      "            (a) ADLAs must ensure the correct reporting of all cross-border foreign exchange transactions irrespective of the amounts and currencies involved.\n",
      "            (b) Data pertaining to transactions must be submitted to the Financial Surveillance Department in the various formats outlined in the Business and Technical Specifications document within five business days from the value date of the transaction.\n",
      "            (c) Rejections by the Financial Surveillance Department must be corrected and re-submitted in the agreed format within one business day from the date of the rejection.\n",
      "            (d) Warning messages by the Financial Surveillance Department must be thoroughly investigated and actioned within one business day from the date of the warning message and, where required, the appropriate remedial actions must be taken.\n",
      "        (ii) Integrated form\n",
      "            (a) The integrated form is applicable to all transactions reported under the BOPCUS module.\n",
      "            (b) Transactions reported by ADLAs under the 'NON REPORTABLE' and 'INTERBANK' modules do not require an integrated form.\n",
      "            (c) ADLAs must make use of an integrated form in respect of all inward payments either in hard copy or electronic format to obtain data required for the processing and reporting of all BOPCUS cross- border foreign exchange transactions to the Financial Surveillance Department.\n",
      "            (d) When the client is physically present at the ADLA, the integrated form must be completed and signed by the client in respect of all inward payments.\n",
      "            (e) When the client is not physically present to complete and sign the integrated form, the ADLA may complete and sign the integrated form either physically or electronically, provided that the ADLA has been authorised or mandated to do so by means of a letter, a facsimile message, an email message or by a recorded telephonic message to act on the client's behalf.\n",
      "            (f) The client's communication must be retained by the ADLA for a period of five years for inspection purposes.\n",
      "        (iii) Declaration\n",
      "        The following declaration must be included in the integrated form:\n",
      "        \"I, the undersigned……………………………………., hereby declare that:\n",
      "        1. I have read this document and know and understand the contents thereof;\n",
      "        2. the information furnished above is in all respects both true and correct;\n",
      "        3. the currency or transfer of value applied for will only be used for the specific purpose stated herein;\n",
      "        4. the documentation presented in support of this application is in all respects authentic;\n",
      "        5. I have been informed of the limit applicable to the above transaction and confirm that this limit will not be exceeded as a result of the conclusion of this transaction; and\n",
      "        6. I consent to this information being provided to the South African Revenue Service and/or the Financial Intelligence Centre.\"\n",
      "B.2 Operational conditions applicable to conducting the business of an Authorised Dealer in foreign exchange with limited authority\n",
      "    (A) Governance\n",
      "    The following operational conditions must be adhered to by an ADLA:\n",
      "        (xxii) An ADLA may not maintain a foreign currency float in excess of USD50 000 per branch without prior approval of the Financial Surveillance Department, inclusive of any stockpiled notes held directly or indirectly, as at the close of any business day. Any foreign currency balances in excess of this limit must be sold to an Authorised Dealer the following business day.\n",
      "B.1 Business activities of an Authorised Dealer in foreign exchange with limited authority\n",
      "    (B) Category Two: Bureaux de Change who can also offer money remittance services in partnership with external money transfer operators\n",
      "        (iii) External money transfer operators\n",
      "            (a) On application to the Financial Surveillance Department, consideration will be given to allow Category Two ADLAs to also offer money remittance services via external money transfer operators to facilitate cross-border transfers.\n",
      "            (b) The following principles must be complied with when a Category Two ADLA offers money remittance services via external money transfer operators to facilitate formal cross-border transfers:\n",
      "                (aa) the offering institution must take full responsibility and accountability for its compliance with the requirements of the\n",
      "                FIC Act in relation to the money remittance service which it will be offering;\n",
      "                (bb) the offering institution must have adequate resources and systems in place to meet its obligations under the FIC Act in respect of money remittance services it will be offering. More specifically, the offering institution's systems that will facilitate compliance with its obligations in terms of the FIC Act in relation to the remittance service it will be offering must be integrated with the rest of its systems for compliance with these obligations;\n",
      "                (cc) both the offering institution and any external money transfer operator with which the institution may enter into an agreement must guarantee that all information captured in relation to the use of the service provider's products and services in South Africa will be held and maintained in South Africa; and\n",
      "                (dd) both the external money transfer operator and the offering institution must have adequate client interface procedures as well as capturing and messaging systems in place to include the originator's identification information in the transfer message through which a sending transaction from South Africa is executed, in line with the Financial Action Task Force Recommendations.\n",
      "\n"
     ]
    },
    {
     "name": "stdout",
     "output_type": "stream",
     "text": [
      "Warning: gpt-3.5-turbo may update over time. Returning num tokens assuming gpt-3.5-turbo-0613.\n"
     ]
    },
    {
     "name": "stderr",
     "output_type": "stream",
     "text": [
      "INFO:src.chat_bot:assistant:\n",
      " If you want to offer cross-border payments, you would need to apply to the Financial Surveillance Department to become a Category Two ADLA. Category Two ADLAs are Bureaux de Change who can also offer money remittance services in partnership with external money transfer operators to facilitate cross-border transfers. However, there are certain principles that must be complied with, such as taking responsibility for compliance with the requirements of the FIC Act, having adequate resources and systems in place, guaranteeing that all information will be held and maintained in South Africa, and having adequate client interface procedures and capturing systems in place. (CEMADLA B.1(B)(iii)(a)-(dd))\n"
     ]
    },
    {
     "name": "stdout",
     "output_type": "stream",
     "text": [
      "If you want to offer cross-border payments, you would need to apply to the Financial Surveillance Department to become a Category Two ADLA. Category Two ADLAs are Bureaux de Change who can also offer money remittance services in partnership with external money transfer operators to facilitate cross-border transfers. However, there are certain principles that must be complied with, such as taking responsibility for compliance with the requirements of the FIC Act, having adequate resources and systems in place, guaranteeing that all information will be held and maintained in South Africa, and having adequate client interface procedures and capturing systems in place. (CEMADLA B.1(B)(iii)(a)-(dd))\n"
     ]
    }
   ],
   "source": [
    "#user_context = \"A non-resident wants to buy residential property in South Africa. What are the restrictions around doing this?\"\n",
    "#user_context = \"A South African citizen is emigrating. What is the process they need to follow to take all their cash offshore?\"\n",
    "#user_context = \"What is the Foreign investment limits for South African institutional investors?\"\n",
    "#user_context = \"Can a individual transfer his shares in a dual listed company to his offshore portfolio?\"\n",
    "#user_context = \"Can cash balances for individuals who are no longer tax resident be transferred offshore?\"\n",
    "#user_context = \"How do I need to report outbound cross-boarder payments?\"\n",
    "#user_context = \"Are there different categories for ALDAs?\"\n",
    "#user_context = \"Who can trade gold?\"\n",
    "\n",
    "#user_context = \"What documentary evidence is required?\"\n",
    "#user_context = \"What does cemad say about travel services?\"\n",
    "#user_context = \"Can I import gold?\"\n",
    "#user_context = \"how much money can an individual take offshore?\"\n",
    "#user_context = \"How much can an individual take offshore in a year?\"\n",
    "#user_context = \"what is the limit for commodities\"\n",
    "user_context = \"what does the regulation state about travel?\"\n",
    "#user_context = \"How much can adult residents use for travel?\"\n",
    "\n",
    "user_context = \"If I want to offer cross-border payments, what license do I need?\"\n",
    "\n",
    "excon.reset_conversation_history()\n",
    "excon.user_provides_input(user_context, threshold=0.15, model_to_use=model_to_use, temperature=0, max_tokens=300)\n",
    "print(excon.messages[-1][\"content\"])\n"
   ]
  },
  {
   "cell_type": "code",
   "execution_count": 7,
   "metadata": {},
   "outputs": [
    {
     "data": {
      "text/plain": [
       "[{'role': 'user',\n",
       "  'content': \"Question: what does the regulation state about travel?\\n\\nSections from the Manual\\nB.4 Single discretionary allowance and other miscellaneous payments for private individuals\\n    (B) Travel allowances\\n        (i) General\\n            (a) There is no limit on the amount of Rand that may be spent on travelling within the CMA.\\n            (b) Residents (natural persons) who are under the age of 18 years may not be accorded single discretionary allowance as outlined in subsection (A)(i) above, but may be accorded a travel allowance not exceeding an amount of R200 000 per calendar year.\\n            (c) In addition, up to R25 000 in cash, per person, may be taken when proceeding on visits outside the CMA, to meet travellers' immediate needs on return to South Africa.\\n            (d) When according travel allowances to persons who do not conduct accounts in their books, Authorised Dealers must record such persons' names, nationalities, residential addresses and telephone numbers to facilitate communication if needed.\\n            (e) Visiting artistes, entertainers, sportspersons and other similar professionals may not be accorded the facilities outlined in this section of the Authorised Dealer Manual.\\nB.4 Single discretionary allowance and other miscellaneous payments for private individuals\\n    (B) Travel allowances\\n        (ii) Travel allowance limits\\n            (a) Foreign currency may be made available within the single discretionary allowance limit of R1 million per calendar year, to the eligible parties mentioned in (iv) below, provided that the requirements of (ix) below are complied with.\\n            (b) Residents (natural persons) who are under the age of 18 years may be accorded a travel allowance not exceeding an amount of R200 000 per calendar year.\\n\"},\n",
       " {'role': 'assistant',\n",
       "  'content': 'The regulation states that there is no limit on the amount of Rand that may be spent on traveling within the Common Monetary Area (CMA). Residents who are under the age of 18 years may be accorded a travel allowance not exceeding an amount of R200 000 per calendar year. Additionally, up to R25 000 in cash per person may be taken when proceeding on visits outside the CMA to meet immediate needs on return to South Africa. Visiting artistes, entertainers, sportspersons, and other similar professionals may not be accorded the facilities outlined in this section of the Authorised Dealer Manual. Foreign currency may be made available within the single discretionary allowance limit of R1 million per calendar year to eligible parties, subject to compliance with certain requirements. (B.4(B)(i)(a), (b), (c), (e), (ii)(a), (b))'}]"
      ]
     },
     "execution_count": 7,
     "metadata": {},
     "output_type": "execute_result"
    }
   ],
   "source": [
    "excon.messages"
   ]
  },
  {
   "cell_type": "code",
   "execution_count": 60,
   "metadata": {},
   "outputs": [
    {
     "name": "stderr",
     "output_type": "stream",
     "text": [
      "INFO:src.chat_bot:User Question:\n",
      "hi\n",
      "DEV:src.chat_bot:#################   Similarity Search       #################\n",
      "DEV:src.chat_bot:--   No relevant definitions found\n",
      "DEV:src.chat_bot:--   No relevant sections found\n",
      "DEV:src.chat_bot:#################   RAG Prompts   #################\n",
      "INFO:src.chat_bot:System Prompt:\n",
      "You are answering questions for an Authorised Dealer with Limited Authority (ADLA) based only on the relevant sections from the 'Currency and Exchange Manual for Authorised Dealers in foreign exchange with limited authority' (Manual or CEMADLA) that are provided. You have three options:\n",
      "1) Answer the question. Preface an answer with the tag 'ANSWER:'. If possible, end the answer with the reference to the section or sections you used to answer the question.\n",
      "2) Request additional documentation. If, in the body of the sections provided, there is a reference to another section of the Manual that is directly relevant and not already provided, respond with the word 'SECTION:' followed by the section reference.\n",
      "3) State 'NONE:' and nothing else in all other cases\n",
      "\n",
      "Note: In the manual sections are numbered like A.1(A) or C.(C)(iii)(c)(cc)(3). The first index uses the regex pattern r'[A-Z]\\.\\d(0, 2)'. Thereafter, each sub-index is surrounded by round brackets\n",
      "INFO:src.chat_bot:User Prompt with RAG:\n",
      "Question: hi\n",
      "\n",
      "\n",
      "WARNING:src.chat_bot:Initial chat API response did not result in a response with the correct format. Retrying\n",
      "WARNING:src.chat_bot:The response was:\n",
      "Hello! How can I assist you today?\n",
      "INFO:src.chat_bot:assistant:\n",
      " To offer cross-border payments, you would need to be a Category Two ADLA. (CEMADLA B.1(B)(iii)(a))\n"
     ]
    },
    {
     "name": "stdout",
     "output_type": "stream",
     "text": [
      "To offer cross-border payments, you would need to be a Category Two ADLA. (CEMADLA B.1(B)(iii)(a))\n"
     ]
    }
   ],
   "source": [
    "user_context = \"hi\"\n",
    "#user_context = \"but what category do I need to be?\"\n",
    "excon.user_provides_input(user_context, threshold=0.15, model_to_use=model_to_use, temperature=0, max_tokens=300)\n",
    "print(excon.messages[-1][\"content\"])"
   ]
  },
  {
   "cell_type": "code",
   "execution_count": 8,
   "metadata": {},
   "outputs": [],
   "source": [
    "import importlib\n",
    "import src.valid_index\n",
    "importlib.reload(src.valid_index)\n",
    "from src.valid_index import get_excon_manual_index\n",
    "import re\n",
    "\n",
    "index = get_excon_manual_index()\n"
   ]
  },
  {
   "cell_type": "code",
   "execution_count": 5,
   "metadata": {},
   "outputs": [
    {
     "name": "stdout",
     "output_type": "stream",
     "text": [
      "None\n"
     ]
    }
   ],
   "source": [
    "s = \" B.4(B)(ii)(a) of the Manual states that foreign currency may be made available within the single discretionary allowance limit of R1 million per calendar year to eligible parties. However, the specific limits for adults are not mentioned in the provided sections. Please refer to the relevant section(s) for more information on the limits for travel allowances for adults.\"\n",
    "#s = \"B.4(B)(ii)(a)\"\n",
    "\n",
    "print(index.extract_valid_reference(s))\n"
   ]
  },
  {
   "cell_type": "code",
   "execution_count": 22,
   "metadata": {},
   "outputs": [
    {
     "data": {
      "text/plain": [
       "[['B.4'], ['(B)'], ['ii'], ['(a)', '(s)'], ['(ii)'], []]"
      ]
     },
     "execution_count": 22,
     "metadata": {},
     "output_type": "execute_result"
    }
   ],
   "source": [
    "patterns = [\n",
    "        r'[A-Z]\\.\\d{0,2}',\n",
    "        r'\\([A-Z]\\)',\n",
    "        r'\\(\\b(i|ii|iii|iv|v|vi|vii|viii|ix|x|xi|xii|xiii|xiv|xv|xvi|xvii|xviii|xix|xx|xxi|xxii|xxiii|xxiv|xxv|xxvi|xxvii)\\b\\)',\n",
    "        r'\\([a-z]\\)',\n",
    "        r'\\([a-z]{2}\\)',\n",
    "        r'\\((?:[1-9]|[1-9][0-9])\\)'\n",
    "    ]\n",
    "matches = [re.findall(pattern, s) for pattern in patterns]\n",
    "matches"
   ]
  },
  {
   "cell_type": "code",
   "execution_count": 26,
   "metadata": {},
   "outputs": [
    {
     "data": {
      "text/plain": [
       "<re.Match object; span=(11, 14), match='(a)'>"
      ]
     },
     "execution_count": 26,
     "metadata": {},
     "output_type": "execute_result"
    }
   ],
   "source": [
    "match = re.search(r'\\([a-z]\\)', s)\n",
    "match"
   ]
  },
  {
   "cell_type": "code",
   "execution_count": 30,
   "metadata": {},
   "outputs": [
    {
     "data": {
      "text/plain": [
       "' '"
      ]
     },
     "execution_count": 30,
     "metadata": {},
     "output_type": "execute_result"
    }
   ],
   "source": [
    "s[match.end()]"
   ]
  },
  {
   "cell_type": "code",
   "execution_count": 87,
   "metadata": {},
   "outputs": [
    {
     "data": {
      "text/plain": [
       "'B.5 Personal transfers by foreign nationals and immigrants\\n    (B) Immigrants\\n        (iii) Payments by immigrants\\n            (a) Applications by immigrants may be approved by Authorised Dealers for the provision of foreign currency to cover current and arrear premiums due on foreign currency life insurance policies or contributions to pension and medical aid funds, provided that:\\n                (aa) the necessary declaration and undertaking were completed; and\\n                (bb) documentary evidence is presented, verifying the amounts due and that the commitment was entered into before the applicants took up residence in South Africa.\\n            (b) Immigrants may against the presentation to an Authorised Dealer of documentary evidence confirming the amount involved repay loans received in their previous country of domicile.\\n            (c) Immigrants may settle foreign tax commitments from South Africa against the production of documentary evidence confirming the amount involved.'"
      ]
     },
     "execution_count": 87,
     "metadata": {},
     "output_type": "execute_result"
    }
   ],
   "source": [
    "excon.get_regulation_detail(\"B.5(B)(iii)\")"
   ]
  },
  {
   "cell_type": "code",
   "execution_count": 11,
   "metadata": {},
   "outputs": [
    {
     "name": "stdout",
     "output_type": "stream",
     "text": [
      "You are answering questions for an Authorised Dealer (AD) based only on the relevant sections from the 'Currency and Exchange Manual for Authorised Dealers' (Manual or CEMAD) that are provided. You have three options:\n",
      "1) Answer the question. Preface an answer with the tag 'ANSWER:'. If possible, end the answer with the reference to the section or sections you used to answer the question.\n",
      "2) Request additional documentation. If, in the body of the sections provided, there is a reference to another section of the Manual that is directly relevant and not already provided, respond with the word 'SECTION:' followed by the section reference.\n",
      "3) State 'NONE:' and nothing else in all other cases\n",
      "\n",
      "Note: In the manual sections are numbered like A.1(A) or C.(C)(iii)(c)(cc)(3). The first index uses the regex pattern r'[A-Z]\\.\\d(0, 2)'. Thereafter, each sub-index is surrounded by round brackets\n"
     ]
    }
   ],
   "source": [
    "print(excon._create_system_message())"
   ]
  },
  {
   "cell_type": "code",
   "execution_count": 23,
   "metadata": {},
   "outputs": [
    {
     "data": {
      "text/html": [
       "<div>\n",
       "<style scoped>\n",
       "    .dataframe tbody tr th:only-of-type {\n",
       "        vertical-align: middle;\n",
       "    }\n",
       "\n",
       "    .dataframe tbody tr th {\n",
       "        vertical-align: top;\n",
       "    }\n",
       "\n",
       "    .dataframe thead th {\n",
       "        text-align: right;\n",
       "    }\n",
       "</style>\n",
       "<table border=\"1\" class=\"dataframe\">\n",
       "  <thead>\n",
       "    <tr style=\"text-align: right;\">\n",
       "      <th></th>\n",
       "      <th>section</th>\n",
       "      <th>text</th>\n",
       "      <th>Embedding</th>\n",
       "      <th>source</th>\n",
       "    </tr>\n",
       "  </thead>\n",
       "  <tbody>\n",
       "    <tr>\n",
       "      <th>0</th>\n",
       "      <td>Legal context</td>\n",
       "      <td>Legal context</td>\n",
       "      <td>[0.008710513822734356, -0.01103331707417965, 0...</td>\n",
       "      <td>heading</td>\n",
       "    </tr>\n",
       "    <tr>\n",
       "      <th>1</th>\n",
       "      <td>A.2(A)</td>\n",
       "      <td>Authorised entities. Authorised Dealers</td>\n",
       "      <td>[-0.009998462162911892, -0.009398686699569225,...</td>\n",
       "      <td>heading</td>\n",
       "    </tr>\n",
       "    <tr>\n",
       "      <th>2</th>\n",
       "      <td>A.2(B)</td>\n",
       "      <td>Authorised entities. Authorised Dealers in for...</td>\n",
       "      <td>[-0.009065092541277409, -0.012516901828348637,...</td>\n",
       "      <td>heading</td>\n",
       "    </tr>\n",
       "    <tr>\n",
       "      <th>3</th>\n",
       "      <td>A.3(A)</td>\n",
       "      <td>Duties and responsibilities of Authorised Deal...</td>\n",
       "      <td>[0.009497863240540028, -0.01100919209420681, -...</td>\n",
       "      <td>heading</td>\n",
       "    </tr>\n",
       "    <tr>\n",
       "      <th>4</th>\n",
       "      <td>A.3(B)</td>\n",
       "      <td>Duties and responsibilities of Authorised Deal...</td>\n",
       "      <td>[-0.010621572844684124, -0.014073583297431469,...</td>\n",
       "      <td>heading</td>\n",
       "    </tr>\n",
       "    <tr>\n",
       "      <th>...</th>\n",
       "      <td>...</td>\n",
       "      <td>...</td>\n",
       "      <td>...</td>\n",
       "      <td>...</td>\n",
       "    </tr>\n",
       "    <tr>\n",
       "      <th>1493</th>\n",
       "      <td>J.(G)</td>\n",
       "      <td>What is the procedure for reporting outward pa...</td>\n",
       "      <td>[-0.0016078203916549683, -0.000447303900728002...</td>\n",
       "      <td>question</td>\n",
       "    </tr>\n",
       "    <tr>\n",
       "      <th>1494</th>\n",
       "      <td>J.(G)</td>\n",
       "      <td>Rules for reporting outward payments using the...</td>\n",
       "      <td>[0.005922725424170494, -0.004037913400679827, ...</td>\n",
       "      <td>summary</td>\n",
       "    </tr>\n",
       "    <tr>\n",
       "      <th>1495</th>\n",
       "      <td>B.4(G)(i)</td>\n",
       "      <td>How much money can an individual take offshore?</td>\n",
       "      <td>[0.01233571209013462, -0.03362925723195076, 0....</td>\n",
       "      <td>manual</td>\n",
       "    </tr>\n",
       "    <tr>\n",
       "      <th>1496</th>\n",
       "      <td>B.4(B)(i)</td>\n",
       "      <td>Is there any general guidance on travel?</td>\n",
       "      <td>[0.0002241560723632574, 0.000385825231205672, ...</td>\n",
       "      <td>manual</td>\n",
       "    </tr>\n",
       "    <tr>\n",
       "      <th>1497</th>\n",
       "      <td>B.4(B)(ii)</td>\n",
       "      <td>What are the travel allowance limits?</td>\n",
       "      <td>[0.01554630883038044, -0.011501027271151543, 0...</td>\n",
       "      <td>manual</td>\n",
       "    </tr>\n",
       "  </tbody>\n",
       "</table>\n",
       "<p>1498 rows × 4 columns</p>\n",
       "</div>"
      ],
      "text/plain": [
       "            section                                               text  \\\n",
       "0     Legal context                                      Legal context   \n",
       "1            A.2(A)            Authorised entities. Authorised Dealers   \n",
       "2            A.2(B)  Authorised entities. Authorised Dealers in for...   \n",
       "3            A.3(A)  Duties and responsibilities of Authorised Deal...   \n",
       "4            A.3(B)  Duties and responsibilities of Authorised Deal...   \n",
       "...             ...                                                ...   \n",
       "1493          J.(G)  What is the procedure for reporting outward pa...   \n",
       "1494          J.(G)  Rules for reporting outward payments using the...   \n",
       "1495      B.4(G)(i)    How much money can an individual take offshore?   \n",
       "1496      B.4(B)(i)           Is there any general guidance on travel?   \n",
       "1497     B.4(B)(ii)              What are the travel allowance limits?   \n",
       "\n",
       "                                              Embedding    source  \n",
       "0     [0.008710513822734356, -0.01103331707417965, 0...   heading  \n",
       "1     [-0.009998462162911892, -0.009398686699569225,...   heading  \n",
       "2     [-0.009065092541277409, -0.012516901828348637,...   heading  \n",
       "3     [0.009497863240540028, -0.01100919209420681, -...   heading  \n",
       "4     [-0.010621572844684124, -0.014073583297431469,...   heading  \n",
       "...                                                 ...       ...  \n",
       "1493  [-0.0016078203916549683, -0.000447303900728002...  question  \n",
       "1494  [0.005922725424170494, -0.004037913400679827, ...   summary  \n",
       "1495  [0.01233571209013462, -0.03362925723195076, 0....    manual  \n",
       "1496  [0.0002241560723632574, 0.000385825231205672, ...    manual  \n",
       "1497  [0.01554630883038044, -0.011501027271151543, 0...    manual  \n",
       "\n",
       "[1498 rows x 4 columns]"
      ]
     },
     "execution_count": 23,
     "metadata": {},
     "output_type": "execute_result"
    }
   ],
   "source": [
    "import pandas as pd\n",
    "df_text_all = pd.read_parquet(path_to_index_as_parquet_file, engine='pyarrow')\n",
    "df_text_all"
   ]
  },
  {
   "cell_type": "code",
   "execution_count": null,
   "metadata": {},
   "outputs": [
    {
     "data": {
      "text/plain": [
       "'No section could be found with the reference I.(E)(ii)'"
      ]
     },
     "execution_count": 9,
     "metadata": {},
     "output_type": "execute_result"
    }
   ],
   "source": [
    "excon.get_regulation_detail('I.(1)(E)(ii)')"
   ]
  },
  {
   "cell_type": "code",
   "execution_count": null,
   "metadata": {},
   "outputs": [],
   "source": [
    "#user_context = \"What is a CFC Account?\"\n",
    "#user_context = \"I am submitting documentation to the financial surveillance department. What information do I need to include in my submission?\" # (A.3 (B))\n",
    "#user_context = \"Can a bank provide foreign currency denominated facilities to a South African Corporate?\" #  (A.3 (B))\n",
    "#user_context = \"For how long does the approval for a facility remain valid?\" #  (A.3 (B))\n",
    "#user_context = \"Other than authorised transaction requests, are there requirements for authorised dealers to submit information to the financial surveillance department?\" #  (A.3 (B))\n",
    "#user_context = \"I have been asked to act on an approval issued to another bank. Can I do that?\" #  (A.3 (B))\n",
    "#####user_context = \"--- Same as above but use \"Authorised Dealer\" instead of \"Bank\"\n",
    "#user_context = \"If I am concerned that as client may in breach of regulations, what should I do?\" #  (A.3 (B))\n",
    "#user_context = \"What constitutes 'documentary evidence' for a foreign currency transaction?\" #  (A.3 (C))\n",
    "#user_context = \"Is Swaziland part of the CMA?\" #  (A.3 (E))\n",
    "#user_context = \"A client wants to buy Namibian Dollars. What approvals do they need before they can do this?\" #  (A.3 (E))\n",
    "#user_context = \"A person from Lesotho wants to buy dollars from me. Can I sell them the dollars?\" #  (A.3 (E))\n",
    "#user_context = \"A person from Namibia wants to buy rand from me. Can I sell them the rand?\" #  (A.3 (E))\n",
    "#user_context = \"A treasury management company wants to trade dollars with me. What do I need to check before I can do this?\" #  (A.4 (B))\n",
    "#user_context = \"A client wants to import goods and pay in foreign currency. What documentation do I need before I can assist with the transaction\" #  (B.1 (B))\n",
    "#user_context = \"Over and above the price of the goods, what additional costs can be covered in foreign currency?\" #  (B.1 (C))\n",
    "#user_context = \"Can advance payment be made in a foreign currency to cover imported goods?\" #  (B.1 (D)(i))\n",
    "\n",
    "#user_context = \"Can advance payment be made in a foreign currency to cover imported capital goods?\" #  (B.1 (D)(ii))\n",
    "#user_context = \"When paying for imports in cash, what documentation is required before providing the foreign currency?\" #  (B.1 (D)(iii))\n",
    "\n",
    "#user_context = \"Can imported goods be financed over more than 12 months?\" #  (B.1 (D)(iv))\n",
    "#user_context = \"How much money can an individual invest internationally?\" #  ?\n",
    "#user_context = \"How much money can an individual take offshore?\" #  ?\n",
    "\n",
    "#user_context = \"A media company want to list offshore. Are there specific conditions for this?\"\n",
    "# user_context = \"How many rands can a resident take offshore in cash?\"\n",
    "#user_context = \"Can I grant a foreign company a Rand facility to pay for goods they wish to purchase from a South African exporter?\"\n",
    "#user_context = \"Can I support a non-residential entity with short-term rand trade finance for their exports from South Africa?\"\n",
    "#user_context = \"Hi\"\n",
    "#user_context = \"Who can trade gold?\"\n",
    "#user_context = \"are there specific exchange control rules for religious organizations?\"\n",
    "#user_context = \"How much foreign currency can a charity take offshore each year?\"\n",
    "\n"
   ]
  },
  {
   "cell_type": "code",
   "execution_count": null,
   "metadata": {},
   "outputs": [],
   "source": []
  }
 ],
 "metadata": {
  "kernelspec": {
   "display_name": "Python 3.10.4 ('env': venv)",
   "language": "python",
   "name": "python3"
  },
  "language_info": {
   "codemirror_mode": {
    "name": "ipython",
    "version": 3
   },
   "file_extension": ".py",
   "mimetype": "text/x-python",
   "name": "python",
   "nbconvert_exporter": "python",
   "pygments_lexer": "ipython3",
   "version": "3.10.4"
  },
  "orig_nbformat": 4,
  "vscode": {
   "interpreter": {
    "hash": "007219f1a1c0c3993c3211d5a541b1fa109902aadb48cb5499ee55023bf45452"
   }
  }
 },
 "nbformat": 4,
 "nbformat_minor": 2
}
