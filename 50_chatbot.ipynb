{
 "cells": [
  {
   "cell_type": "code",
   "execution_count": 1,
   "metadata": {},
   "outputs": [],
   "source": [
    "import importlib\n",
    "import src.chat_bot\n",
    "importlib.reload(src.chat_bot)\n",
    "from src.chat_bot import ExconManual"
   ]
  },
  {
   "cell_type": "code",
   "execution_count": 2,
   "metadata": {},
   "outputs": [],
   "source": [
    "excon = ExconManual(\"\")"
   ]
  },
  {
   "cell_type": "code",
   "execution_count": 3,
   "metadata": {},
   "outputs": [],
   "source": [
    "model_to_use=\"gpt-3.5-turbo\"\n",
    "#model_to_use=\"gpt-4\"\n",
    "#model_to_use=\"gpt-3.5-turbo-16k\""
   ]
  },
  {
   "cell_type": "code",
   "execution_count": 4,
   "metadata": {},
   "outputs": [
    {
     "name": "stderr",
     "output_type": "stream",
     "text": [
      "INFO:src.chat_bot:Entering RAG with query: Who can trade gold?\n",
      "INFO:src.chat_bot:#################   Similarity Search       #################\n",
      "INFO:src.chat_bot:--   No relevant definitions found\n",
      "INFO:src.chat_bot:--   Relevant Sections\n",
      "INFO:src.chat_bot:0.0000:         Introduction:        question: Who can trade gold?\n",
      "INFO:src.chat_bot:0.0841:         Introduction:        question: Who can trade in foreign exchange?\n",
      "INFO:src.chat_bot:0.1076:                C.(C):        question: What approvals are required to acquire gold for trade purposes?\n",
      "INFO:src.chat_bot:0.1121:                C.(B):        question: Who should I contact if I want to export gold?\n",
      "INFO:src.chat_bot:0.1228:                C.(C):         heading: Gold. Acquisition of gold for trade purposes\n",
      "INFO:src.chat_bot:0.1251:               A.3(A):        question: Who is permitted to conduct foreign currency transactions?\n",
      "INFO:src.chat_bot:0.1331:                E.(C):        question: Who can open a foreign currency account?\n",
      "INFO:src.chat_bot:0.1362:                C.(B):        question: What is the process for requesting to export gold?\n",
      "INFO:src.chat_bot:0.1452:                C.(D):         heading: Gold. Advances against gold\n",
      "INFO:src.chat_bot:0.1466:                C.(G):         heading: Gold. Applications for the importation of gold\n",
      "INFO:src.chat_bot:0.1480:               D.1(G):        question: Can residents buy or sell precious and base metals forward?\n",
      "INFO:src.chat_bot:0.1486:                C.(F):        question: How can South African gold producers sell their gold output?\n",
      "INFO:src.chat_bot:Top result: Introduction with a cosine distance of 0.0000\n",
      "INFO:src.chat_bot:No unique mode\n",
      "INFO:src.chat_bot:References found that occur multiple times\n",
      "INFO:src.chat_bot:Reference: C.(C), Count: 2, Min Cosine-Distance: 0.10759416906087649\n",
      "INFO:src.chat_bot:Reference: C.(B), Count: 2, Min Cosine-Distance: 0.11207849440609619\n",
      "INFO:src.chat_bot:--   Filtered Sections\n",
      "INFO:src.chat_bot:0.0000 (*min dist):         Introduction:  2\n",
      "INFO:src.chat_bot:0.1076 (*min dist):                C.(C):  2\n",
      "INFO:src.chat_bot:0.1121 (*min dist):                C.(B):  2\n",
      "INFO:src.chat_bot:#################   RAG       #################\n",
      "INFO:src.chat_bot:\n",
      "You are attempting to answer questions from an Authorised Dealer based only on the relevant documentation provided. You have only three options:\n",
      "1) Answer the question. If you do this, your must preface to response with the word 'ANSWER:'. If possible also provide a reference to the relevant documentation for the user to cross-check. Use this if you are sure about your answer.\n",
      "2) Request additional documentation. If, in the body of the relevant documentation, is a reference to another section of the document that is directly relevant, respond with the word 'SECTION:' followed by the section reference which looks like A.1(A)(i)(aa). \n",
      "3) State 'NONE:' (and nothing else) in all cases where you are not confident about either of the first two options\n",
      "Potentially relevant document section(s):\n",
      "Introduction \n",
      "    In terms of Regulation 2(2), an Authorised Dealer shall not buy, borrow, receive, sell, lend or deliver any foreign currency or gold except for such purposes or on such conditions as the Treasury, as defined, may determine, subject to the delegation referred to above.\n",
      "    This Currency and Exchanges Manual for Authorised Dealers (Authorised Dealer Manual) contains the permissions and conditions applicable to transactions in foreign exchange that may be undertaken by Authorised Dealers and/or on behalf of their clients in terms of Regulation 2(2), details of related administrative responsibilities as well as the FinSurv Reporting requirements. This Authorised Dealer Manual must be read in conjunction with the Regulations and Authorised Dealers may transact without reference to the Financial Surveillance Department, provided such transactions are permitted in terms of this Authorised Dealer Manual.\n",
      "    The arrangements set out in the Authorised Dealer Manual should in no manner be construed as absolving Authorised Dealers, their clients and associated entities from their duties and obligations under any other law, including but not limited to the Prevention of Organised Crime Act, 1998 (Act No. 121 of 1998), the Financial Intelligence Centre Act, 2001 (Act No. 38 of 2001) and the Protection of Constitutional Democracy against Terrorist and Related Activities Act, 2004 (Act No. 33 of 2004).\n",
      "    The Financial Surveillance Department views contraventions of the Exchange Control Regulations, as well as any actions to circumvent the permissions and conditions contained in the Authorised Dealer Manual, in a very serious light.\n",
      "    The Financial Surveillance Department reserves the right to amend, grant or impose additional permissions or conditions, with new or amended permissions or conditions which will be communicated by the Financial Surveillance Department on its website.\n",
      "    In instances where an Authorised Dealer is not in a position to buy, borrow, sell or lend foreign currency in terms of the permissions and conditions set out in the Authorised Dealer Manual, an official application with full details applicable to the request must be submitted to the Financial Surveillance Department.\n",
      "    For the benefit of the general public, Currency and Exchanges guidelines for business entities and Currency and Exchanges guidelines for individuals have been published by the Financial Surveillance Department. These guidelines set out, in less technical terms, the permissions and conditions relating to cross-border foreign transactions.\n",
      "    The Authorised Dealer Manual, ADLA Manual, Currency and Exchanges guidelines for business entities, Currency and Exchanges guidelines for individuals and applicable amendments thereto are available on the South African Reserve Bank's website: www.resbank.co.za.\n",
      "C. Gold\n",
      "    (C) Acquisition of gold for trade purposes\n",
      "        (i) The acquisition of gold for legitimate trade purposes by e.g. manufacturing jewellers, dentists, is subject to the approval of the South African Diamond and Precious Metals Regulator.\n",
      "        (ii) After receiving such approval, a permit must be obtained from SARS which will entitle the permit holder to approach Rand Refinery Limited for an allocation of gold.\n",
      "        (iii) The holders of gold, having received the approvals outlined above, are exempt from the provisions of Regulation 5(1).\n",
      "C. Gold\n",
      "    (B) Other exports of gold\n",
      "        (i) All applications for permission to export gold in any form should be referred to the South African Diamond and Precious Metals Regulator.\n",
      "INFO:src.chat_bot:Question asked and answered\n"
     ]
    },
    {
     "name": "stdout",
     "output_type": "stream",
     "text": [
      "assistant: Gold can be traded by individuals or entities who have obtained the necessary approvals and permits from the South African Diamond and Precious Metals Regulator. (Reference: C. Gold (C)(i) of the Currency and Exchanges Manual for Authorised Dealers)\n"
     ]
    }
   ],
   "source": [
    "#user_context = \"What is a CFC Account?\"\n",
    "#user_context = \"I am submitting documentation to the financial surveillance department. What information do I need to include in my submission?\" # (A.3 (B))\n",
    "#user_context = \"Can a bank provide foreign currency denominated facilities to a South African Corporate?\" #  (A.3 (B))\n",
    "#user_context = \"For how long does the approval for a facility remain valid?\" #  (A.3 (B))\n",
    "#user_context = \"Other than authorised transaction requests, are there requirements for authorised dealers to submit information to the financial surveillance department?\" #  (A.3 (B))\n",
    "#user_context = \"I have been asked to act on an approval issued to another bank. Can I do that?\" #  (A.3 (B))\n",
    "#####user_context = \"--- Same as above but use \"Authorised Dealer\" instead of \"Bank\"\n",
    "#user_context = \"If I am concerned that as client may in breach of regulations, what should I do?\" #  (A.3 (B))\n",
    "#user_context = \"What constitutes 'documentary evidence' for a foreign currency transaction?\" #  (A.3 (C))\n",
    "#user_context = \"Is Swaziland part of the CMA?\" #  (A.3 (E))\n",
    "#user_context = \"A client wants to buy Namibian Dollars. What approvals do they need before they can do this?\" #  (A.3 (E))\n",
    "#user_context = \"A person from Lesotho wants to buy dollars from me. Can I sell them the dollars?\" #  (A.3 (E))\n",
    "#user_context = \"A person from Namibia wants to buy rand from me. Can I sell them the rand?\" #  (A.3 (E))\n",
    "#user_context = \"A treasury management company wants to trade dollars with me. What do I need to check before I can do this?\" #  (A.4 (B))\n",
    "user_context = \"A client wants to import goods and pay in foreign currency. What documentation do I need before I can assist with the transaction\" #  (B.1 (B))\n",
    "#user_context = \"Over and above the price of the goods, what additional costs can be covered in foreign currency?\" #  (B.1 (C))\n",
    "#user_context = \"Can advance payment be made in a foreign currency to cover imported goods?\" #  (B.1 (D)(i))\n",
    "\n",
    "#user_context = \"Can advance payment be made in a foreign currency to cover imported capital goods?\" #  (B.1 (D)(ii))\n",
    "#user_context = \"When paying for imports in cash, what documentation is required before providing the foreign currency?\" #  (B.1 (D)(iii))\n",
    "\n",
    "#user_context = \"Can imported goods be financed over more than 12 months?\" #  (B.1 (D)(iv))\n",
    "#user_context = \"How much money can an individual invest internationally?\" #  ?\n",
    "#user_context = \"How much money can an individual take offshore?\" #  ?\n",
    "\n",
    "#user_context = \"A media company want to list offshore. Are there specific conditions for this?\"\n",
    "#user_context = \"How many rands can I take offshore in cash?\"\n",
    "#user_context = \"Can I grant a foreign company a Rand facility to pay for goods they wish to purchase from a South African exporter?\"\n",
    "#user_context = \"Can I support a non-residential entity with short-term rand trade finance for their exports from South Africa?\"\n",
    "#user_context = \"Hi\"\n",
    "user_context = \"Who can trade gold?\"\n",
    "\n",
    "excon.user_provides_input(user_context, threshold=0.15, model_to_use=model_to_use, temperature=0, max_tokens=300)\n",
    "\n",
    "print(f'{excon.messages[-1][\"role\"]}: {excon.messages[-1][\"content\"]}')\n",
    "\n"
   ]
  },
  {
   "cell_type": "code",
   "execution_count": 25,
   "metadata": {},
   "outputs": [
    {
     "name": "stdout",
     "output_type": "stream",
     "text": [
      "System State = rag\n"
     ]
    }
   ],
   "source": [
    "excon.system_state = excon.system_states[0]\n",
    "print(f'System State = {excon.system_state}')\n"
   ]
  },
  {
   "cell_type": "code",
   "execution_count": 30,
   "metadata": {},
   "outputs": [
    {
     "name": "stdout",
     "output_type": "stream",
     "text": [
      "{'role': 'system', 'content': \"You are attempting to answer questions from an Authorised Dealer based only on the relevant documentation provided. You have only three options:\\n1) Answer the question. If you do this, your must preface to response with the word 'ANSWER:'. If possible also provide a reference to the relevant documentation for the user to cross-check. Use this if you are sure about your answer.\\n2) Request additional documentation. If, in the body of the relevant documentation, is a reference to another section of the document that is directly relevant, respond with the word 'SECTION:' followed by the section reference which looks like A.1(A)(i)(aa). \\n3) State 'NONE:' (and nothing else) in all cases where you are not confident about either of the first two options\\nPotentially relevant document section(s):\\nIntroduction \\n    In terms of Regulation 2(2), an Authorised Dealer shall not buy, borrow, receive, sell, lend or deliver any foreign currency or gold except for such purposes or on such conditions as the Treasury, as defined, may determine, subject to the delegation referred to above.\\n    This Currency and Exchanges Manual for Authorised Dealers (Authorised Dealer Manual) contains the permissions and conditions applicable to transactions in foreign exchange that may be undertaken by Authorised Dealers and/or on behalf of their clients in terms of Regulation 2(2), details of related administrative responsibilities as well as the FinSurv Reporting requirements. This Authorised Dealer Manual must be read in conjunction with the Regulations and Authorised Dealers may transact without reference to the Financial Surveillance Department, provided such transactions are permitted in terms of this Authorised Dealer Manual.\\n    The arrangements set out in the Authorised Dealer Manual should in no manner be construed as absolving Authorised Dealers, their clients and associated entities from their duties and obligations under any other law, including but not limited to the Prevention of Organised Crime Act, 1998 (Act No. 121 of 1998), the Financial Intelligence Centre Act, 2001 (Act No. 38 of 2001) and the Protection of Constitutional Democracy against Terrorist and Related Activities Act, 2004 (Act No. 33 of 2004).\\n    The Financial Surveillance Department views contraventions of the Exchange Control Regulations, as well as any actions to circumvent the permissions and conditions contained in the Authorised Dealer Manual, in a very serious light.\\n    The Financial Surveillance Department reserves the right to amend, grant or impose additional permissions or conditions, with new or amended permissions or conditions which will be communicated by the Financial Surveillance Department on its website.\\n    In instances where an Authorised Dealer is not in a position to buy, borrow, sell or lend foreign currency in terms of the permissions and conditions set out in the Authorised Dealer Manual, an official application with full details applicable to the request must be submitted to the Financial Surveillance Department.\\n    For the benefit of the general public, Currency and Exchanges guidelines for business entities and Currency and Exchanges guidelines for individuals have been published by the Financial Surveillance Department. These guidelines set out, in less technical terms, the permissions and conditions relating to cross-border foreign transactions.\\n    The Authorised Dealer Manual, ADLA Manual, Currency and Exchanges guidelines for business entities, Currency and Exchanges guidelines for individuals and applicable amendments thereto are available on the South African Reserve Bank's website: www.resbank.co.za.\\nC. Gold\\n    (C) Acquisition of gold for trade purposes\\n        (i) The acquisition of gold for legitimate trade purposes by e.g. manufacturing jewellers, dentists, is subject to the approval of the South African Diamond and Precious Metals Regulator.\\n        (ii) After receiving such approval, a permit must be obtained from SARS which will entitle the permit holder to approach Rand Refinery Limited for an allocation of gold.\\n        (iii) The holders of gold, having received the approvals outlined above, are exempt from the provisions of Regulation 5(1).\\nC. Gold\\n    (B) Other exports of gold\\n        (i) All applications for permission to export gold in any form should be referred to the South African Diamond and Precious Metals Regulator.\"}\n",
      "{'role': 'user', 'content': 'Who can trade gold?'}\n",
      "Flag: ANSWER:\n",
      "Response:  Gold can be traded by individuals or entities who have obtained the necessary approvals and permits from the South African Diamond and Precious Metals Regulator. (Reference: C. Gold (C)(i) - Acquisition of gold for trade purposes)\n"
     ]
    }
   ],
   "source": [
    "flag, response = excon.resource_augmented_query(user_context, model_to_use = model_to_use, temperature = 0.0, max_tokens = 512, df_definitions = df_definitions, df_search_sections = df_search_sections)\n",
    "print(f\"Flag: {flag}\")\n",
    "print(f'Response: {response}')\n"
   ]
  },
  {
   "cell_type": "code",
   "execution_count": 44,
   "metadata": {},
   "outputs": [
    {
     "name": "stdout",
     "output_type": "stream",
     "text": [
      "I.2 Local facilities to non-residents\n",
      "    (A) Short-term trade finance extended by a local Authorised Dealer to a non-resident directly related to the export of goods or services from South Africa\n",
      "        (i) In order to facilitate the export of goods from South Africa, the Financial Surveillance Department is prepared to permit local Authorised Dealers, on application, to extend short-term finance facilities denominated in Rand or a foreign currency to the non-resident importer or his/her banker abroad on the conditions mentioned below.\n",
      "            (a) Finance facilities denominated in Rand\n",
      "                (aa) The facilities must relate to the post-shipment finance of the export of a specific shipment of goods and at the time of drawdown, the local Authorised Dealer extending these facilities must view the prescribed SARS Customs Declaration.\n",
      "                (bb) The foreign currency proceeds eventually received in South Africa and/or payments received from any Non-resident Rand account, must be utilised to liquidate the aforementioned short-term export finance facility. The relevant Financial Surveillance Department requirements relating to the reporting in terms of the Reporting System and the observance of the 30-day rule must be complied with.\n",
      "                (cc) The overall finance period, including any initial credit granted by the exporter, may not exceed six months from date of shipment of the underlying goods from South Africa unless the dispensation outlined in section B.18(B)(i)(b) of the Authorised Dealer Manual has been granted, when the overall finance period, including any initial credit granted by the exporter, may not exceed 12 months from date of shipment of the underlying goods from South Africa. An export finance facility may be extended in the event of the overseas importer requiring an extension of the original credit period, provided that the overall finance periods set out above are not exceeded.\n",
      "                (dd) The facility must be repaid with foreign currency and/or by payment from a Non-resident Rand account. No facility may be drawn down where the proceeds of the underlying export transaction have already been received.\n"
     ]
    }
   ],
   "source": [
    "print(excon.get_regulation_detail('I.2(A)(i)(a)'))\n",
    "#excon.get_regulation_detail('B.18(B)(i)(b)')"
   ]
  },
  {
   "cell_type": "code",
   "execution_count": 3,
   "metadata": {},
   "outputs": [],
   "source": [
    "excon_test = ExconManual(log_file='',input_folder = \"./inputs_test/\")\n",
    "#excon_test = ExconManual(log_file='',input_folder = \"./inputs/\")\n"
   ]
  },
  {
   "cell_type": "code",
   "execution_count": 4,
   "metadata": {},
   "outputs": [
    {
     "name": "stderr",
     "output_type": "stream",
     "text": [
      "INFO:src.chat_bot:#################   Similarity Search       #################\n",
      "INFO:src.chat_bot:--   No relevant definitions found\n",
      "INFO:src.chat_bot:--   Relevant Sections\n",
      "INFO:src.chat_bot:0.1318:                C.(C):         heading: Acquisition of gold for trade purposes\n",
      "INFO:src.chat_bot:0.1489:                C.(G):         heading: Applications for the importation of gold\n",
      "INFO:src.chat_bot:Top result: C.(C) with a cosine distance of 0.13176155036104042\n",
      "INFO:src.chat_bot:No unique mode\n",
      "INFO:src.chat_bot:Only the top result added but more were found. Adding the next most likely answer\n",
      "INFO:src.chat_bot:--   Filtered Sections\n",
      "INFO:src.chat_bot:0.1318            :                C.(C):  1\n",
      "INFO:src.chat_bot:0.1489            :                C.(G):  1\n"
     ]
    }
   ],
   "source": [
    "#user_context = \"How much money can an individual take offshore in any year?\"\n",
    "user_context = \"Who can trade gold\"\n",
    "relevant_definitions, relevant_sections = excon_test.similarity_search(user_context)\n",
    "\n",
    "\n",
    "# response = excon_test.user_provides_input(user_context=user_context,\n",
    "#                                           threshold=0.15,\n",
    "#                                           model_to_use=\"gpt-3.5-turbo\", \n",
    "#                                           temperature = 0, \n",
    "#                                           max_tokens = 200, \n",
    "#                                           df_definitions = relevant_definitions, \n",
    "#                                           df_search_sections = relevant_sections)\n",
    "# print(response)\n"
   ]
  },
  {
   "cell_type": "code",
   "execution_count": 49,
   "metadata": {},
   "outputs": [
    {
     "data": {
      "text/html": [
       "<div>\n",
       "<style scoped>\n",
       "    .dataframe tbody tr th:only-of-type {\n",
       "        vertical-align: middle;\n",
       "    }\n",
       "\n",
       "    .dataframe tbody tr th {\n",
       "        vertical-align: top;\n",
       "    }\n",
       "\n",
       "    .dataframe thead th {\n",
       "        text-align: right;\n",
       "    }\n",
       "</style>\n",
       "<table border=\"1\" class=\"dataframe\">\n",
       "  <thead>\n",
       "    <tr style=\"text-align: right;\">\n",
       "      <th></th>\n",
       "      <th>reference</th>\n",
       "      <th>cosine_distance</th>\n",
       "      <th>count</th>\n",
       "      <th>raw_text</th>\n",
       "      <th>token_count</th>\n",
       "    </tr>\n",
       "  </thead>\n",
       "  <tbody>\n",
       "    <tr>\n",
       "      <th>0</th>\n",
       "      <td>C.(C)</td>\n",
       "      <td>0.131650</td>\n",
       "      <td>1</td>\n",
       "      <td>C. Gold\\n    (C) Acquisition of gold for trade...</td>\n",
       "      <td>119</td>\n",
       "    </tr>\n",
       "    <tr>\n",
       "      <th>1</th>\n",
       "      <td>C.(G)</td>\n",
       "      <td>0.148842</td>\n",
       "      <td>1</td>\n",
       "      <td>C. Gold\\n    (G) Applications for the importat...</td>\n",
       "      <td>43</td>\n",
       "    </tr>\n",
       "  </tbody>\n",
       "</table>\n",
       "</div>"
      ],
      "text/plain": [
       "  reference  cosine_distance  count  \\\n",
       "0     C.(C)         0.131650      1   \n",
       "1     C.(G)         0.148842      1   \n",
       "\n",
       "                                            raw_text  token_count  \n",
       "0  C. Gold\\n    (C) Acquisition of gold for trade...          119  \n",
       "1  C. Gold\\n    (G) Applications for the importat...           43  "
      ]
     },
     "execution_count": 49,
     "metadata": {},
     "output_type": "execute_result"
    }
   ],
   "source": [
    "relevant_sections"
   ]
  },
  {
   "cell_type": "code",
   "execution_count": 5,
   "metadata": {},
   "outputs": [
    {
     "name": "stderr",
     "output_type": "stream",
     "text": [
      "INFO:src.chat_bot:#################   RAG       #################\n",
      "INFO:src.chat_bot:\n",
      "You are attempting to answer questions from an Authorised Dealer based only on the relevant documentation provided. You have only three options:\n",
      "1) Answer the question. If you do this, your must preface to response with the word 'ANSWER:'. If possible also provide a reference to the relevant documentation for the user to cross-check. Use this if you are sure about your answer.\n",
      "2) Request additional documentation. If, in the body of the relevant documentation, is a reference to another section of the document that is directly relevant, respond with the word 'SECTION:' followed by the section reference which looks like A.1(A)(i)(aa). \n",
      "3) State 'NONE:' (and nothing else) in all cases where you are not confident about either of the first two options\n",
      "Potentially relevant document section(s):\n",
      "C. Gold\n",
      "    (C) Acquisition of gold for trade purposes\n",
      "        (i) The acquisition of gold for legitimate trade purposes by e.g. manufacturing jewellers, dentists, is subject to the approval of the South African Diamond and Precious Metals Regulator.\n",
      "        (ii) After receiving such approval, a permit must be obtained from SARS which will entitle the permit holder to approach Rand Refinery Limited for an allocation of gold.\n",
      "        (iii) The holders of gold, having received the approvals outlined above, are exempt from the provisions of Regulation 5(1).\n",
      "C. Gold\n",
      "    (G) Applications for the importation of gold\n",
      "        (i) All applications for the importation of gold must be referred to the South African Diamond and Precious Metals Regulator.\n"
     ]
    }
   ],
   "source": [
    "excon_test.messages = [{\"role\": \"user\", \"content\": \"Who can trade gold?\"}]\n",
    "\n",
    "flag, response = excon_test.resource_augmented_query(model_to_use=\"gpt-3.5-turbo\", \n",
    "                                                     temperature = 0, \n",
    "                                                     max_tokens = 200, \n",
    "                                                     df_definitions = relevant_definitions, \n",
    "                                                     df_search_sections = relevant_sections)"
   ]
  },
  {
   "cell_type": "code",
   "execution_count": 6,
   "metadata": {},
   "outputs": [
    {
     "name": "stdout",
     "output_type": "stream",
     "text": [
      "ANSWER:\n",
      " The acquisition of gold for legitimate trade purposes, such as by manufacturing jewellers or dentists, is subject to the approval of the South African Diamond and Precious Metals Regulator. After receiving such approval, a permit must be obtained from SARS, which will allow the permit holder to approach Rand Refinery Limited for an allocation of gold. The holders of gold, having received the necessary approvals, are exempt from certain provisions of Regulation 5(1). (Reference: C. Gold (C)(i))\n"
     ]
    }
   ],
   "source": [
    "print(flag)\n",
    "print(response)"
   ]
  },
  {
   "cell_type": "code",
   "execution_count": 6,
   "metadata": {},
   "outputs": [],
   "source": [
    "import pandas as pd\n",
    "text = \"I.2 Local facilities to non-residents\\n\\\n",
    "        (A) Short-term trade finance extended by a local Authorised Dealer to a non-resident directly related to the export of goods or services from South Africa\\n\\\n",
    "            (i) In order to facilitate the export of goods from South Africa, the Financial Surveillance Department is prepared to permit local Authorised Dealers, on application, to extend short-term finance facilities denominated in Rand or a foreign currency to the non-resident importer or his/her banker abroad on the conditions mentioned below.\\n\\\n",
    "                (a) Finance facilities denominated in Rand\\n\\\n",
    "                    (aa) The facilities must relate to the post-shipment finance of the export of a specific shipment of goods and at the time of drawdown, the local Authorised Dealer extending these facilities must view the prescribed SARS Customs Declaration.\\n\\\n",
    "                    (bb) The foreign currency proceeds eventually received in South Africa and/or payments received from any Non-resident Rand account, must be utilised to liquidate the aforementioned short-term export finance facility. The relevant Financial Surveillance Department requirements relating to the reporting in terms of the Reporting System and the observance of the 30-day rule must be complied with.\\n\\\n",
    "                    (cc) The overall finance period, including any initial credit granted by the exporter, may not exceed six months from date of shipment of the underlying goods from South Africa unless the dispensation outlined in section B.18(B)(i)(b) of the Authorised Dealer Manual has been granted, when the overall finance period, including any initial credit granted by the exporter, may not exceed 12 months from date of shipment of the underlying goods from South Africa. An export finance facility may be extended in the event of the overseas importer requiring an extension of the original credit period, provided that the overall finance periods set out above are not exceeded.\\n\\\n",
    "                    (dd) The facility must be repaid with foreign currency and/or by payment from a Non-resident Rand account. No facility may be drawn down where the proceeds of the underlying export transaction have already been received.\"\n",
    "manual_data = [\"I.2(A)(i)(a)\", 1, text, 100]\n",
    "df_manual_data = pd.DataFrame([manual_data], columns = [\"reference\", \"count\", \"raw_text\", \"token_count\"])"
   ]
  },
  {
   "cell_type": "code",
   "execution_count": 10,
   "metadata": {},
   "outputs": [],
   "source": [
    "question = \"Can you list the dispensations necessary for a rand facility to a non-resident exceed 6 months?\"\n",
    "excon_test.messages = [{\"role\": \"user\", \"content\": question}]\n",
    "flag, response = excon_test.resource_augmented_query(model_to_use=\"gpt-4\", #\"gpt-3.5-turbo\", \n",
    "                                                     temperature = 0, \n",
    "                                                     max_tokens = 200, \n",
    "                                                     df_definitions = pd.DataFrame(), \n",
    "                                                     df_search_sections = df_manual_data)"
   ]
  },
  {
   "cell_type": "code",
   "execution_count": 11,
   "metadata": {},
   "outputs": [
    {
     "name": "stdout",
     "output_type": "stream",
     "text": [
      "SECTION:\n",
      " B.18(B)(i)(b)\n"
     ]
    }
   ],
   "source": [
    "print(flag)\n",
    "print(response)"
   ]
  },
  {
   "cell_type": "code",
   "execution_count": 14,
   "metadata": {},
   "outputs": [
    {
     "data": {
      "text/plain": [
       "'B.18(B)(i)(b)'"
      ]
     },
     "execution_count": 14,
     "metadata": {},
     "output_type": "execute_result"
    }
   ],
   "source": [
    "section_to_add = response\n",
    "section_to_add = section_to_add.strip()\n",
    "section_to_add"
   ]
  },
  {
   "cell_type": "code",
   "execution_count": 18,
   "metadata": {},
   "outputs": [],
   "source": [
    "import regex\n",
    "\n",
    "def find_fuzzy_reference(section_details, reference):\n",
    "    # Remove special regex characters from the reference string and escape it\n",
    "    sanitized_reference = regex.sub(r'[\\\\.*+?^${}()|[\\]]', '', reference)\n",
    "    pattern = r'(%s){e<=2}' % sanitized_reference\n",
    "    match = regex.search(pattern, section_details)\n",
    "    if match:\n",
    "        return match.group()\n",
    "    else:\n",
    "        return None"
   ]
  },
  {
   "cell_type": "code",
   "execution_count": 20,
   "metadata": {},
   "outputs": [
    {
     "name": "stdout",
     "output_type": "stream",
     "text": [
      "None\n"
     ]
    }
   ],
   "source": [
    "text = \"I.2 Local facilities to non-residents\\n\\\n",
    "        (A) Short-term trade finance extended by a local Authorised Dealer to a non-resident directly related to the export of goods or services from South Africa\\n\\\n",
    "            (i) In order to facilitate the export of goods from South Africa, the Financial Surveillance Department is prepared to permit local Authorised Dealers, on application, to extend short-term finance facilities denominated in Rand or a foreign currency to the non-resident importer or his/her banker abroad on the conditions mentioned below.\\n\\\n",
    "                (a) Finance facilities denominated in Rand\\n\\\n",
    "                    (aa) The facilities must relate to the post-shipment finance of the export of a specific shipment of goods and at the time of drawdown, the local Authorised Dealer extending these facilities must view the prescribed SARS Customs Declaration.\\n\\\n",
    "                    (bb) The foreign currency proceeds eventually received in South Africa and/or payments received from any Non-resident Rand account, must be utilised to liquidate the aforementioned short-term export finance facility. The relevant Financial Surveillance Department requirements relating to the reporting in terms of the Reporting System and the observance of the 30-day rule must be complied with.\\n\\\n",
    "                    (cc) The overall finance period, including any initial credit granted by the exporter, may not exceed six months from date of shipment of the underlying goods from South Africa unless the dispensation outlined in section B.18(B)(i)(b) of the Authorised Dealer Manual has been granted, when the overall finance period, including any initial credit granted by the exporter, may not exceed 12 months from date of shipment of the underlying goods from South Africa. An export finance facility may be extended in the event of the overseas importer requiring an extension of the original credit period, provided that the overall finance periods set out above are not exceeded.\\n\\\n",
    "                    (dd) The facility must be repaid with foreign currency and/or by payment from a Non-resident Rand account. No facility may be drawn down where the proceeds of the underlying export transaction have already been received.\"\n",
    "        \n",
    "section = \"B.18 Gold (B)(i)(b)\"\n",
    "match = find_fuzzy_reference(text, section)\n",
    "print(match)"
   ]
  },
  {
   "cell_type": "code",
   "execution_count": 17,
   "metadata": {},
   "outputs": [
    {
     "data": {
      "text/plain": [
       "str"
      ]
     },
     "execution_count": 17,
     "metadata": {},
     "output_type": "execute_result"
    }
   ],
   "source": [
    "type(match)"
   ]
  },
  {
   "cell_type": "code",
   "execution_count": 31,
   "metadata": {},
   "outputs": [],
   "source": [
    "import re\n",
    "\n",
    "def extract_valid_reference(input_string):\n",
    "    excon_index_patterns = [\n",
    "        r'[A-Z]',\n",
    "        r'\\.\\d{1,2}',\n",
    "        r'\\([A-Z]\\)',\n",
    "        r'\\((i|ii|iii|iv|v|vi|vii|viii|ix|x|xi|xii|xiii|xiv|xv|xvi|xvii|xviii|xix|xx|xxi|xxii|xxiii)\\)',\n",
    "        r'\\([a-z]\\)',\n",
    "        r'\\([a-z]{2}\\)',\n",
    "        r'\\((?:[1-9]|[1-9][0-9])\\)'\n",
    "    ]\n",
    "    \n",
    "    partial_ref = \"\"\n",
    "    remaining_str = input_string\n",
    "    \n",
    "    for pattern in excon_index_patterns:\n",
    "        match = re.search(pattern, remaining_str)\n",
    "        if match:\n",
    "            partial_ref += match.group()\n",
    "            remaining_str = remaining_str[match.end():]\n",
    "        else:\n",
    "            if remaining_str:\n",
    "                return None\n",
    "            break\n",
    "    \n",
    "    return partial_ref if partial_ref else None"
   ]
  },
  {
   "cell_type": "code",
   "execution_count": 32,
   "metadata": {},
   "outputs": [
    {
     "name": "stdout",
     "output_type": "stream",
     "text": [
      "B.18(B)(i)(b)\n",
      "None\n",
      "A.1\n"
     ]
    }
   ],
   "source": [
    "# Test the function\n",
    "print(extract_valid_reference('B.18 Gold (B)(i)(b)'))  # Output: 'B.18(B)(i)(b)'\n",
    "print(extract_valid_reference('B.18 Gold (B)(a)(b)'))  # Output: None\n",
    "print(extract_valid_reference('A.1'))  # Output: 'A.1'"
   ]
  },
  {
   "cell_type": "code",
   "execution_count": null,
   "metadata": {},
   "outputs": [],
   "source": []
  }
 ],
 "metadata": {
  "kernelspec": {
   "display_name": "Python 3.10.4 ('env': venv)",
   "language": "python",
   "name": "python3"
  },
  "language_info": {
   "codemirror_mode": {
    "name": "ipython",
    "version": 3
   },
   "file_extension": ".py",
   "mimetype": "text/x-python",
   "name": "python",
   "nbconvert_exporter": "python",
   "pygments_lexer": "ipython3",
   "version": "3.10.4"
  },
  "orig_nbformat": 4,
  "vscode": {
   "interpreter": {
    "hash": "007219f1a1c0c3993c3211d5a541b1fa109902aadb48cb5499ee55023bf45452"
   }
  }
 },
 "nbformat": 4,
 "nbformat_minor": 2
}
