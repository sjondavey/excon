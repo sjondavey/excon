{
 "cells": [
  {
   "cell_type": "code",
   "execution_count": 91,
   "metadata": {},
   "outputs": [],
   "source": [
    "import importlib\n",
    "import src.chat_bot\n",
    "importlib.reload(src.chat_bot)\n",
    "from src.chat_bot import ExconManual"
   ]
  },
  {
   "cell_type": "code",
   "execution_count": 92,
   "metadata": {},
   "outputs": [
    {
     "name": "stdout",
     "output_type": "stream",
     "text": [
      "Loaded Authorised Dealer Manual\n"
     ]
    }
   ],
   "source": [
    "ad = True\n",
    "#ad = False # = ADLA chat\n",
    "if ad:\n",
    "    print(\"Loaded Authorised Dealer Manual\")\n",
    "else:\n",
    "    print(\"Loaded ADLA manual\")\n",
    "\n",
    "logging_level = 15\n",
    "#logging_level = 20\n",
    "log_file = ''\n",
    "\n",
    "if ad:\n",
    "    path_to_manual_as_csv_file = \"./inputs/ad_manual.csv\"\n",
    "    path_to_definitions_as_parquet_file = \"./inputs/ad_definitions.parquet\"\n",
    "    path_to_index_as_parquet_file = \"./inputs/ad_index.parquet\"\n",
    "    chat_for_ad = True\n",
    "else:\n",
    "    path_to_manual_as_csv_file = \"./inputs/adla_manual.csv\"\n",
    "    path_to_definitions_as_parquet_file = \"./inputs/adla_definitions.parquet\"\n",
    "    path_to_index_as_parquet_file = \"./inputs/adla_index.parquet\"\n",
    "    chat_for_ad = False\n",
    "\n",
    "\n",
    "excon = ExconManual(path_to_manual_as_csv_file, path_to_definitions_as_parquet_file, path_to_index_as_parquet_file, chat_for_ad = chat_for_ad, log_file=log_file, logging_level=logging_level)\n"
   ]
  },
  {
   "cell_type": "code",
   "execution_count": 8,
   "metadata": {},
   "outputs": [
    {
     "data": {
      "text/plain": [
       "'No section could be found with the reference B.2(A)(xii)'"
      ]
     },
     "execution_count": 8,
     "metadata": {},
     "output_type": "execute_result"
    }
   ],
   "source": [
    "excon.get_regulation_detail(\"B.2(A)(xii)\")"
   ]
  },
  {
   "cell_type": "code",
   "execution_count": 78,
   "metadata": {},
   "outputs": [],
   "source": [
    "model_to_use=\"gpt-3.5-turbo\"\n",
    "#model_to_use = \"gpt-4-1106-preview\"\n",
    "#model_to_use=\"gpt-4\"\n",
    "#model_to_use=\"gpt-3.5-turbo-16k\""
   ]
  },
  {
   "cell_type": "code",
   "execution_count": 94,
   "metadata": {},
   "outputs": [
    {
     "name": "stderr",
     "output_type": "stream",
     "text": [
      "INFO:src.chat_bot:user: How much can adult residents use for travel?\n",
      "DEV:src.chat_bot:#################   Similarity Search       #################\n",
      "DEV:src.chat_bot:--   No relevant definitions found\n",
      "DEV:src.chat_bot:--   Relevant Sections\n",
      "DEV:src.chat_bot:0.0920:        B.4(B)(iv)(a):        question: What is the annual travel allowance limit for residents?\n",
      "DEV:src.chat_bot:0.1083:        B.4(B)(iv)(a):         summary: Residents 18 years and older can access a travel allowance within the single discretionary limit of R1 million per calendar year. Residents under 18 years can access up to R200,000 per calendar year.\n",
      "DEV:src.chat_bot:0.1214:            B.4(G)(i):        question: What are the yearly spending limits for residents temporarily abroad?\n",
      "DEV:src.chat_bot:0.1221:        B.4(B)(iv)(b):        question: Can residents going on vacation or for non-business reasons also make use of the R1 million limit?\n",
      "DEV:src.chat_bot:0.1254:           B.4(B)(ii):          manual: What are the travel allowance limits?\n",
      "DEV:src.chat_bot:0.1350:            B.4(B)(i):        question: Are there any travel allowance restrictions for minors?\n",
      "DEV:src.chat_bot:0.1393:              B.16(D):         summary: Residents or residents temporarily abroad can use their bank credit and/or debit cards to access up to 100% of their authorized discretionary travel allowance. If there is any violation of the regulations, the cardholder may lose the privilege of using their cards and may also face legal consequences.\n",
      "DEV:src.chat_bot:0.1394:              B.14(T):        question: Can residents pay for foreign expenses?\n",
      "DEV:src.chat_bot:0.1403:               B.2(J):        question: What is the maximum amount I can transfer as a travel allowance in the year I change my residency status?\n",
      "DEV:src.chat_bot:0.1421:               B.4(C):        question: What is the annual limit for business travel?\n",
      "DEV:src.chat_bot:0.1431:        B.4(B)(iv)(d):        question: What is the annual travel allowance for prospective immigrants and those without permanent residence?\n",
      "DEV:src.chat_bot:0.1441:               B.4(A):         summary: Residents (natural persons) 18 years or older can avail a single discretionary allowance up to R1 million per individual annually for any legal use abroad, including investment purposes and sending gift parcels, but not for gold and jewellery. This doesn’t require a TCS PIN letter, but the use of funds abroad must be reported correctly on the FinSurv Reporting System. Residents can use this allowance without providing evidence, except for travel outside the CMA, where a passenger ticket is essential. The allowance can be transferred abroad in Rand, but capital transfers must be converted to foreign currency via an Authorised Dealer. A valid green bar-coded South African identity or Smart identity card is required for identification, and the identity number is essential for reporting.\n",
      "DEV:src.chat_bot:0.1465:           B.4(B)(ii):         summary: Foreign currency can be provided within a single discretionary allowance limit of R1 million per calendar year to eligible parties, as long as certain specified requirements are met. However, residents under the age of 18 may receive a travel allowance of up to R200,000 per calendar year.\n",
      "DEV:src.chat_bot:0.1489:              B.16(D):        question: Can residents temporarily abroad use their bank cards to access their discretionary travel allowance?\n",
      "DEV:src.chat_bot:0.1500:            B.4(B)(i):        question: What is the spending limit on travel within the CMA?\n",
      "DEV:src.chat_bot:Top result: B.4(B)(iv)(a) with a cosine distance of 0.0920\n",
      "DEV:src.chat_bot:No unique mode\n",
      "DEV:src.chat_bot:References found that occur multiple times\n",
      "DEV:src.chat_bot:Reference: B.4(B)(ii), Count: 2, Min Cosine-Distance: 0.12542763856744876\n",
      "DEV:src.chat_bot:Reference: B.4(B)(i), Count: 2, Min Cosine-Distance: 0.1349685513589497\n",
      "DEV:src.chat_bot:Reference: B.16(D), Count: 2, Min Cosine-Distance: 0.13928502925747643\n",
      "DEV:src.chat_bot:--   Filtered Sections\n",
      "DEV:src.chat_bot:0.0920 (*min dist):        B.4(B)(iv)(a):  2\n",
      "DEV:src.chat_bot:0.1254 (*min dist):           B.4(B)(ii):  2\n",
      "DEV:src.chat_bot:0.1350 (*min dist):            B.4(B)(i):  2\n",
      "DEV:src.chat_bot:0.1393 (*min dist):              B.16(D):  2\n",
      "DEV:src.chat_bot:#################   RAG Prompts   #################\n",
      "INFO:src.chat_bot:System Prompt:\n",
      "You are answering questions for an Authorised Dealer (AD) based only on the relevant sections from the 'Currency and Exchange Manual for Authorised Dealers' (Manual or CEMAD) that are provided. You have three options:\n",
      "1) Answer the question. Preface an answer with the tag 'ANSWER:'. If possible, end the answer with the reference to the section or sections you used to answer the question.\n",
      "2) Request additional documentation. If, in the body of the sections provided, there is a reference to another section of the Manual that is directly relevant and not already provided, respond with the word 'SECTION:' followed by the section reference.\n",
      "3) State 'NONE:' and nothing else in all other cases\n",
      "\n",
      "Note: In the manual sections are numbered like A.1(A) or C.(C)(iii)(c)(cc)(3). The first index uses the regex pattern r'[A-Z]\\.\\d(0, 2)'. Thereafter, each sub-index is surrounded by round brackets\n",
      "INFO:src.chat_bot:User Prompt with RAG:\n",
      "Question: How much can adult residents use for travel?\n",
      "\n",
      "Sections from the Manual\n",
      "B.4 Single discretionary allowance and other miscellaneous payments for private individuals\n",
      "    (B) Travel allowances\n",
      "        (iv) Eligible parties\n",
      "            (a) Residents\n",
      "                (aa) A travel allowance within the single discretionary allowance limit of R1 million per calendar year may be availed of by residents (natural persons) (excluding persons proceeding abroad to study) who are 18 years and older.\n",
      "                (bb) Residents (natural persons) who are under the age of 18 years may avail of a travel allowance not exceeding an amount of R200 000 per calendar year.\n",
      "B.4 Single discretionary allowance and other miscellaneous payments for private individuals\n",
      "    (B) Travel allowances\n",
      "        (ii) Travel allowance limits\n",
      "            (a) Foreign currency may be made available within the single discretionary allowance limit of R1 million per calendar year, to the eligible parties mentioned in (iv) below, provided that the requirements of (ix) below are complied with.\n",
      "            (b) Residents (natural persons) who are under the age of 18 years may be accorded a travel allowance not exceeding an amount of R200 000 per calendar year.\n",
      "B.4 Single discretionary allowance and other miscellaneous payments for private individuals\n",
      "    (B) Travel allowances\n",
      "        (i) General\n",
      "            (a) There is no limit on the amount of Rand that may be spent on travelling within the CMA.\n",
      "            (b) Residents (natural persons) who are under the age of 18 years may not be accorded single discretionary allowance as outlined in subsection (A)(i) above, but may be accorded a travel allowance not exceeding an amount of R200 000 per calendar year.\n",
      "            (c) In addition, up to R25 000 in cash, per person, may be taken when proceeding on visits outside the CMA, to meet travellers' immediate needs on return to South Africa.\n",
      "            (d) When according travel allowances to persons who do not conduct accounts in their books, Authorised Dealers must record such persons' names, nationalities, residential addresses and telephone numbers to facilitate communication if needed.\n",
      "            (e) Visiting artistes, entertainers, sportspersons and other similar professionals may not be accorded the facilities outlined in this section of the Authorised Dealer Manual.\n",
      "B.16 Credit and/or debit cards\n",
      "    (D) Travel allowances\n",
      "        (i) A resident or a resident temporarily abroad in whose name one or more bank credit and/or debit cards have been issued may use such cards to avail up to 100 per cent of the authorised single discretionary allowance or the remaining balance thereof applicable to the journey of the resident.\n",
      "        (ii) In the event of any contravention of the provisions of the Regulations a cardholder may be deprived of the use of all cards in addition to being liable for prosecution.\n",
      "\n",
      "INFO:src.chat_bot:assistant:\n",
      " Adult residents can use a travel allowance within the single discretionary allowance limit of R1 million per calendar year. This applies to residents who are 18 years and older. (B.4(B)(iv)(a)(aa))\n",
      "\n",
      "Reference: B.4(B)(iv)(a)(aa)\n"
     ]
    },
    {
     "name": "stdout",
     "output_type": "stream",
     "text": [
      "Adult residents can use a travel allowance within the single discretionary allowance limit of R1 million per calendar year. This applies to residents who are 18 years and older. (B.4(B)(iv)(a)(aa))\n",
      "\n",
      "Reference: B.4(B)(iv)(a)(aa)\n"
     ]
    }
   ],
   "source": [
    "#user_context = \"A non-resident wants to buy residential property in South Africa. What are the restrictions around doing this?\"\n",
    "#user_context = \"A South African citizen is emigrating. What is the process they need to follow to take all their cash offshore?\"\n",
    "#user_context = \"What is the Foreign investment limits for South African institutional investors?\"\n",
    "#user_context = \"Can a individual transfer his shares in a dual listed company to his offshore portfolio?\"\n",
    "#user_context = \"Can cash balances for individuals who are no longer tax resident be transferred offshore?\"\n",
    "#user_context = \"How do I need to report outbound cross-boarder payments?\"\n",
    "#user_context = \"Are there different categories for ALDAs?\"\n",
    "#user_context = \"Who can trade gold?\"\n",
    "\n",
    "#user_context = \"What documentary evidence is required?\"\n",
    "#user_context = \"What does cemad say about travel services?\"\n",
    "#user_context = \"Can I import gold?\"\n",
    "user_context = \"how much money can an individual take offshore?\"\n",
    "#user_context = \"How much can an individual take offshore in a year?\"\n",
    "user_context = \"what is the limit for commodities\"\n",
    "user_context = \"what does the regulation state about travel?\"\n",
    "user_context = \"How much can adult residents use for travel?\"\n",
    "\n",
    "excon.reset_conversation_history()\n",
    "excon.user_provides_input(user_context, threshold=0.15, model_to_use=model_to_use, temperature=0, max_tokens=300)\n",
    "print(excon.messages[-1][\"content\"])\n"
   ]
  },
  {
   "cell_type": "code",
   "execution_count": 87,
   "metadata": {},
   "outputs": [
    {
     "data": {
      "text/plain": [
       "'B.5 Personal transfers by foreign nationals and immigrants\\n    (B) Immigrants\\n        (iii) Payments by immigrants\\n            (a) Applications by immigrants may be approved by Authorised Dealers for the provision of foreign currency to cover current and arrear premiums due on foreign currency life insurance policies or contributions to pension and medical aid funds, provided that:\\n                (aa) the necessary declaration and undertaking were completed; and\\n                (bb) documentary evidence is presented, verifying the amounts due and that the commitment was entered into before the applicants took up residence in South Africa.\\n            (b) Immigrants may against the presentation to an Authorised Dealer of documentary evidence confirming the amount involved repay loans received in their previous country of domicile.\\n            (c) Immigrants may settle foreign tax commitments from South Africa against the production of documentary evidence confirming the amount involved.'"
      ]
     },
     "execution_count": 87,
     "metadata": {},
     "output_type": "execute_result"
    }
   ],
   "source": [
    "excon.get_regulation_detail(\"B.5(B)(iii)\")"
   ]
  },
  {
   "cell_type": "code",
   "execution_count": 14,
   "metadata": {},
   "outputs": [
    {
     "ename": "NameError",
     "evalue": "name 'df_definitions' is not defined",
     "output_type": "error",
     "traceback": [
      "\u001b[1;31m---------------------------------------------------------------------------\u001b[0m",
      "\u001b[1;31mNameError\u001b[0m                                 Traceback (most recent call last)",
      "Cell \u001b[1;32mIn[14], line 1\u001b[0m\n\u001b[1;32m----> 1\u001b[0m flag, response \u001b[38;5;241m=\u001b[39m excon\u001b[38;5;241m.\u001b[39mresource_augmented_query(user_context, model_to_use \u001b[38;5;241m=\u001b[39m model_to_use, temperature \u001b[38;5;241m=\u001b[39m \u001b[38;5;241m0.0\u001b[39m, max_tokens \u001b[38;5;241m=\u001b[39m \u001b[38;5;241m512\u001b[39m, df_definitions \u001b[38;5;241m=\u001b[39m \u001b[43mdf_definitions\u001b[49m, df_search_sections \u001b[38;5;241m=\u001b[39m df_search_sections)\n\u001b[0;32m      2\u001b[0m \u001b[38;5;28mprint\u001b[39m(\u001b[38;5;124mf\u001b[39m\u001b[38;5;124m\"\u001b[39m\u001b[38;5;124mFlag: \u001b[39m\u001b[38;5;132;01m{\u001b[39;00mflag\u001b[38;5;132;01m}\u001b[39;00m\u001b[38;5;124m\"\u001b[39m)\n\u001b[0;32m      3\u001b[0m \u001b[38;5;28mprint\u001b[39m(\u001b[38;5;124mf\u001b[39m\u001b[38;5;124m'\u001b[39m\u001b[38;5;124mResponse: \u001b[39m\u001b[38;5;132;01m{\u001b[39;00mresponse\u001b[38;5;132;01m}\u001b[39;00m\u001b[38;5;124m'\u001b[39m)\n",
      "\u001b[1;31mNameError\u001b[0m: name 'df_definitions' is not defined"
     ]
    }
   ],
   "source": [
    "flag, response = excon.resource_augmented_query(user_context, model_to_use = model_to_use, temperature = 0.0, max_tokens = 512, df_definitions = df_definitions, df_search_sections = df_search_sections)\n",
    "print(f\"Flag: {flag}\")\n",
    "print(f'Response: {response}')\n"
   ]
  },
  {
   "cell_type": "code",
   "execution_count": null,
   "metadata": {},
   "outputs": [
    {
     "name": "stdout",
     "output_type": "stream",
     "text": [
      "### User Input\n",
      "A non-resident wants to buy residential property in South Africa. What are the restrictions around doing this?\n",
      "\n",
      "\n",
      "### Response\n",
      "Non-residents are generally allowed to purchase residential property in South Africa. However, there are some restrictions and requirements that need to be met. According to section I.1(E)(i) of the Exchange Control Manual for Authorised Dealers, non-residents can be granted local financial assistance facilities for the acquisition of residential property, subject to normal lending criteria. \n",
      "\n",
      "Additionally, any facility being made available to a non-resident must be secured by an unencumbered Rand deposit or Rand-based asset of equal or higher value. The facility granted to the non-resident should not cause the borrower to exceed 100% of the Rand value of funds introduced from abroad and invested locally. \n",
      "\n",
      "It is important to note that facilities granted for the acquisition of fixed property cannot be increased based on a revaluation of the property at any stage. \n",
      "\n",
      "Reference: Exchange Control Manual for Authorised Dealers, Section I.1(E)(i)\n",
      "\n",
      "\n",
      "### Reference\n",
      "I.1 Local financial assistance to affected persons and non-residents\n",
      "    (E) Non-residents\n",
      "        (i) Authorised Dealers may grant or authorise local financial assistance facilities to non-residents in respect of bona fide foreign direct investment in South Africa without restrictions, except where the funds are required for financial transactions and/or the acquisition of residential or commercial property in South Africa, the 1:1 ratio will apply.\n"
     ]
    }
   ],
   "source": [
    "print(\"### User Input\")\n",
    "print(user_context)\n",
    "print(\"\\n\")\n",
    "\n",
    "message = excon.messages[-1][\"content\"]\n",
    "print('### Response')\n",
    "print(message)\n",
    "print(\"\\n\")\n",
    "\n",
    "print(\"### Reference\")\n",
    "reference = message.split('\\n')[-1]\n",
    "print(excon.get_regulation_detail(reference))\n"
   ]
  },
  {
   "cell_type": "code",
   "execution_count": null,
   "metadata": {},
   "outputs": [
    {
     "data": {
      "text/plain": [
       "'No section could be found with the reference I.(E)(ii)'"
      ]
     },
     "execution_count": 9,
     "metadata": {},
     "output_type": "execute_result"
    }
   ],
   "source": [
    "excon.get_regulation_detail('I.(1)(E)(ii)')"
   ]
  },
  {
   "cell_type": "code",
   "execution_count": null,
   "metadata": {},
   "outputs": [],
   "source": [
    "#user_context = \"What is a CFC Account?\"\n",
    "#user_context = \"I am submitting documentation to the financial surveillance department. What information do I need to include in my submission?\" # (A.3 (B))\n",
    "#user_context = \"Can a bank provide foreign currency denominated facilities to a South African Corporate?\" #  (A.3 (B))\n",
    "#user_context = \"For how long does the approval for a facility remain valid?\" #  (A.3 (B))\n",
    "#user_context = \"Other than authorised transaction requests, are there requirements for authorised dealers to submit information to the financial surveillance department?\" #  (A.3 (B))\n",
    "#user_context = \"I have been asked to act on an approval issued to another bank. Can I do that?\" #  (A.3 (B))\n",
    "#####user_context = \"--- Same as above but use \"Authorised Dealer\" instead of \"Bank\"\n",
    "#user_context = \"If I am concerned that as client may in breach of regulations, what should I do?\" #  (A.3 (B))\n",
    "#user_context = \"What constitutes 'documentary evidence' for a foreign currency transaction?\" #  (A.3 (C))\n",
    "#user_context = \"Is Swaziland part of the CMA?\" #  (A.3 (E))\n",
    "#user_context = \"A client wants to buy Namibian Dollars. What approvals do they need before they can do this?\" #  (A.3 (E))\n",
    "#user_context = \"A person from Lesotho wants to buy dollars from me. Can I sell them the dollars?\" #  (A.3 (E))\n",
    "#user_context = \"A person from Namibia wants to buy rand from me. Can I sell them the rand?\" #  (A.3 (E))\n",
    "#user_context = \"A treasury management company wants to trade dollars with me. What do I need to check before I can do this?\" #  (A.4 (B))\n",
    "#user_context = \"A client wants to import goods and pay in foreign currency. What documentation do I need before I can assist with the transaction\" #  (B.1 (B))\n",
    "#user_context = \"Over and above the price of the goods, what additional costs can be covered in foreign currency?\" #  (B.1 (C))\n",
    "#user_context = \"Can advance payment be made in a foreign currency to cover imported goods?\" #  (B.1 (D)(i))\n",
    "\n",
    "#user_context = \"Can advance payment be made in a foreign currency to cover imported capital goods?\" #  (B.1 (D)(ii))\n",
    "#user_context = \"When paying for imports in cash, what documentation is required before providing the foreign currency?\" #  (B.1 (D)(iii))\n",
    "\n",
    "#user_context = \"Can imported goods be financed over more than 12 months?\" #  (B.1 (D)(iv))\n",
    "#user_context = \"How much money can an individual invest internationally?\" #  ?\n",
    "#user_context = \"How much money can an individual take offshore?\" #  ?\n",
    "\n",
    "#user_context = \"A media company want to list offshore. Are there specific conditions for this?\"\n",
    "# user_context = \"How many rands can a resident take offshore in cash?\"\n",
    "#user_context = \"Can I grant a foreign company a Rand facility to pay for goods they wish to purchase from a South African exporter?\"\n",
    "#user_context = \"Can I support a non-residential entity with short-term rand trade finance for their exports from South Africa?\"\n",
    "#user_context = \"Hi\"\n",
    "#user_context = \"Who can trade gold?\"\n",
    "#user_context = \"are there specific exchange control rules for religious organizations?\"\n",
    "#user_context = \"How much foreign currency can a charity take offshore each year?\"\n",
    "\n"
   ]
  },
  {
   "cell_type": "code",
   "execution_count": null,
   "metadata": {},
   "outputs": [],
   "source": []
  }
 ],
 "metadata": {
  "kernelspec": {
   "display_name": "Python 3.10.4 ('env': venv)",
   "language": "python",
   "name": "python3"
  },
  "language_info": {
   "codemirror_mode": {
    "name": "ipython",
    "version": 3
   },
   "file_extension": ".py",
   "mimetype": "text/x-python",
   "name": "python",
   "nbconvert_exporter": "python",
   "pygments_lexer": "ipython3",
   "version": "3.10.4"
  },
  "orig_nbformat": 4,
  "vscode": {
   "interpreter": {
    "hash": "007219f1a1c0c3993c3211d5a541b1fa109902aadb48cb5499ee55023bf45452"
   }
  }
 },
 "nbformat": 4,
 "nbformat_minor": 2
}
