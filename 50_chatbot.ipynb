{
 "cells": [
  {
   "cell_type": "code",
   "execution_count": 78,
   "metadata": {},
   "outputs": [],
   "source": [
    "import importlib\n",
    "import src.chat_bot\n",
    "importlib.reload(src.chat_bot)\n",
    "from src.chat_bot import ExconManual"
   ]
  },
  {
   "cell_type": "code",
   "execution_count": 79,
   "metadata": {},
   "outputs": [],
   "source": [
    "excon = ExconManual(\"\", input_folder = \"./inputs/\", logging_level = 15)"
   ]
  },
  {
   "cell_type": "code",
   "execution_count": 68,
   "metadata": {},
   "outputs": [],
   "source": [
    "model_to_use=\"gpt-3.5-turbo\"\n",
    "#model_to_use=\"gpt-4\"\n",
    "#model_to_use=\"gpt-3.5-turbo-16k\""
   ]
  },
  {
   "cell_type": "code",
   "execution_count": 71,
   "metadata": {},
   "outputs": [
    {
     "name": "stderr",
     "output_type": "stream",
     "text": [
      "INFO:src.chat_bot:user: What is the Foreign investment limits for South African institutional investors?\n",
      "DEV:src.chat_bot:#################   Similarity Search       #################\n",
      "DEV:src.chat_bot:--   Relevant Definitions\n",
      "DEV:src.chat_bot:0.1453: (       all): Foreign direct investment means the objective of obtaining a lasting interest by a resident entity in one economy (direct investor) in an entity resident in an economy other than that of the investor (direct investment enterprise). The lasting interest implies the existence of a long-term relationship between the direct investor and the direct investment enterprise, and a significant degree of influence on the management of the direct investment enterprise. A direct investment enterprise is defined as ‘an incorporated or unincorporated enterprise in which a foreign investor owns 10 per cent or more of the ordinary shares or voting power of an incorporated enterprise or the equivalent of an unincorporated enterprise’. Foreign nationals mean natural persons from countries outside the CMA who are temporarily resident in South Africa, excluding those on holiday or business visits. \n",
      "DEV:src.chat_bot:Found more than 15 references that are closer than the input threshold of 0.15. Capping them so there are only 15\n",
      "DEV:src.chat_bot:--   Relevant Sections\n",
      "DEV:src.chat_bot:0.0431:           B.2(C)(ii):        question: What is the limit for new outward foreign investments by South African firms?\n",
      "DEV:src.chat_bot:0.0523:            B.2(C)(i):        question: What is the annual investment limit for South African companies investing abroad?\n",
      "DEV:src.chat_bot:0.0789:            B.2(H)(i):         heading: Capital transfers. South African institutional investors. Institutions subject to a prudential limit in respect of foreign exposure\n",
      "DEV:src.chat_bot:0.0879:            G.(J)(ii):        question: Can immigrants invest their foreign funds in South African securities?\n",
      "DEV:src.chat_bot:0.0931:           B.2(H)(iv):         heading: Capital transfers. South African institutional investors. Prudential limit\n",
      "DEV:src.chat_bot:0.0986:            B.2(B)(i):        question: What are the conditions for a private individual in South Africa to make foreign investments?\n",
      "DEV:src.chat_bot:0.0998:               B.2(G):        question: What is the process for South African private equity funds to invest internationally?\n",
      "DEV:src.chat_bot:0.1007:           B.2(C)(ii):        question: What are the requirements for companies, using foreign assets, to investing in South Africa?\n",
      "DEV:src.chat_bot:0.1033:            B.2(C)(i):        question: What are the compliance requirements for inward loans from affiliated South African foreign investors?\n",
      "DEV:src.chat_bot:0.1040:               A.3(E):        question: Are there any limitations for CMA residents in conducting Rand transactions with South African institutional investors?\n",
      "DEV:src.chat_bot:0.1040:           B.2(H)(vi):         heading: Capital transfers. South African institutional investors. Requirements for institutional investors\n",
      "DEV:src.chat_bot:0.1047:                H.(A):        question: Can South African investors trade foreign assets in Rand?\n",
      "DEV:src.chat_bot:0.1064:                G.(C):        question: Can non-residents invest in South Africa?\n",
      "DEV:src.chat_bot:0.1067:            B.2(C)(i):        question: What is the process for selling foreign investments to third-party residents within South Africa?\n",
      "DEV:src.chat_bot:0.1101:           B.2(H)(iv):        question: What is the maximum foreign exposure limit for investors? Are investements into African treated differently from other offshore investements?\n",
      "DEV:src.chat_bot:Top result: B.2(C)(ii) with a cosine distance of 0.0431\n",
      "DEV:src.chat_bot:Most common section: B.2(C)(i) with a minimum cosine distance of 0.052279849300405745\n",
      "DEV:src.chat_bot:References found that occur multiple times\n",
      "DEV:src.chat_bot:Reference: B.2(H)(iv), Count: 2, Min Cosine-Distance: 0.09314667547755417\n",
      "DEV:src.chat_bot:--   Filtered Sections\n",
      "DEV:src.chat_bot:0.0431 (*min dist):           B.2(C)(ii):  2\n",
      "DEV:src.chat_bot:0.0523 (*min dist):            B.2(C)(i):  3\n",
      "DEV:src.chat_bot:0.0931 (*min dist):           B.2(H)(iv):  2\n",
      "DEV:src.chat_bot:#################   RAG       #################\n",
      "INFO:src.chat_bot:\n",
      "You are attempting to answer questions from an Authorised Dealer based only on the relevant documentation provided. You have only three options:\n",
      "1) Answer the question. If you do this, your must preface to response with the word 'ANSWER:'. If possible also provide a reference to the relevant documentation for the user to cross-check. Use this if you are sure about your answer.\n",
      "2) Request additional documentation. If, in the body of the relevant documentation, is a reference to another section of the document that is directly relevant, respond with the word 'SECTION:' followed by the section reference which looks like A.1(A)(i)(aa). \n",
      "3) State 'NONE:' (and nothing else) in all cases where you are not confident about either of the first two options\n",
      "Potentially relevant definition(s):\n",
      "Foreign direct investment means the objective of obtaining a lasting interest by a resident entity in one economy (direct investor) in an entity resident in an economy other than that of the investor (direct investment enterprise). The lasting interest implies the existence of a long-term relationship between the direct investor and the direct investment enterprise, and a significant degree of influence on the management of the direct investment enterprise. A direct investment enterprise is defined as ‘an incorporated or unincorporated enterprise in which a foreign investor owns 10 per cent or more of the ordinary shares or voting power of an incorporated enterprise or the equivalent of an unincorporated enterprise’. Foreign nationals mean natural persons from countries outside the CMA who are temporarily resident in South Africa, excluding those on holiday or business visits. \n",
      "Potentially relevant document section(s):\n",
      "B.2 Capital transfers\n",
      "    (C) South African companies\n",
      "        (ii) Foreign direct investments exceeding R5 billion per applicant company per calendar year\n",
      "            (a) Foreign direct investments outside the CMA by mandated state owned companies, as defined in Schedule 2 of the Public Finance Management Act, 1999 (Act No. 1 of 1999) and companies, including requests that fall outside their current line of business, where the total cost of such investments exceeds R5 billion per investment, require the prior written approval of the Financial Surveillance Department.\n",
      "            (b) For statistical purposes, at least 10 per cent of the foreign target entity's equity and/or voting rights must be obtained.\n",
      "            (c) Foreign currency denominated facilities may be extended by Authorised Dealers to South African companies for the financing of approved foreign direct investments.\n",
      "            (d) Applications to the Financial Surveillance Department should, inter alia, include the following:\n",
      "                (aa) the business plan of the applicant; full details of the longer-term monetary benefits (excluding dividend flows) to be derived by South Africa on a continuous basis, substantiated by cash flow forecasts;\n",
      "                (bb) a pro forma balance sheet of the foreign target entity reflecting the financial position immediately prior to and after the investment from South Africa;\n",
      "                (cc) the percentage equity to be acquired in the foreign target entity and the percentage voting rights to be acquired;\n",
      "                (dd) the names and domicile of the shareholders of the applicant company;\n",
      "                (ee) the proposed financial structure of the foreign target entity to be acquired or to be established (i.e. issued share capital, loan funds, guarantees to be issued from South Africa or credit facilities to be availed of abroad, the respective amounts involved);\n",
      "                (ff) the manner in which the funds required will be employed; and an estimate of the annual running expenses of the foreign target entity.\n",
      "            (e) Authorised Dealers must inform their clients of the following conditions that are applicable to investments exceeding R5 billion per applicant company per calendar year:\n",
      "                (aa) while there are no limits on new outward foreign direct investments by South African companies, the Financial Surveillance Department reserves the right to stagger capital outflows relating to very large foreign investments so as to manage any potential impact on the foreign exchange market;\n",
      "                (bb) on application, foreign finance may be raised on the strength of the applicant company's South African balance sheet to finance foreign acquisitions;\n",
      "                (cc) companies wishing to invest in countries outside the CMA may apply to the Financial Surveillance Department to engage in corporate asset or share swap transactions in order to fund such investments or to repay existing offshore debt. Similarly, requests for share placements and bond issues offshore by locally listed companies will also be considered;\n",
      "                (dd) companies that have existing approved subsidiaries abroad are allowed to expand such activities without the prior written approval of the Financial Surveillance Department, provided that:\n",
      "                    (1) such expansion is financed by foreign borrowings, without recourse to South Africa, or by the employment of profits earned by that subsidiary;\n",
      "                    (2) the benefits to South Africa can be demonstrated; and\n",
      "                    (3) the local parent company places its proposed plans for the expansion of the investment on record with the Financial Surveillance Department at an early stage.\n",
      "                (ee) the retention of any balance of the profits earned would, bearing in mind the provisions of Regulation 6, have to be negotiated with the Financial Surveillance Department at the time of the normal annual report back;\n",
      "                (ff) dividends declared by offshore subsidiaries of South African companies may be retained offshore and used for any purpose without any recourse to South Africa. Dividends repatriated to South Africa may be retransferred abroad at any time and used for any purpose, provided that there is no recourse to South Africa.\n",
      "                (gg) all dividends declared by the offshore operation(s), the amounts repatriated to South Africa, or alternatively the dividend amounts retained abroad together with an indication of how such funds were utilised offshore, should be reported to the Financial Surveillance Department on an annual basis;and\n",
      "                (hh) Corporates with authorised foreign assets may invest in South Africa, provided that where South African assets are acquired through an offshore structure (loop structure), the investment is reported to an Authorised Dealer as and when the transaction(s) is finalised as well as the submission of an annual progress report to the Financial Surveillance Department via an Authorised Dealer. The aforementioned party also has to view an independent auditor's written confirmation or suitable documentary evidence verifying that such transaction(s) is concluded on an arm's length basis, for a fair and market related price.(ii) Upon completion of the transaction in (hh) above the Authorised Dealer must submit a report to the Financial Surveillance Department which should, inter alia, include the name(s) of the South African affiliated foreign investor(s), a description of the assets to be acquired (including inward foreign loans, the acquisition of shares and the acquisition of property), the name of the South African target investment company, if applicable and the date of the acquisition as well as the actual foreign currency amount introduced including a transaction reference number.\n",
      "                (jj) In addition, all inward loans from South African affiliated foreign investors must comply with the directives issued in section I.3(B) of the Authorised Dealer Manual.\n",
      "                (kk) Existing unauthorised loop structures (i.e. created by corporates prior to 2021-01-01) and/or unauthorised loop structures where the 40 per cent shareholding threshold was exceeded must still be regularised with the Financial Surveillance Department.\n",
      "B.2 Capital transfers\n",
      "    (C) South African companies\n",
      "        (i) Foreign direct investments not exceeding R5 billion per applicant company\n",
      "            (a) Authorised Dealers may approve requests by mandated state-owned companies, as defined in Schedule 2 of the Public Finance Management Act, 1999 (Act No.1 of 1999) and companies wishing to make bona fide new outward foreign direct investments into companies, branches and offices outside the CMA, including requests that fall outside their current line of business, where the total cost of such investments does not exceed R5 billion per company per calendar year.\n",
      "            (b) Foreign currency denominated facilities may be extended by Authorised Dealers to South African companies for the financing of approved foreign direct investments. In instances where the South African parent company wishes to directly issue a foreign denominated guarantee to cover the borrowing facilities of its authorised foreign subsidiary abroad and not through an Authorised Dealer, the matter must be referred to the Financial Surveillance Department for consideration.\n",
      "            (c) When considering requests of this nature, Authorised Dealers must have the following documents and information in their possession:\n",
      "                (aa) the name and registration number of the applicant company;\n",
      "                (bb) the names, domicile and percentage equity interest of all the shareholders in the applicant company (this only applies to private companies and excludes public and listed companies);\n",
      "                (cc) the applicant company's latest available financial statements verifying, inter alia, the applicant's nature of business;\n",
      "                (dd) details of how the investment will be funded (e.g. cash to be transferred and reflected as share capital or shareholders loans, guarantees to be issued), as well as details of capital goods that need to be exported from South Africa;\n",
      "                (ee) the proposed structure through which the foreign target entity will be held (i.e. directly from South Africa or via an interposed or holding company); and\n",
      "                (ff) the name(s) of the offshore target company(ies) and a description of what type of business it will be involved in.\n",
      "            (d) The following criteria must be strictly applied by Authorised Dealers when considering these requests:\n",
      "                (aa) state owned companies may not use low-tax jurisdictions as a conduit for outward foreign direct investments elsewhere in the world. This restriction is not applicable where the investment is made directly into a low-tax jurisdiction;\n",
      "                (bb) for statistical purposes, at least 10 per cent of the foreign target entity's voting rights must be obtained;\n",
      "                (cc) passive real-estate investments focused on achieving long-term appreciation of asset values with limited day-to-day management of the asset itself are excluded from this dispensation; and\n",
      "                (dd) where Authorised Dealers are in doubt and the conditions outlined above are not met, such requests must be referred to the Financial Surveillance Department.\n",
      "            (e) At the time of approving the investment, Authorised Dealers must report the following information to the Financial Surveillance Department:\n",
      "                (aa) the name and registration number of the applicant company and its nature of business;\n",
      "                (bb) the names, domicile and percentage equity interest of all the shareholders in the applicant company (this only applies to private companies and excludes public and listed companies);\n",
      "                (cc) name and domicile of the foreign target entity and its nature of business, also specifying whether this is the establishment of a new or an investment into an existing foreign entity;\n",
      "                (dd) the percentage equity interest and voting rights acquired in the foreign target entity;\n",
      "                (ee) details of how the investment will be funded (e.g. cash to be transferred and reflected as share capital or shareholders loans, guarantees to be issued), as well as details of capital goods exported from South Africa, if applicable. Where cash is to be transferred from South Africa, the amount and transaction reference number must be reported to the Financial Surveillance Department;\n",
      "                (ff) where applicable, the registered name and domicile of any foreign domiciled holding company, established to hold the target investment; and\n",
      "                (gg) where a new investment is made without funds being transferred from South Africa, the proposed investment must still be approved in terms of (c)(aa) to (ff) above and reported in the same manner as outlined herein.\n",
      "            (f) Authorised Dealers must inform their clients of the following conditions that are applicable to these investments:\n",
      "                (aa) the financial statements of the foreign target entities and holding companies must be submitted to the Financial Surveillance Department on an annual basis;\n",
      "                (bb) the financial accounts of approved foreign branch operations and the income and expenditure statements of approved foreign offices must be submitted to the Financial Surveillance Department on an annual basis;\n",
      "                (cc) in the event of the foreign investment being disposed of to non-residents, the net sale proceeds must be repatriated to South Africa in terms of the provisions of Regulation 6, under advice to the Financial Surveillance Department. Foreign investments to be disposed of to third-party South African residents require the specific prior written approval of the Financial Surveillance Department;\n",
      "                (dd) expansion of the foreign target entity's business is permitted, provided that such expansion is financed within the R5 billion foreign direct investment dispensation or alternatively without recourse to South Africa;\n",
      "                (ee) corporates with authorised foreign assets may invest in South Africa, provided that where South African assets are acquired through an offshore structure (loop structure), the investment is reported to an Authorised Dealer as and when the transaction(s) is finalised as well as the submission of an annual progress report to the Financial Surveillance Department via an Authorised Dealer. The aforementioned party also has to view an independent auditor's written confirmation or suitable documentary evidence verifying that such transaction(s) is concluded on an arm's length basis, for a fair and market related price;\n",
      "                (ff) upon completion of the transaction in (ee) above the Authorised Dealer must submit a report to the Financial Surveillance Department which should, inter alia, include the name(s) of the South African affiliated foreign investor(s), a description of the assets to be acquired (including inward foreign loans, the acquisition of shares and the acquisition of property), the name of the South African target investment company, if applicable and the date of the acquisition as well as the actual foreign currency amount introduced including a transaction reference number;\n",
      "                (gg) in addition, all inward loans from South African affiliated foreign investors must comply with the directives issued in section I.3(B) of the Authorised Dealer Manual;\n",
      "                (hh) existing unauthorised loop structures (i.e. created by corporates prior to 2021-01-01) and/or unauthorised loop structures where the 40 per cent shareholding threshold was exceeded, must still be regularised with the Financial Surveillance Department;\n",
      "                (ii) applicants may increase their approved equity interest and/or voting rights in the foreign target entity subject to the provisions of (jj) below. For classification purposes, should the applicants reduce or dilute their equity interest and/or voting rights below 10 per cent such information must be reported to the Financial Surveillance Department; any change in the nature of the foreign target entity's business must be reported to the Financial Surveillance Department;\n",
      "                (jj) requests to transfer unutilised amounts and/or additional working capital to foreign target entities and/or increase an applicant's approved equity interest and/or voting rights in a foreign target entity may be approved by Authorised Dealers in subsequent years provided that:\n",
      "                    (1) the amount to be remitted will not result in the applicant exceeding the R5 billion foreign direct investment dispensation; and\n",
      "                    (2) full details of such transfers and the purpose thereof must be forwarded by the Authorised Dealer to the Financial Surveillance Department;\n",
      "                (kk) requests to transfer the normal monthly running expenses of existing buying and/or selling offices established by local merchants may be approved by the Authorised Dealers within the foreign direct investment limit of R5 billion. Where existing buying and/or selling offices levy a charge for their services in the form of commissions, foreign currency to cover this charge may be made available, provided that:\n",
      "                    (1) the client confirms that the rate of commission is normal in the particular trade concerned;\n",
      "                    (2) no other funds are being remitted from South Africa to cover the maintenance and expenses of the office; and\n",
      "                    (3) the office is run on a non-profit earning basis.(ll) approved foreign branches and offices of South African companies are exempted from the provisions of Regulation 6 in respect of foreign earned profits and income with effect from 2022-02-23 and such funds may be retained abroad, subject to annual reporting;\n",
      "                (mm) excess profits earned by approved foreign entities should be declared as dividends on an annual basis. However, such dividends may be retained offshore and be used for any purpose offshore. Similarly, any dividends that are repatriated to South Africa may be retransferred abroad at any time and used for any purpose provided that there is no recourse to South Africa, except as provided for in (nn) below;\n",
      "                (nn) all dividends declared by the approved foreign entities, the amounts repatriated to South Africa or alternatively the dividend amounts retained abroad, together with an indication of how such funds were utilised offshore, should be reported to the Financial Surveillance Department on an annual basis;\n",
      "                (oo) where guarantees from South Africa have been issued and such guarantees are implemented, payment in terms thereof may be effected, provided that full details of the circumstances giving rise thereto are reported to the Financial Surveillance Department immediately; and\n",
      "                (pp) South Africa must remain the place of effective management for the applicant company and under no circumstances may the applicants re-domicile without the specific prior written approval of the Financial Surveillances Department; and the Financial Surveillance Department reserves the right to instruct the applicant company to dispose of the foreign investment and for the proceeds to be repatriated to South Africa, in the event of the above-mentioned criteria and conditions not being complied with.\n",
      "B.2 Capital transfers\n",
      "    (H) South African institutional investors\n",
      "        (iv) Prudential limit\n",
      "            (a) The foreign exposure of retail assets may not exceed:\n",
      "                (aa) 45 per cent in the case of pension funds; the linked and non-linked business of life insurers; CIS managers; and discretionary financial services providers registered as institutional investors with the Financial Surveillance Department.\n",
      "            (b) The prudential limit in respect of foreign exposure is applied to an institutional investor's total retail assets under management.\n",
      "            (c) The provisions of subsection (G) above should also be adhered to in respect of any offshore acquisitions held indirectly via a local private equity fund.\n",
      "            (d) For statistical purposes the quarterly asset allocation report should continue to be completed in its existing format, indicating the investments in offshore as well as the African assets separately. The combined exposure, i.e. offshore and African, should not exceed the prudential limit of 45 per cent of retail assets under management. In terms of investments in African assets, the following is applicable:\n",
      "                (aa) African debt encompasses debt securities issued and listed on a South African exchange by African governments, African public entities, African local authorities, African development agencies and by non-African development institutions where the funds raised are earmarked for use in Africa.\n",
      "                (bb) African assets can be acquired as follows:\n",
      "                    (1) directly by acquiring foreign currency denominated portfolio assets in Africa through foreign currency transfers from South Africa. A collective investment scheme in South Africa sanctioned by the Financial Sector Conduct Authority is preferred in instances where the institutional investor wishes to obtain direct African exposure by means of a pooling arrangement (e.g. an African fund set up specifically by a managing institution);\n",
      "                    (2) indirectly by acquiring approved inward listed debt instruments listed on a South African exchange and classified as ‘African'. (See (d)(aa) above for the criteria for ‘African' classification);\n",
      "                    (3) indirectly, on application to the Financial Surveillance Department through an Authorised Dealer, through a foreign registered fund mandated to invest into Africa. The foreign registered fund should be mandated to invest at least 75 per cent of funds under management into Africa. A copy of the mandate or prospectus must accompany such application; or\n",
      "                    (4) indirectly, on application to the Financial Surveillance Department through an Authorised Dealer, through investments in instruments issued by African entities that are listed on non-African exchanges to raise funds earmarked for use in Africa.\n",
      "            (e) Compliance with the prudential limit does not preclude an institutional investor from also having to comply with any relevant prudential regulations as administered by the Financial Sector Conduct Authority.\n",
      "WARNING:src.chat_bot:!!! NOTE !!! You have a very long prompt. Switching to the gpt-3.5-turbo-16k model\n",
      "WARNING:src.chat_bot:Initial call did not create a response in the correct format. Retrying\n",
      "WARNING:src.chat_bot:The response was:\n",
      "WARNING:src.chat_bot:The foreign investment limit for South African institutional investors is as follows:\n",
      "\n",
      "1) The foreign exposure of retail assets may not exceed 45% for pension funds, the linked and non-linked business of life insurers, CIS managers, and discretionary financial services providers registered as institutional investors with the Financial Surveillance Department.\n",
      "\n",
      "2) The prudential limit is applied to an institutional investor's total retail assets under management.\n",
      "\n",
      "3) The provisions of subsection (G) should also be adhered to in respect of any offshore acquisitions held indirectly via a local private equity fund.\n",
      "\n",
      "4) The quarterly asset allocation report should indicate investments in offshore assets and African assets separately. The combined exposure, i.e., offshore and African, should not exceed the prudential limit of 45% of retail assets under management.\n",
      "\n",
      "Reference: B.2 Capital transfers (H) South African institutional investors (iv)(a) of the Exchange Control Manual for Authorised Dealers.\n",
      "DEV:src.chat_bot:-- Question asked and answered\n",
      "DEV:src.chat_bot:\n",
      "Assistant: The foreign investment limit for South African institutional investors is 45% of retail assets under management for pension funds, the linked and non-linked business of life insurers, CIS managers, and discretionary financial services providers registered as institutional investors with the Financial Surveillance Department.\n",
      "\n",
      "Reference: B.2 Capital transfers (H) South African institutional investors (iv)(a) of the Exchange Control Manual for Authorised Dealers.\n",
      "INFO:src.chat_bot:assistant: The foreign investment limit for South African institutional investors is 45% of retail assets under management for pension funds, the linked and non-linked business of life insurers, CIS managers, and discretionary financial services providers registered as institutional investors with the Financial Surveillance Department.\n",
      "\n",
      "Reference: B.2 Capital transfers (H) South African institutional investors (iv)(a) of the Exchange Control Manual for Authorised Dealers.\n"
     ]
    },
    {
     "name": "stdout",
     "output_type": "stream",
     "text": [
      "assistant: The foreign investment limit for South African institutional investors is 45% of retail assets under management for pension funds, the linked and non-linked business of life insurers, CIS managers, and discretionary financial services providers registered as institutional investors with the Financial Surveillance Department.\n",
      "\n",
      "Reference: B.2 Capital transfers (H) South African institutional investors (iv)(a) of the Exchange Control Manual for Authorised Dealers.\n"
     ]
    }
   ],
   "source": [
    "#user_context = \"What is a CFC Account?\"\n",
    "#user_context = \"I am submitting documentation to the financial surveillance department. What information do I need to include in my submission?\" # (A.3 (B))\n",
    "#user_context = \"Can a bank provide foreign currency denominated facilities to a South African Corporate?\" #  (A.3 (B))\n",
    "#user_context = \"For how long does the approval for a facility remain valid?\" #  (A.3 (B))\n",
    "#user_context = \"Other than authorised transaction requests, are there requirements for authorised dealers to submit information to the financial surveillance department?\" #  (A.3 (B))\n",
    "#user_context = \"I have been asked to act on an approval issued to another bank. Can I do that?\" #  (A.3 (B))\n",
    "#####user_context = \"--- Same as above but use \"Authorised Dealer\" instead of \"Bank\"\n",
    "#user_context = \"If I am concerned that as client may in breach of regulations, what should I do?\" #  (A.3 (B))\n",
    "#user_context = \"What constitutes 'documentary evidence' for a foreign currency transaction?\" #  (A.3 (C))\n",
    "#user_context = \"Is Swaziland part of the CMA?\" #  (A.3 (E))\n",
    "#user_context = \"A client wants to buy Namibian Dollars. What approvals do they need before they can do this?\" #  (A.3 (E))\n",
    "#user_context = \"A person from Lesotho wants to buy dollars from me. Can I sell them the dollars?\" #  (A.3 (E))\n",
    "#user_context = \"A person from Namibia wants to buy rand from me. Can I sell them the rand?\" #  (A.3 (E))\n",
    "#user_context = \"A treasury management company wants to trade dollars with me. What do I need to check before I can do this?\" #  (A.4 (B))\n",
    "#user_context = \"A client wants to import goods and pay in foreign currency. What documentation do I need before I can assist with the transaction\" #  (B.1 (B))\n",
    "#user_context = \"Over and above the price of the goods, what additional costs can be covered in foreign currency?\" #  (B.1 (C))\n",
    "#user_context = \"Can advance payment be made in a foreign currency to cover imported goods?\" #  (B.1 (D)(i))\n",
    "\n",
    "#user_context = \"Can advance payment be made in a foreign currency to cover imported capital goods?\" #  (B.1 (D)(ii))\n",
    "#user_context = \"When paying for imports in cash, what documentation is required before providing the foreign currency?\" #  (B.1 (D)(iii))\n",
    "\n",
    "#user_context = \"Can imported goods be financed over more than 12 months?\" #  (B.1 (D)(iv))\n",
    "#user_context = \"How much money can an individual invest internationally?\" #  ?\n",
    "#user_context = \"How much money can an individual take offshore?\" #  ?\n",
    "\n",
    "#user_context = \"A media company want to list offshore. Are there specific conditions for this?\"\n",
    "# user_context = \"How many rands can a resident take offshore in cash?\"\n",
    "#user_context = \"Can I grant a foreign company a Rand facility to pay for goods they wish to purchase from a South African exporter?\"\n",
    "#user_context = \"Can I support a non-residential entity with short-term rand trade finance for their exports from South Africa?\"\n",
    "#user_context = \"Hi\"\n",
    "#user_context = \"Who can trade gold?\"\n",
    "#user_context = \"are there specific exchange control rules for religious organizations?\"\n",
    "#user_context = \"How much foreign currency can a charity take offshore each year?\"\n",
    "\n",
    "\n",
    "#user_context = \"A non-resident wants to buy residential property in South Africa. What are the restrictions around doing this?\"\n",
    "#user_context = \"A South African citizen is emigrating. What is the process they need to follow to take all their cash offshore?\"\n",
    "user_context = \"What is the Foreign investment limits for South African institutional investors?\"\n",
    "\n",
    "\n",
    "excon.user_provides_input(user_context, threshold=0.15, model_to_use=model_to_use, temperature=0, max_tokens=300)\n",
    "\n",
    "print(f'{excon.messages[-1][\"role\"]}: {excon.messages[-1][\"content\"]}')\n",
    "\n"
   ]
  },
  {
   "cell_type": "code",
   "execution_count": 30,
   "metadata": {},
   "outputs": [
    {
     "name": "stdout",
     "output_type": "stream",
     "text": [
      "{'role': 'system', 'content': \"You are attempting to answer questions from an Authorised Dealer based only on the relevant documentation provided. You have only three options:\\n1) Answer the question. If you do this, your must preface to response with the word 'ANSWER:'. If possible also provide a reference to the relevant documentation for the user to cross-check. Use this if you are sure about your answer.\\n2) Request additional documentation. If, in the body of the relevant documentation, is a reference to another section of the document that is directly relevant, respond with the word 'SECTION:' followed by the section reference which looks like A.1(A)(i)(aa). \\n3) State 'NONE:' (and nothing else) in all cases where you are not confident about either of the first two options\\nPotentially relevant document section(s):\\nIntroduction \\n    In terms of Regulation 2(2), an Authorised Dealer shall not buy, borrow, receive, sell, lend or deliver any foreign currency or gold except for such purposes or on such conditions as the Treasury, as defined, may determine, subject to the delegation referred to above.\\n    This Currency and Exchanges Manual for Authorised Dealers (Authorised Dealer Manual) contains the permissions and conditions applicable to transactions in foreign exchange that may be undertaken by Authorised Dealers and/or on behalf of their clients in terms of Regulation 2(2), details of related administrative responsibilities as well as the FinSurv Reporting requirements. This Authorised Dealer Manual must be read in conjunction with the Regulations and Authorised Dealers may transact without reference to the Financial Surveillance Department, provided such transactions are permitted in terms of this Authorised Dealer Manual.\\n    The arrangements set out in the Authorised Dealer Manual should in no manner be construed as absolving Authorised Dealers, their clients and associated entities from their duties and obligations under any other law, including but not limited to the Prevention of Organised Crime Act, 1998 (Act No. 121 of 1998), the Financial Intelligence Centre Act, 2001 (Act No. 38 of 2001) and the Protection of Constitutional Democracy against Terrorist and Related Activities Act, 2004 (Act No. 33 of 2004).\\n    The Financial Surveillance Department views contraventions of the Exchange Control Regulations, as well as any actions to circumvent the permissions and conditions contained in the Authorised Dealer Manual, in a very serious light.\\n    The Financial Surveillance Department reserves the right to amend, grant or impose additional permissions or conditions, with new or amended permissions or conditions which will be communicated by the Financial Surveillance Department on its website.\\n    In instances where an Authorised Dealer is not in a position to buy, borrow, sell or lend foreign currency in terms of the permissions and conditions set out in the Authorised Dealer Manual, an official application with full details applicable to the request must be submitted to the Financial Surveillance Department.\\n    For the benefit of the general public, Currency and Exchanges guidelines for business entities and Currency and Exchanges guidelines for individuals have been published by the Financial Surveillance Department. These guidelines set out, in less technical terms, the permissions and conditions relating to cross-border foreign transactions.\\n    The Authorised Dealer Manual, ADLA Manual, Currency and Exchanges guidelines for business entities, Currency and Exchanges guidelines for individuals and applicable amendments thereto are available on the South African Reserve Bank's website: www.resbank.co.za.\\nC. Gold\\n    (C) Acquisition of gold for trade purposes\\n        (i) The acquisition of gold for legitimate trade purposes by e.g. manufacturing jewellers, dentists, is subject to the approval of the South African Diamond and Precious Metals Regulator.\\n        (ii) After receiving such approval, a permit must be obtained from SARS which will entitle the permit holder to approach Rand Refinery Limited for an allocation of gold.\\n        (iii) The holders of gold, having received the approvals outlined above, are exempt from the provisions of Regulation 5(1).\\nC. Gold\\n    (B) Other exports of gold\\n        (i) All applications for permission to export gold in any form should be referred to the South African Diamond and Precious Metals Regulator.\"}\n",
      "{'role': 'user', 'content': 'Who can trade gold?'}\n",
      "Flag: ANSWER:\n",
      "Response:  Gold can be traded by individuals or entities who have obtained the necessary approvals and permits from the South African Diamond and Precious Metals Regulator. (Reference: C. Gold (C)(i) - Acquisition of gold for trade purposes)\n"
     ]
    }
   ],
   "source": [
    "flag, response = excon.resource_augmented_query(user_context, model_to_use = model_to_use, temperature = 0.0, max_tokens = 512, df_definitions = df_definitions, df_search_sections = df_search_sections)\n",
    "print(f\"Flag: {flag}\")\n",
    "print(f'Response: {response}')\n"
   ]
  },
  {
   "cell_type": "code",
   "execution_count": 80,
   "metadata": {},
   "outputs": [
    {
     "name": "stdout",
     "output_type": "stream",
     "text": [
      "B.2 Capital transfers\n",
      "    (H) South African institutional investors\n",
      "        (iv) Prudential limit\n",
      "            (a) The foreign exposure of retail assets may not exceed:\n",
      "                (aa) 45 per cent in the case of pension funds; the linked and non-linked business of life insurers; CIS managers; and discretionary financial services providers registered as institutional investors with the Financial Surveillance Department.\n"
     ]
    }
   ],
   "source": [
    "print(excon.get_regulation_detail('B.2 Capital transfers (H) South African institutional investors (iv)(a)'))\n",
    "#print(excon.get_regulation_detail('B.2(H)(iv)(a)'))\n"
   ]
  },
  {
   "cell_type": "code",
   "execution_count": 3,
   "metadata": {},
   "outputs": [],
   "source": [
    "excon_test = ExconManual(log_file='',input_folder = \"./inputs_test/\")\n",
    "#excon_test = ExconManual(log_file='',input_folder = \"./inputs/\")\n"
   ]
  },
  {
   "cell_type": "code",
   "execution_count": 4,
   "metadata": {},
   "outputs": [
    {
     "name": "stderr",
     "output_type": "stream",
     "text": [
      "INFO:src.chat_bot:#################   Similarity Search       #################\n",
      "INFO:src.chat_bot:--   No relevant definitions found\n",
      "INFO:src.chat_bot:--   Relevant Sections\n",
      "INFO:src.chat_bot:0.1318:                C.(C):         heading: Acquisition of gold for trade purposes\n",
      "INFO:src.chat_bot:0.1489:                C.(G):         heading: Applications for the importation of gold\n",
      "INFO:src.chat_bot:Top result: C.(C) with a cosine distance of 0.13176155036104042\n",
      "INFO:src.chat_bot:No unique mode\n",
      "INFO:src.chat_bot:Only the top result added but more were found. Adding the next most likely answer\n",
      "INFO:src.chat_bot:--   Filtered Sections\n",
      "INFO:src.chat_bot:0.1318            :                C.(C):  1\n",
      "INFO:src.chat_bot:0.1489            :                C.(G):  1\n"
     ]
    }
   ],
   "source": [
    "#user_context = \"How much money can an individual take offshore in any year?\"\n",
    "user_context = \"Who can trade gold\"\n",
    "relevant_definitions, relevant_sections = excon_test.similarity_search(user_context)\n",
    "\n",
    "\n",
    "# response = excon_test.user_provides_input(user_context=user_context,\n",
    "#                                           threshold=0.15,\n",
    "#                                           model_to_use=\"gpt-3.5-turbo\", \n",
    "#                                           temperature = 0, \n",
    "#                                           max_tokens = 200, \n",
    "#                                           df_definitions = relevant_definitions, \n",
    "#                                           df_search_sections = relevant_sections)\n",
    "# print(response)\n"
   ]
  },
  {
   "cell_type": "code",
   "execution_count": 49,
   "metadata": {},
   "outputs": [
    {
     "data": {
      "text/html": [
       "<div>\n",
       "<style scoped>\n",
       "    .dataframe tbody tr th:only-of-type {\n",
       "        vertical-align: middle;\n",
       "    }\n",
       "\n",
       "    .dataframe tbody tr th {\n",
       "        vertical-align: top;\n",
       "    }\n",
       "\n",
       "    .dataframe thead th {\n",
       "        text-align: right;\n",
       "    }\n",
       "</style>\n",
       "<table border=\"1\" class=\"dataframe\">\n",
       "  <thead>\n",
       "    <tr style=\"text-align: right;\">\n",
       "      <th></th>\n",
       "      <th>reference</th>\n",
       "      <th>cosine_distance</th>\n",
       "      <th>count</th>\n",
       "      <th>raw_text</th>\n",
       "      <th>token_count</th>\n",
       "    </tr>\n",
       "  </thead>\n",
       "  <tbody>\n",
       "    <tr>\n",
       "      <th>0</th>\n",
       "      <td>C.(C)</td>\n",
       "      <td>0.131650</td>\n",
       "      <td>1</td>\n",
       "      <td>C. Gold\\n    (C) Acquisition of gold for trade...</td>\n",
       "      <td>119</td>\n",
       "    </tr>\n",
       "    <tr>\n",
       "      <th>1</th>\n",
       "      <td>C.(G)</td>\n",
       "      <td>0.148842</td>\n",
       "      <td>1</td>\n",
       "      <td>C. Gold\\n    (G) Applications for the importat...</td>\n",
       "      <td>43</td>\n",
       "    </tr>\n",
       "  </tbody>\n",
       "</table>\n",
       "</div>"
      ],
      "text/plain": [
       "  reference  cosine_distance  count  \\\n",
       "0     C.(C)         0.131650      1   \n",
       "1     C.(G)         0.148842      1   \n",
       "\n",
       "                                            raw_text  token_count  \n",
       "0  C. Gold\\n    (C) Acquisition of gold for trade...          119  \n",
       "1  C. Gold\\n    (G) Applications for the importat...           43  "
      ]
     },
     "execution_count": 49,
     "metadata": {},
     "output_type": "execute_result"
    }
   ],
   "source": [
    "relevant_sections"
   ]
  },
  {
   "cell_type": "code",
   "execution_count": 5,
   "metadata": {},
   "outputs": [
    {
     "name": "stderr",
     "output_type": "stream",
     "text": [
      "INFO:src.chat_bot:#################   RAG       #################\n",
      "INFO:src.chat_bot:\n",
      "You are attempting to answer questions from an Authorised Dealer based only on the relevant documentation provided. You have only three options:\n",
      "1) Answer the question. If you do this, your must preface to response with the word 'ANSWER:'. If possible also provide a reference to the relevant documentation for the user to cross-check. Use this if you are sure about your answer.\n",
      "2) Request additional documentation. If, in the body of the relevant documentation, is a reference to another section of the document that is directly relevant, respond with the word 'SECTION:' followed by the section reference which looks like A.1(A)(i)(aa). \n",
      "3) State 'NONE:' (and nothing else) in all cases where you are not confident about either of the first two options\n",
      "Potentially relevant document section(s):\n",
      "C. Gold\n",
      "    (C) Acquisition of gold for trade purposes\n",
      "        (i) The acquisition of gold for legitimate trade purposes by e.g. manufacturing jewellers, dentists, is subject to the approval of the South African Diamond and Precious Metals Regulator.\n",
      "        (ii) After receiving such approval, a permit must be obtained from SARS which will entitle the permit holder to approach Rand Refinery Limited for an allocation of gold.\n",
      "        (iii) The holders of gold, having received the approvals outlined above, are exempt from the provisions of Regulation 5(1).\n",
      "C. Gold\n",
      "    (G) Applications for the importation of gold\n",
      "        (i) All applications for the importation of gold must be referred to the South African Diamond and Precious Metals Regulator.\n"
     ]
    }
   ],
   "source": [
    "excon_test.messages = [{\"role\": \"user\", \"content\": \"Who can trade gold?\"}]\n",
    "\n",
    "flag, response = excon_test.resource_augmented_query(model_to_use=\"gpt-3.5-turbo\", \n",
    "                                                     temperature = 0, \n",
    "                                                     max_tokens = 200, \n",
    "                                                     df_definitions = relevant_definitions, \n",
    "                                                     df_search_sections = relevant_sections)"
   ]
  },
  {
   "cell_type": "code",
   "execution_count": 6,
   "metadata": {},
   "outputs": [
    {
     "name": "stdout",
     "output_type": "stream",
     "text": [
      "ANSWER:\n",
      " The acquisition of gold for legitimate trade purposes, such as by manufacturing jewellers or dentists, is subject to the approval of the South African Diamond and Precious Metals Regulator. After receiving such approval, a permit must be obtained from SARS, which will allow the permit holder to approach Rand Refinery Limited for an allocation of gold. The holders of gold, having received the necessary approvals, are exempt from certain provisions of Regulation 5(1). (Reference: C. Gold (C)(i))\n"
     ]
    }
   ],
   "source": [
    "print(flag)\n",
    "print(response)"
   ]
  },
  {
   "cell_type": "code",
   "execution_count": 6,
   "metadata": {},
   "outputs": [],
   "source": [
    "import pandas as pd\n",
    "text = \"I.2 Local facilities to non-residents\\n\\\n",
    "        (A) Short-term trade finance extended by a local Authorised Dealer to a non-resident directly related to the export of goods or services from South Africa\\n\\\n",
    "            (i) In order to facilitate the export of goods from South Africa, the Financial Surveillance Department is prepared to permit local Authorised Dealers, on application, to extend short-term finance facilities denominated in Rand or a foreign currency to the non-resident importer or his/her banker abroad on the conditions mentioned below.\\n\\\n",
    "                (a) Finance facilities denominated in Rand\\n\\\n",
    "                    (aa) The facilities must relate to the post-shipment finance of the export of a specific shipment of goods and at the time of drawdown, the local Authorised Dealer extending these facilities must view the prescribed SARS Customs Declaration.\\n\\\n",
    "                    (bb) The foreign currency proceeds eventually received in South Africa and/or payments received from any Non-resident Rand account, must be utilised to liquidate the aforementioned short-term export finance facility. The relevant Financial Surveillance Department requirements relating to the reporting in terms of the Reporting System and the observance of the 30-day rule must be complied with.\\n\\\n",
    "                    (cc) The overall finance period, including any initial credit granted by the exporter, may not exceed six months from date of shipment of the underlying goods from South Africa unless the dispensation outlined in section B.18(B)(i)(b) of the Authorised Dealer Manual has been granted, when the overall finance period, including any initial credit granted by the exporter, may not exceed 12 months from date of shipment of the underlying goods from South Africa. An export finance facility may be extended in the event of the overseas importer requiring an extension of the original credit period, provided that the overall finance periods set out above are not exceeded.\\n\\\n",
    "                    (dd) The facility must be repaid with foreign currency and/or by payment from a Non-resident Rand account. No facility may be drawn down where the proceeds of the underlying export transaction have already been received.\"\n",
    "manual_data = [\"I.2(A)(i)(a)\", 1, text, 100]\n",
    "df_manual_data = pd.DataFrame([manual_data], columns = [\"reference\", \"count\", \"raw_text\", \"token_count\"])"
   ]
  },
  {
   "cell_type": "code",
   "execution_count": 10,
   "metadata": {},
   "outputs": [],
   "source": [
    "question = \"Can you list the dispensations necessary for a rand facility to a non-resident exceed 6 months?\"\n",
    "excon_test.messages = [{\"role\": \"user\", \"content\": question}]\n",
    "flag, response = excon_test.resource_augmented_query(model_to_use=\"gpt-4\", #\"gpt-3.5-turbo\", \n",
    "                                                     temperature = 0, \n",
    "                                                     max_tokens = 200, \n",
    "                                                     df_definitions = pd.DataFrame(), \n",
    "                                                     df_search_sections = df_manual_data)"
   ]
  },
  {
   "cell_type": "code",
   "execution_count": 11,
   "metadata": {},
   "outputs": [
    {
     "name": "stdout",
     "output_type": "stream",
     "text": [
      "SECTION:\n",
      " B.18(B)(i)(b)\n"
     ]
    }
   ],
   "source": [
    "print(flag)\n",
    "print(response)"
   ]
  },
  {
   "cell_type": "code",
   "execution_count": 14,
   "metadata": {},
   "outputs": [
    {
     "data": {
      "text/plain": [
       "'B.18(B)(i)(b)'"
      ]
     },
     "execution_count": 14,
     "metadata": {},
     "output_type": "execute_result"
    }
   ],
   "source": [
    "section_to_add = response\n",
    "section_to_add = section_to_add.strip()\n",
    "section_to_add"
   ]
  },
  {
   "cell_type": "code",
   "execution_count": 18,
   "metadata": {},
   "outputs": [],
   "source": [
    "import regex\n",
    "\n",
    "def find_fuzzy_reference(section_details, reference):\n",
    "    # Remove special regex characters from the reference string and escape it\n",
    "    sanitized_reference = regex.sub(r'[\\\\.*+?^${}()|[\\]]', '', reference)\n",
    "    pattern = r'(%s){e<=2}' % sanitized_reference\n",
    "    match = regex.search(pattern, section_details)\n",
    "    if match:\n",
    "        return match.group()\n",
    "    else:\n",
    "        return None"
   ]
  },
  {
   "cell_type": "code",
   "execution_count": 20,
   "metadata": {},
   "outputs": [
    {
     "name": "stdout",
     "output_type": "stream",
     "text": [
      "None\n"
     ]
    }
   ],
   "source": [
    "text = \"I.2 Local facilities to non-residents\\n\\\n",
    "        (A) Short-term trade finance extended by a local Authorised Dealer to a non-resident directly related to the export of goods or services from South Africa\\n\\\n",
    "            (i) In order to facilitate the export of goods from South Africa, the Financial Surveillance Department is prepared to permit local Authorised Dealers, on application, to extend short-term finance facilities denominated in Rand or a foreign currency to the non-resident importer or his/her banker abroad on the conditions mentioned below.\\n\\\n",
    "                (a) Finance facilities denominated in Rand\\n\\\n",
    "                    (aa) The facilities must relate to the post-shipment finance of the export of a specific shipment of goods and at the time of drawdown, the local Authorised Dealer extending these facilities must view the prescribed SARS Customs Declaration.\\n\\\n",
    "                    (bb) The foreign currency proceeds eventually received in South Africa and/or payments received from any Non-resident Rand account, must be utilised to liquidate the aforementioned short-term export finance facility. The relevant Financial Surveillance Department requirements relating to the reporting in terms of the Reporting System and the observance of the 30-day rule must be complied with.\\n\\\n",
    "                    (cc) The overall finance period, including any initial credit granted by the exporter, may not exceed six months from date of shipment of the underlying goods from South Africa unless the dispensation outlined in section B.18(B)(i)(b) of the Authorised Dealer Manual has been granted, when the overall finance period, including any initial credit granted by the exporter, may not exceed 12 months from date of shipment of the underlying goods from South Africa. An export finance facility may be extended in the event of the overseas importer requiring an extension of the original credit period, provided that the overall finance periods set out above are not exceeded.\\n\\\n",
    "                    (dd) The facility must be repaid with foreign currency and/or by payment from a Non-resident Rand account. No facility may be drawn down where the proceeds of the underlying export transaction have already been received.\"\n",
    "        \n",
    "section = \"B.18 Gold (B)(i)(b)\"\n",
    "match = find_fuzzy_reference(text, section)\n",
    "print(match)"
   ]
  },
  {
   "cell_type": "code",
   "execution_count": 17,
   "metadata": {},
   "outputs": [
    {
     "data": {
      "text/plain": [
       "str"
      ]
     },
     "execution_count": 17,
     "metadata": {},
     "output_type": "execute_result"
    }
   ],
   "source": [
    "type(match)"
   ]
  },
  {
   "cell_type": "code",
   "execution_count": 31,
   "metadata": {},
   "outputs": [],
   "source": [
    "import re\n",
    "\n",
    "def extract_valid_reference(input_string):\n",
    "    excon_index_patterns = [\n",
    "        r'[A-Z]',\n",
    "        r'\\.\\d{1,2}',\n",
    "        r'\\([A-Z]\\)',\n",
    "        r'\\((i|ii|iii|iv|v|vi|vii|viii|ix|x|xi|xii|xiii|xiv|xv|xvi|xvii|xviii|xix|xx|xxi|xxii|xxiii)\\)',\n",
    "        r'\\([a-z]\\)',\n",
    "        r'\\([a-z]{2}\\)',\n",
    "        r'\\((?:[1-9]|[1-9][0-9])\\)'\n",
    "    ]\n",
    "    \n",
    "    partial_ref = \"\"\n",
    "    remaining_str = input_string\n",
    "    \n",
    "    for pattern in excon_index_patterns:\n",
    "        match = re.search(pattern, remaining_str)\n",
    "        if match:\n",
    "            partial_ref += match.group()\n",
    "            remaining_str = remaining_str[match.end():]\n",
    "        else:\n",
    "            if remaining_str:\n",
    "                return None\n",
    "            break\n",
    "    \n",
    "    return partial_ref if partial_ref else None"
   ]
  },
  {
   "cell_type": "code",
   "execution_count": 32,
   "metadata": {},
   "outputs": [
    {
     "name": "stdout",
     "output_type": "stream",
     "text": [
      "B.18(B)(i)(b)\n",
      "None\n",
      "A.1\n"
     ]
    }
   ],
   "source": [
    "# Test the function\n",
    "print(extract_valid_reference('B.18 Gold (B)(i)(b)'))  # Output: 'B.18(B)(i)(b)'\n",
    "print(extract_valid_reference('B.18 Gold (B)(a)(b)'))  # Output: None\n",
    "print(extract_valid_reference('A.1'))  # Output: 'A.1'"
   ]
  },
  {
   "cell_type": "code",
   "execution_count": null,
   "metadata": {},
   "outputs": [],
   "source": []
  }
 ],
 "metadata": {
  "kernelspec": {
   "display_name": "Python 3.10.4 ('env': venv)",
   "language": "python",
   "name": "python3"
  },
  "language_info": {
   "codemirror_mode": {
    "name": "ipython",
    "version": 3
   },
   "file_extension": ".py",
   "mimetype": "text/x-python",
   "name": "python",
   "nbconvert_exporter": "python",
   "pygments_lexer": "ipython3",
   "version": "3.10.4"
  },
  "orig_nbformat": 4,
  "vscode": {
   "interpreter": {
    "hash": "007219f1a1c0c3993c3211d5a541b1fa109902aadb48cb5499ee55023bf45452"
   }
  }
 },
 "nbformat": 4,
 "nbformat_minor": 2
}
