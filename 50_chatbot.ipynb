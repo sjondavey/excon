{
 "cells": [
  {
   "cell_type": "code",
   "execution_count": 2,
   "metadata": {},
   "outputs": [],
   "source": [
    "import importlib\n",
    "import src.chat_bot\n",
    "importlib.reload(src.chat_bot)\n",
    "from src.chat_bot import ExconManual"
   ]
  },
  {
   "cell_type": "code",
   "execution_count": 5,
   "metadata": {},
   "outputs": [],
   "source": [
    "#ad = True\n",
    "ad = False\n",
    "\n",
    "logging_level = 15\n",
    "log_file = ''\n",
    "\n",
    "if ad:\n",
    "    path_to_manual_as_csv_file = \"./inputs/ad_manual.csv\"\n",
    "    path_to_definitions_as_parquet_file = \"./inputs/ad_definitions.parquet\"\n",
    "    path_to_index_as_parquet_file = \"./inputs/ad_index.parquet\"\n",
    "    excon = ExconManual(path_to_manual_as_csv_file, path_to_definitions_as_parquet_file, path_to_index_as_parquet_file, log_file=log_file, logging_level=logging_level)\n",
    "else:\n",
    "    path_to_manual_as_csv_file = \"./inputs/adla_manual.csv\"\n",
    "    path_to_definitions_as_parquet_file = \"./inputs/adla_definitions.parquet\"\n",
    "    path_to_index_as_parquet_file = \"./inputs/adla_index.parquet\"\n",
    "    excon = ExconManual(path_to_manual_as_csv_file, path_to_definitions_as_parquet_file, path_to_index_as_parquet_file, chat_for_ad = False,log_file=log_file, logging_level=logging_level)\n"
   ]
  },
  {
   "cell_type": "code",
   "execution_count": 12,
   "metadata": {},
   "outputs": [],
   "source": [
    "import pandas as pd\n",
    "#df_definitions_all = pd.read_parquet(path_to_definitions_as_parquet_file, engine='pyarrow')\n",
    "df_text_all = pd.read_parquet(path_to_index_as_parquet_file, engine='pyarrow')"
   ]
  },
  {
   "cell_type": "code",
   "execution_count": 13,
   "metadata": {},
   "outputs": [
    {
     "data": {
      "text/html": [
       "<div>\n",
       "<style scoped>\n",
       "    .dataframe tbody tr th:only-of-type {\n",
       "        vertical-align: middle;\n",
       "    }\n",
       "\n",
       "    .dataframe tbody tr th {\n",
       "        vertical-align: top;\n",
       "    }\n",
       "\n",
       "    .dataframe thead th {\n",
       "        text-align: right;\n",
       "    }\n",
       "</style>\n",
       "<table border=\"1\" class=\"dataframe\">\n",
       "  <thead>\n",
       "    <tr style=\"text-align: right;\">\n",
       "      <th></th>\n",
       "      <th>section</th>\n",
       "      <th>text</th>\n",
       "      <th>source</th>\n",
       "      <th>Embedding</th>\n",
       "    </tr>\n",
       "  </thead>\n",
       "  <tbody>\n",
       "    <tr>\n",
       "      <th>0</th>\n",
       "      <td>A.3(A)</td>\n",
       "      <td>What are the different categories of an ADLA a...</td>\n",
       "      <td>question</td>\n",
       "      <td>[0.01191499549895525, 0.005717828404158354, -3...</td>\n",
       "    </tr>\n",
       "    <tr>\n",
       "      <th>1</th>\n",
       "      <td>A.3(A)</td>\n",
       "      <td>What are some services an ADLA can provide?</td>\n",
       "      <td>question</td>\n",
       "      <td>[0.017316650599241257, 0.012317745015025139, -...</td>\n",
       "    </tr>\n",
       "    <tr>\n",
       "      <th>2</th>\n",
       "      <td>A.3(A)</td>\n",
       "      <td>Can all ADLAs operate a Bureau de Change or pr...</td>\n",
       "      <td>question</td>\n",
       "      <td>[-0.00110212666913867, -0.004164155572652817, ...</td>\n",
       "    </tr>\n",
       "    <tr>\n",
       "      <th>3</th>\n",
       "      <td>A.3(B)(i)</td>\n",
       "      <td>What is the process to become an Authorised De...</td>\n",
       "      <td>question</td>\n",
       "      <td>[0.022449666634202003, -0.009842596016824245, ...</td>\n",
       "    </tr>\n",
       "    <tr>\n",
       "      <th>4</th>\n",
       "      <td>A.3(B)(i)</td>\n",
       "      <td>Who approves ADLAs?</td>\n",
       "      <td>question</td>\n",
       "      <td>[0.016875632107257843, -0.007422278635203838, ...</td>\n",
       "    </tr>\n",
       "    <tr>\n",
       "      <th>...</th>\n",
       "      <td>...</td>\n",
       "      <td>...</td>\n",
       "      <td>...</td>\n",
       "      <td>...</td>\n",
       "    </tr>\n",
       "    <tr>\n",
       "      <th>320</th>\n",
       "      <td>C.1(H)(i)</td>\n",
       "      <td>FinSurv Reporting System. Balance-of-payments ...</td>\n",
       "      <td>heading</td>\n",
       "      <td>[-0.01508619636297226, 0.00018646813987288624,...</td>\n",
       "    </tr>\n",
       "    <tr>\n",
       "      <th>321</th>\n",
       "      <td>C.1(H)(ii)</td>\n",
       "      <td>FinSurv Reporting System. Balance-of-payments ...</td>\n",
       "      <td>heading</td>\n",
       "      <td>[-0.00906417891383171, -0.011498916894197464, ...</td>\n",
       "    </tr>\n",
       "    <tr>\n",
       "      <th>322</th>\n",
       "      <td>C.1(H)(iii)</td>\n",
       "      <td>FinSurv Reporting System. Balance-of-payments ...</td>\n",
       "      <td>heading</td>\n",
       "      <td>[-0.01566045545041561, -0.005427613854408264, ...</td>\n",
       "    </tr>\n",
       "    <tr>\n",
       "      <th>323</th>\n",
       "      <td>C.1(I)</td>\n",
       "      <td>FinSurv Reporting System. Reconciliation module</td>\n",
       "      <td>heading</td>\n",
       "      <td>[-0.006933209020644426, 0.0037072172854095697,...</td>\n",
       "    </tr>\n",
       "    <tr>\n",
       "      <th>324</th>\n",
       "      <td>C.1(J)</td>\n",
       "      <td>FinSurv Reporting System. Systems governance</td>\n",
       "      <td>heading</td>\n",
       "      <td>[-0.004272056743502617, -0.007643274497240782,...</td>\n",
       "    </tr>\n",
       "  </tbody>\n",
       "</table>\n",
       "<p>325 rows × 4 columns</p>\n",
       "</div>"
      ],
      "text/plain": [
       "         section                                               text    source  \\\n",
       "0         A.3(A)  What are the different categories of an ADLA a...  question   \n",
       "1         A.3(A)        What are some services an ADLA can provide?  question   \n",
       "2         A.3(A)  Can all ADLAs operate a Bureau de Change or pr...  question   \n",
       "3      A.3(B)(i)  What is the process to become an Authorised De...  question   \n",
       "4      A.3(B)(i)                                Who approves ADLAs?  question   \n",
       "..           ...                                                ...       ...   \n",
       "320    C.1(H)(i)  FinSurv Reporting System. Balance-of-payments ...   heading   \n",
       "321   C.1(H)(ii)  FinSurv Reporting System. Balance-of-payments ...   heading   \n",
       "322  C.1(H)(iii)  FinSurv Reporting System. Balance-of-payments ...   heading   \n",
       "323       C.1(I)    FinSurv Reporting System. Reconciliation module   heading   \n",
       "324       C.1(J)       FinSurv Reporting System. Systems governance   heading   \n",
       "\n",
       "                                             Embedding  \n",
       "0    [0.01191499549895525, 0.005717828404158354, -3...  \n",
       "1    [0.017316650599241257, 0.012317745015025139, -...  \n",
       "2    [-0.00110212666913867, -0.004164155572652817, ...  \n",
       "3    [0.022449666634202003, -0.009842596016824245, ...  \n",
       "4    [0.016875632107257843, -0.007422278635203838, ...  \n",
       "..                                                 ...  \n",
       "320  [-0.01508619636297226, 0.00018646813987288624,...  \n",
       "321  [-0.00906417891383171, -0.011498916894197464, ...  \n",
       "322  [-0.01566045545041561, -0.005427613854408264, ...  \n",
       "323  [-0.006933209020644426, 0.0037072172854095697,...  \n",
       "324  [-0.004272056743502617, -0.007643274497240782,...  \n",
       "\n",
       "[325 rows x 4 columns]"
      ]
     },
     "execution_count": 13,
     "metadata": {},
     "output_type": "execute_result"
    }
   ],
   "source": [
    "#df_definitions_all.columns\n",
    "df_text_all"
   ]
  },
  {
   "cell_type": "code",
   "execution_count": 3,
   "metadata": {},
   "outputs": [],
   "source": [
    "model_to_use=\"gpt-3.5-turbo\"\n",
    "#model_to_use=\"gpt-4\"\n",
    "#model_to_use=\"gpt-3.5-turbo-16k\""
   ]
  },
  {
   "cell_type": "code",
   "execution_count": 5,
   "metadata": {},
   "outputs": [
    {
     "name": "stderr",
     "output_type": "stream",
     "text": [
      "INFO:src.chat_bot:user: A non-resident wants to buy residential property in South Africa. What are the restrictions around doing this?\n",
      "DEV:src.chat_bot:#################   Similarity Search       #################\n",
      "DEV:src.chat_bot:--   Relevant Definitions\n",
      "DEV:src.chat_bot:0.1282: (       all): Resident means any person (i.e. a natural person or legal entity) who has taken up permanent residence, is domiciled or registered in South Africa. For the purpose of the Authorised Dealer Manual, this excludes any approved offshore investments held by South African residents outside the CMA. However, such entities are still subject to exchange control rules and the Regulations. \n",
      "DEV:src.chat_bot:0.1438: (       all): Resident temporarily abroad means any resident who has departed from South Africa to any country outside the CMA with no intention of taking up residence or who has not been granted permanent residence in another country, excluding those residents who are abroad on holiday or business travel. \n",
      "DEV:src.chat_bot:0.1463: (       all): Resident account means the account of a person resident, domiciled or registered in South Africa, including that of a CMA resident. \n",
      "DEV:src.chat_bot:Found more than 15 references that are closer than the input threshold of 0.15. Capping them so there are only 15\n",
      "DEV:src.chat_bot:--   Relevant Sections\n",
      "DEV:src.chat_bot:0.0627:                G.(C):        question: Can non-residents invest in South Africa?\n",
      "DEV:src.chat_bot:0.0914:              B.19(K):        question: Can non-residents export vehicles and goods bought in South Africa?\n",
      "DEV:src.chat_bot:0.0919:              B.10(F):        question: Can non-residents purchase short-term insurance policies in South Africa?\n",
      "DEV:src.chat_bot:0.0940:                G.(C):         summary: Non-residents can invest in South Africa as long as the transactions are conducted at fair market prices and financed in an approved manner. Financing must come from foreign currency, Rand from a Non-resident Rand account, or Rand from a vostro account. Any loan account between a resident and non-resident requires prior approval from the Financial Surveillance Department. Proceeds from the sale or redemption of non-resident owned assets in South Africa can be transferred and used for investment purposes. Stockbrokers must not keep the cash proceeds from securities sold on behalf of non-residents and must deposit them into a Non-resident Rand account. Stockbroking firms can maintain a single Non-resident Rand account to handle share transactions for non-resident clients.\n",
      "DEV:src.chat_bot:0.0941:               I.1(E):        question: Can non-residents receive local financial assistance for foreign direct investments in South Africa?\n",
      "DEV:src.chat_bot:0.1001:            B.2(B)(i):        question: What are the conditions for a private individual in South Africa to make foreign investments?\n",
      "DEV:src.chat_bot:0.1009:           B.2(B)(ii):        question: What are the conditions for private residents in South Africa to retransfer funds abroad?\n",
      "DEV:src.chat_bot:0.1020:               I.1(E):         summary: Authorised Dealers can provide local financial assistance to non-residents for foreign direct investments in South Africa, except for funds needed for financial transactions or property acquisition, which are subject to restrictions. Non-residents living and working in South Africa can receive local financial assistance for purchasing residential property, following normal lending criteria. The assistance must be secured by a Rand deposit or a Rand-based asset of equal or higher value. The borrower cannot exceed 100% of the Rand value of funds brought in from abroad. If assistance is granted for property acquisition, it cannot be increased based on property revaluation.\n",
      "DEV:src.chat_bot:0.1046:          G.(B)(v)(a):        question: Can non-residents participate in rights issues or claw-back offers by South African companies?\n",
      "DEV:src.chat_bot:0.1076:            B.2(C)(i):        question: What is the process for selling foreign investments to third-party residents within South Africa?\n",
      "DEV:src.chat_bot:0.1078:                G.(H):        question: Can Authorised Dealers allow the registration of a South African address by a non-resident?\n",
      "DEV:src.chat_bot:0.1080:               B.2(J):        question: What is the process for non-tax residents in South Africa to transfer more than R10 million offshore?\n",
      "DEV:src.chat_bot:0.1081:           B.2(K)(ii):        question: How can non-residents export inherited jewellery and personal items from South Africa?\n",
      "DEV:src.chat_bot:0.1099:              B.10(F):        question: Can funds from South African insurance companies be transferred abroad to non-residents?\n",
      "DEV:src.chat_bot:0.1099:                G.(I):        question: Can non-residents receive dividend payments in South Africa?\n",
      "DEV:src.chat_bot:Top result: G.(C) with a cosine distance of 0.0627\n",
      "DEV:src.chat_bot:No unique mode\n",
      "DEV:src.chat_bot:References found that occur multiple times\n",
      "DEV:src.chat_bot:Reference: B.10(F), Count: 2, Min Cosine-Distance: 0.0918771721395577\n",
      "DEV:src.chat_bot:Reference: I.1(E), Count: 2, Min Cosine-Distance: 0.09406809196494137\n",
      "DEV:src.chat_bot:--   Filtered Sections\n",
      "DEV:src.chat_bot:0.0627 (*min dist):                G.(C):  2\n",
      "DEV:src.chat_bot:0.0919 (*min dist):              B.10(F):  2\n",
      "DEV:src.chat_bot:0.0941 (*min dist):               I.1(E):  2\n",
      "DEV:src.chat_bot:#################   RAG       #################\n",
      "INFO:src.chat_bot:\n",
      "You are attempting to answer questions from an Authorised Dealer based only on the relevant documentation provided. You have only three options:\n",
      "1) Answer the question. If you do this, your must preface to response with the word 'ANSWER:'. If possible also provide a reference to the relevant documentation for the user to cross-check. Use this if you are sure about your answer.\n",
      "2) Request additional documentation. If, in the body of the relevant documentation, is a reference to another section of the document that is directly relevant, respond with the word 'SECTION:' followed by the section reference which looks like A.1(A)(i)(aa). \n",
      "3) State 'NONE:' (and nothing else) in all cases where you are not confident about either of the first two options\n",
      "Potentially relevant definition(s):\n",
      "Resident means any person (i.e. a natural person or legal entity) who has taken up permanent residence, is domiciled or registered in South Africa. For the purpose of the Authorised Dealer Manual, this excludes any approved offshore investments held by South African residents outside the CMA. However, such entities are still subject to exchange control rules and the Regulations. \n",
      "Resident temporarily abroad means any resident who has departed from South Africa to any country outside the CMA with no intention of taking up residence or who has not been granted permanent residence in another country, excluding those residents who are abroad on holiday or business travel. \n",
      "Resident account means the account of a person resident, domiciled or registered in South Africa, including that of a CMA resident. \n",
      "Potentially relevant document section(s):\n",
      "G. Securities control\n",
      "    (C) South African assets owned by non-residents\n",
      "        (i) Non-residents may freely invest in South Africa, provided that suitable documentary evidence is viewed in order to ensure that such transactions are concluded at arm's length, at fair market related prices and are financed in an approved manner. In this regard, such financing must be in the form of the introduction of foreign currency, Rand from a Non-resident Rand account in the name of the non-resident and/or Rand from a vostro account held in the books of the Authorised Dealer or in terms of the provisions of section I.1 of the Authorised Dealer Manual. The creation of any loan account between a resident and a non-resident would require the prior written approval of the Financial Surveillance Department.\n",
      "        (ii) The local sale or redemption proceeds of non-resident owned assets in South Africa may be regarded as freely transferable. Such proceeds may also be freely used in the CMA by non-residents for investment and other purposes, and may accordingly be credited to Non-resident Rand accounts. The provisions of subsection (D) below should be noted.\n",
      "        (iii) Stockbrokers may not retain, uninvested in their possession, the cash proceeds of securities sold on behalf of non-residents. Such funds must be paid to the credit of a Non-resident Rand account with an Authorised Bank with whom each stockbroking firm may, for this purpose, maintain a single Non-resident Rand account in its own name to handle the share transactions of non-resident clients.\n",
      "B.10 Insurance and pensions\n",
      "    (F) Short-term insurance by non-residents\n",
      "        (i) Short-term insurance policies may be issued to non-residents by registered South African insurance companies and intermediaries in Rand or in any foreign currency. Authorised Dealers must, however, satisfy themselves that premiums in respect thereof are received in South Africa and converted to Rand or, if authorised, credited to a CFC account as referred to in subsection (D)(iv) above.\n",
      "        (ii) Any funds due by registered South African insurance companies in settlement of claims lodged by non-residents may be transferred abroad or, if authorised, released by the Authorised Dealer concerned from a CFC account.\n",
      "        (iii) Losses payable and account balances due by registered South African insurance companies on facultative and treaty reinsurance may also be transferred abroad or, if authorised, released by the Authorised Dealer concerned from a CFC account, provided that the request is supported by a statement of account reflecting details of the losses or account balances to be settled. Care must be exercised to ensure that only debits and credits referred to in subsection (C)(iii) above are reflected on the accounts before authorising settlement of outstanding account balances.\n",
      "I.1 Local financial assistance to affected persons and non-residents\n",
      "    (E) Non-residents\n",
      "        (i) Authorised Dealers may grant or authorise local financial assistance facilities to non-residents in respect of bona fide foreign direct investment in South Africa without restrictions, except where the funds are required for financial transactions and/or the acquisition of residential or commercial property in South Africa, the 1:1 ratio will apply.\n",
      "        (ii) As an exception to (i) above, Authorised Dealers may grant or authorise local financial assistance facilities to non-residents living and working in South Africa in respect of the acquisition of residential property, subject to normal lending criteria.\n",
      "        (iii) Any facility being made available to a non-resident party must be secured by an unencumbered Rand deposit or Rand based asset of equal or higher value. In addition, any facility accorded to the non-resident in respect of the aforementioned may not cause the borrower to exceed 100 per cent of the Rand value of funds introduced from abroad and invested locally.\n",
      "        (iv) If facilities are granted for the acquisition of fixed property, such facilities may not be increased at any stage based on a revaluation of the property in question.\n",
      "DEV:src.chat_bot:-- Question asked and answered\n",
      "DEV:src.chat_bot:\n",
      "Assistant: Non-residents are generally allowed to purchase residential property in South Africa. However, there are some restrictions and requirements that need to be met. According to section I.1(E)(i) of the Exchange Control Manual for Authorised Dealers, non-residents can be granted local financial assistance facilities for the acquisition of residential property, subject to normal lending criteria. \n",
      "\n",
      "Additionally, any facility being made available to a non-resident must be secured by an unencumbered Rand deposit or Rand-based asset of equal or higher value. The facility granted to the non-resident should not cause the borrower to exceed 100% of the Rand value of funds introduced from abroad and invested locally. \n",
      "\n",
      "It is important to note that facilities granted for the acquisition of fixed property cannot be increased based on a revaluation of the property at any stage. \n",
      "\n",
      "Reference: Exchange Control Manual for Authorised Dealers, Section I.1(E)(i)\n",
      "INFO:src.chat_bot:assistant: Non-residents are generally allowed to purchase residential property in South Africa. However, there are some restrictions and requirements that need to be met. According to section I.1(E)(i) of the Exchange Control Manual for Authorised Dealers, non-residents can be granted local financial assistance facilities for the acquisition of residential property, subject to normal lending criteria. \n",
      "\n",
      "Additionally, any facility being made available to a non-resident must be secured by an unencumbered Rand deposit or Rand-based asset of equal or higher value. The facility granted to the non-resident should not cause the borrower to exceed 100% of the Rand value of funds introduced from abroad and invested locally. \n",
      "\n",
      "It is important to note that facilities granted for the acquisition of fixed property cannot be increased based on a revaluation of the property at any stage. \n",
      "\n",
      "Reference: Exchange Control Manual for Authorised Dealers, Section I.1(E)(i)\n"
     ]
    },
    {
     "name": "stdout",
     "output_type": "stream",
     "text": [
      "assistant: Non-residents are generally allowed to purchase residential property in South Africa. However, there are some restrictions and requirements that need to be met. According to section I.1(E)(i) of the Exchange Control Manual for Authorised Dealers, non-residents can be granted local financial assistance facilities for the acquisition of residential property, subject to normal lending criteria. \n",
      "\n",
      "Additionally, any facility being made available to a non-resident must be secured by an unencumbered Rand deposit or Rand-based asset of equal or higher value. The facility granted to the non-resident should not cause the borrower to exceed 100% of the Rand value of funds introduced from abroad and invested locally. \n",
      "\n",
      "It is important to note that facilities granted for the acquisition of fixed property cannot be increased based on a revaluation of the property at any stage. \n",
      "\n",
      "Reference: Exchange Control Manual for Authorised Dealers, Section I.1(E)(i)\n"
     ]
    }
   ],
   "source": [
    "user_context = \"A non-resident wants to buy residential property in South Africa. What are the restrictions around doing this?\"\n",
    "#user_context = \"A South African citizen is emigrating. What is the process they need to follow to take all their cash offshore?\"\n",
    "#user_context = \"What is the Foreign investment limits for South African institutional investors?\"\n",
    "#user_context = \"Can a individual transfer his shares in a dual listed company to his offshore portfolio?\"\n",
    "\n",
    "#user_context = \"Can cash balances for individuals who are no longer tax resident be transferred offshore?\"\n",
    "\n",
    "excon.user_provides_input(user_context, threshold=0.15, model_to_use=model_to_use, temperature=0, max_tokens=300)\n",
    "\n"
   ]
  },
  {
   "cell_type": "code",
   "execution_count": 30,
   "metadata": {},
   "outputs": [
    {
     "name": "stdout",
     "output_type": "stream",
     "text": [
      "{'role': 'system', 'content': \"You are attempting to answer questions from an Authorised Dealer based only on the relevant documentation provided. You have only three options:\\n1) Answer the question. If you do this, your must preface to response with the word 'ANSWER:'. If possible also provide a reference to the relevant documentation for the user to cross-check. Use this if you are sure about your answer.\\n2) Request additional documentation. If, in the body of the relevant documentation, is a reference to another section of the document that is directly relevant, respond with the word 'SECTION:' followed by the section reference which looks like A.1(A)(i)(aa). \\n3) State 'NONE:' (and nothing else) in all cases where you are not confident about either of the first two options\\nPotentially relevant document section(s):\\nIntroduction \\n    In terms of Regulation 2(2), an Authorised Dealer shall not buy, borrow, receive, sell, lend or deliver any foreign currency or gold except for such purposes or on such conditions as the Treasury, as defined, may determine, subject to the delegation referred to above.\\n    This Currency and Exchanges Manual for Authorised Dealers (Authorised Dealer Manual) contains the permissions and conditions applicable to transactions in foreign exchange that may be undertaken by Authorised Dealers and/or on behalf of their clients in terms of Regulation 2(2), details of related administrative responsibilities as well as the FinSurv Reporting requirements. This Authorised Dealer Manual must be read in conjunction with the Regulations and Authorised Dealers may transact without reference to the Financial Surveillance Department, provided such transactions are permitted in terms of this Authorised Dealer Manual.\\n    The arrangements set out in the Authorised Dealer Manual should in no manner be construed as absolving Authorised Dealers, their clients and associated entities from their duties and obligations under any other law, including but not limited to the Prevention of Organised Crime Act, 1998 (Act No. 121 of 1998), the Financial Intelligence Centre Act, 2001 (Act No. 38 of 2001) and the Protection of Constitutional Democracy against Terrorist and Related Activities Act, 2004 (Act No. 33 of 2004).\\n    The Financial Surveillance Department views contraventions of the Exchange Control Regulations, as well as any actions to circumvent the permissions and conditions contained in the Authorised Dealer Manual, in a very serious light.\\n    The Financial Surveillance Department reserves the right to amend, grant or impose additional permissions or conditions, with new or amended permissions or conditions which will be communicated by the Financial Surveillance Department on its website.\\n    In instances where an Authorised Dealer is not in a position to buy, borrow, sell or lend foreign currency in terms of the permissions and conditions set out in the Authorised Dealer Manual, an official application with full details applicable to the request must be submitted to the Financial Surveillance Department.\\n    For the benefit of the general public, Currency and Exchanges guidelines for business entities and Currency and Exchanges guidelines for individuals have been published by the Financial Surveillance Department. These guidelines set out, in less technical terms, the permissions and conditions relating to cross-border foreign transactions.\\n    The Authorised Dealer Manual, ADLA Manual, Currency and Exchanges guidelines for business entities, Currency and Exchanges guidelines for individuals and applicable amendments thereto are available on the South African Reserve Bank's website: www.resbank.co.za.\\nC. Gold\\n    (C) Acquisition of gold for trade purposes\\n        (i) The acquisition of gold for legitimate trade purposes by e.g. manufacturing jewellers, dentists, is subject to the approval of the South African Diamond and Precious Metals Regulator.\\n        (ii) After receiving such approval, a permit must be obtained from SARS which will entitle the permit holder to approach Rand Refinery Limited for an allocation of gold.\\n        (iii) The holders of gold, having received the approvals outlined above, are exempt from the provisions of Regulation 5(1).\\nC. Gold\\n    (B) Other exports of gold\\n        (i) All applications for permission to export gold in any form should be referred to the South African Diamond and Precious Metals Regulator.\"}\n",
      "{'role': 'user', 'content': 'Who can trade gold?'}\n",
      "Flag: ANSWER:\n",
      "Response:  Gold can be traded by individuals or entities who have obtained the necessary approvals and permits from the South African Diamond and Precious Metals Regulator. (Reference: C. Gold (C)(i) - Acquisition of gold for trade purposes)\n"
     ]
    }
   ],
   "source": [
    "flag, response = excon.resource_augmented_query(user_context, model_to_use = model_to_use, temperature = 0.0, max_tokens = 512, df_definitions = df_definitions, df_search_sections = df_search_sections)\n",
    "print(f\"Flag: {flag}\")\n",
    "print(f'Response: {response}')\n"
   ]
  },
  {
   "cell_type": "code",
   "execution_count": 12,
   "metadata": {},
   "outputs": [
    {
     "name": "stdout",
     "output_type": "stream",
     "text": [
      "### User Input\n",
      "A non-resident wants to buy residential property in South Africa. What are the restrictions around doing this?\n",
      "\n",
      "\n",
      "### Response\n",
      "Non-residents are generally allowed to purchase residential property in South Africa. However, there are some restrictions and requirements that need to be met. According to section I.1(E)(i) of the Exchange Control Manual for Authorised Dealers, non-residents can be granted local financial assistance facilities for the acquisition of residential property, subject to normal lending criteria. \n",
      "\n",
      "Additionally, any facility being made available to a non-resident must be secured by an unencumbered Rand deposit or Rand-based asset of equal or higher value. The facility granted to the non-resident should not cause the borrower to exceed 100% of the Rand value of funds introduced from abroad and invested locally. \n",
      "\n",
      "It is important to note that facilities granted for the acquisition of fixed property cannot be increased based on a revaluation of the property at any stage. \n",
      "\n",
      "Reference: Exchange Control Manual for Authorised Dealers, Section I.1(E)(i)\n",
      "\n",
      "\n",
      "### Reference\n",
      "I.1 Local financial assistance to affected persons and non-residents\n",
      "    (E) Non-residents\n",
      "        (i) Authorised Dealers may grant or authorise local financial assistance facilities to non-residents in respect of bona fide foreign direct investment in South Africa without restrictions, except where the funds are required for financial transactions and/or the acquisition of residential or commercial property in South Africa, the 1:1 ratio will apply.\n"
     ]
    }
   ],
   "source": [
    "print(\"### User Input\")\n",
    "print(user_context)\n",
    "print(\"\\n\")\n",
    "\n",
    "message = excon.messages[-1][\"content\"]\n",
    "print('### Response')\n",
    "print(message)\n",
    "print(\"\\n\")\n",
    "\n",
    "print(\"### Reference\")\n",
    "reference = message.split('\\n')[-1]\n",
    "print(excon.get_regulation_detail(reference))\n"
   ]
  },
  {
   "cell_type": "code",
   "execution_count": 9,
   "metadata": {},
   "outputs": [
    {
     "data": {
      "text/plain": [
       "'No section could be found with the reference I.(E)(ii)'"
      ]
     },
     "execution_count": 9,
     "metadata": {},
     "output_type": "execute_result"
    }
   ],
   "source": [
    "excon.get_regulation_detail('I.(1)(E)(ii)')"
   ]
  },
  {
   "cell_type": "code",
   "execution_count": 4,
   "metadata": {},
   "outputs": [],
   "source": [
    "#user_context = \"What is a CFC Account?\"\n",
    "#user_context = \"I am submitting documentation to the financial surveillance department. What information do I need to include in my submission?\" # (A.3 (B))\n",
    "#user_context = \"Can a bank provide foreign currency denominated facilities to a South African Corporate?\" #  (A.3 (B))\n",
    "#user_context = \"For how long does the approval for a facility remain valid?\" #  (A.3 (B))\n",
    "#user_context = \"Other than authorised transaction requests, are there requirements for authorised dealers to submit information to the financial surveillance department?\" #  (A.3 (B))\n",
    "#user_context = \"I have been asked to act on an approval issued to another bank. Can I do that?\" #  (A.3 (B))\n",
    "#####user_context = \"--- Same as above but use \"Authorised Dealer\" instead of \"Bank\"\n",
    "#user_context = \"If I am concerned that as client may in breach of regulations, what should I do?\" #  (A.3 (B))\n",
    "#user_context = \"What constitutes 'documentary evidence' for a foreign currency transaction?\" #  (A.3 (C))\n",
    "#user_context = \"Is Swaziland part of the CMA?\" #  (A.3 (E))\n",
    "#user_context = \"A client wants to buy Namibian Dollars. What approvals do they need before they can do this?\" #  (A.3 (E))\n",
    "#user_context = \"A person from Lesotho wants to buy dollars from me. Can I sell them the dollars?\" #  (A.3 (E))\n",
    "#user_context = \"A person from Namibia wants to buy rand from me. Can I sell them the rand?\" #  (A.3 (E))\n",
    "#user_context = \"A treasury management company wants to trade dollars with me. What do I need to check before I can do this?\" #  (A.4 (B))\n",
    "#user_context = \"A client wants to import goods and pay in foreign currency. What documentation do I need before I can assist with the transaction\" #  (B.1 (B))\n",
    "#user_context = \"Over and above the price of the goods, what additional costs can be covered in foreign currency?\" #  (B.1 (C))\n",
    "#user_context = \"Can advance payment be made in a foreign currency to cover imported goods?\" #  (B.1 (D)(i))\n",
    "\n",
    "#user_context = \"Can advance payment be made in a foreign currency to cover imported capital goods?\" #  (B.1 (D)(ii))\n",
    "#user_context = \"When paying for imports in cash, what documentation is required before providing the foreign currency?\" #  (B.1 (D)(iii))\n",
    "\n",
    "#user_context = \"Can imported goods be financed over more than 12 months?\" #  (B.1 (D)(iv))\n",
    "#user_context = \"How much money can an individual invest internationally?\" #  ?\n",
    "#user_context = \"How much money can an individual take offshore?\" #  ?\n",
    "\n",
    "#user_context = \"A media company want to list offshore. Are there specific conditions for this?\"\n",
    "# user_context = \"How many rands can a resident take offshore in cash?\"\n",
    "#user_context = \"Can I grant a foreign company a Rand facility to pay for goods they wish to purchase from a South African exporter?\"\n",
    "#user_context = \"Can I support a non-residential entity with short-term rand trade finance for their exports from South Africa?\"\n",
    "#user_context = \"Hi\"\n",
    "#user_context = \"Who can trade gold?\"\n",
    "#user_context = \"are there specific exchange control rules for religious organizations?\"\n",
    "#user_context = \"How much foreign currency can a charity take offshore each year?\"\n",
    "\n"
   ]
  },
  {
   "cell_type": "code",
   "execution_count": null,
   "metadata": {},
   "outputs": [],
   "source": []
  }
 ],
 "metadata": {
  "kernelspec": {
   "display_name": "Python 3.10.4 ('env': venv)",
   "language": "python",
   "name": "python3"
  },
  "language_info": {
   "codemirror_mode": {
    "name": "ipython",
    "version": 3
   },
   "file_extension": ".py",
   "mimetype": "text/x-python",
   "name": "python",
   "nbconvert_exporter": "python",
   "pygments_lexer": "ipython3",
   "version": "3.10.4"
  },
  "orig_nbformat": 4,
  "vscode": {
   "interpreter": {
    "hash": "007219f1a1c0c3993c3211d5a541b1fa109902aadb48cb5499ee55023bf45452"
   }
  }
 },
 "nbformat": 4,
 "nbformat_minor": 2
}
