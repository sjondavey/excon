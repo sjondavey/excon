{
 "cells": [
  {
   "cell_type": "code",
   "execution_count": 1,
   "metadata": {},
   "outputs": [],
   "source": [
    "import cohere\n",
    "\n",
    "# Get your cohere API key on: www.cohere.com\n",
    "co = cohere.Client(\"HZFWyqSeeJXruZksq0uYjM3gqS4zcGbXMqeL7NPG\")\n",
    "\n",
    "# Example query and passages\n",
    "query = \"What is the capital of the United States?\"\n",
    "documents = [\n",
    "   \"Carson City is the capital city of the American state of Nevada. At the  2010 United States Census, Carson City had a population of 55,274.\",\n",
    "   \"The Commonwealth of the Northern Mariana Islands is a group of islands in the Pacific Ocean that are a political division controlled by the United States. Its capital is Saipan.\",\n",
    "   \"Charlotte Amalie is the capital and largest city of the United States Virgin Islands. It has about 20,000 people. The city is on the island of Saint Thomas.\",\n",
    "   \"Washington, D.C. (also known as simply Washington or D.C., and officially as the District of Columbia) is the capital of the United States. It is a federal district. \",\n",
    "   \"Capital punishment (the death penalty) has existed in the United States since before the United States was a country. As of 2017, capital punishment is legal in 30 of the 50 states.\",\n",
    "   \"North Dakota is a state in the United States. 672,591 people lived in North Dakota in the year 2010. The capital and seat of government is Bismarck.\"\n",
    "   ]\n",
    "\n",
    "results = co.rerank(query=query, documents=documents, top_n=3, model=\"rerank-multilingual-v2.0\")"
   ]
  },
  {
   "cell_type": "code",
   "execution_count": 2,
   "metadata": {},
   "outputs": [
    {
     "data": {
      "text/plain": [
       "[RerankResult<document['text']: Washington, D.C. (also known as simply Washington or D.C., and officially as the District of Columbia) is the capital of the United States. It is a federal district. , index: 3, relevance_score: 0.9999989>, RerankResult<document['text']: Charlotte Amalie is the capital and largest city of the United States Virgin Islands. It has about 20,000 people. The city is on the island of Saint Thomas., index: 2, relevance_score: 0.9003547>, RerankResult<document['text']: Carson City is the capital city of the American state of Nevada. At the  2010 United States Census, Carson City had a population of 55,274., index: 0, relevance_score: 0.6807725>]"
      ]
     },
     "execution_count": 2,
     "metadata": {},
     "output_type": "execute_result"
    }
   ],
   "source": [
    "results"
   ]
  },
  {
   "cell_type": "code",
   "execution_count": 3,
   "metadata": {},
   "outputs": [
    {
     "data": {
      "text/plain": [
       "cohere.responses.rerank.Reranking"
      ]
     },
     "execution_count": 3,
     "metadata": {},
     "output_type": "execute_result"
    }
   ],
   "source": [
    "type(results)"
   ]
  },
  {
   "cell_type": "code",
   "execution_count": 19,
   "metadata": {},
   "outputs": [
    {
     "name": "stdout",
     "output_type": "stream",
     "text": [
      "Washington, D.C. (also known as simply Washington or D.C., and officially as the District of Columbia) is the capital of the United States. It is a federal district. \n",
      "3\n",
      "0.9999989\n"
     ]
    }
   ],
   "source": [
    "hit = results[0]\n",
    "print(hit.document[\"text\"])\n",
    "print(hit.index)\n",
    "print(hit.relevance_score)"
   ]
  },
  {
   "cell_type": "code",
   "execution_count": 20,
   "metadata": {},
   "outputs": [],
   "source": [
    "sections = [\"J.(E)\", \"J.(G)\",\"B.16(A)\", \"B.9\", \"B.4(A)\", \"I.3(B)(ii)\",\"B.2(C)(i)\", \"B.1(D)(vi)\", \"B.1(F)\", \"J.(G)(iii)\", \"B.1(B)\"]\n",
    "\n",
    "top_scores = [0.0881, 0.0894, 0.1354, 0.1405, 0.1443, 0.1450, 0.1452, 0.1473, 0.1474, 0.1483, 0.1491]"
   ]
  },
  {
   "cell_type": "code",
   "execution_count": 23,
   "metadata": {},
   "outputs": [],
   "source": [
    "from src.chat_bot import ExconManual\n",
    "ad = True\n",
    "#ad = False # = ADLA chat\n",
    "\n",
    "logging_level = 15\n",
    "#logging_level = 20\n",
    "log_file = ''\n",
    "\n",
    "if ad:\n",
    "    path_to_manual_as_csv_file = \"./inputs/ad_manual.csv\"\n",
    "    path_to_definitions_as_parquet_file = \"./inputs/ad_definitions.parquet\"\n",
    "    path_to_index_as_parquet_file = \"./inputs/ad_index.parquet\"\n",
    "    chat_for_ad = True\n",
    "else:\n",
    "    path_to_manual_as_csv_file = \"./inputs/adla_manual.csv\"\n",
    "    path_to_definitions_as_parquet_file = \"./inputs/adla_definitions.parquet\"\n",
    "    path_to_index_as_parquet_file = \"./inputs/adla_index.parquet\"\n",
    "    chat_for_ad = False\n",
    "    #excon = ExconManual(path_to_manual_as_csv_file, path_to_definitions_as_parquet_file, path_to_index_as_parquet_file, chat_for_ad = False,log_file=log_file, logging_level=logging_level)\n",
    "\n",
    "\n",
    "excon = ExconManual(path_to_manual_as_csv_file, path_to_definitions_as_parquet_file, path_to_index_as_parquet_file, chat_for_ad = chat_for_ad, log_file=log_file, logging_level=logging_level)\n",
    "\n"
   ]
  },
  {
   "cell_type": "code",
   "execution_count": 24,
   "metadata": {},
   "outputs": [],
   "source": [
    "docs = []\n",
    "for section in sections:\n",
    "    docs.append(excon.get_regulation_detail(section))"
   ]
  },
  {
   "cell_type": "code",
   "execution_count": 26,
   "metadata": {},
   "outputs": [],
   "source": [
    "query = \"How do I need to report outbound cross-boarder payments?\"\n",
    "results = co.rerank(query=query, documents=docs, top_n=11, model=\"rerank-multilingual-v2.0\")"
   ]
  },
  {
   "cell_type": "code",
   "execution_count": 30,
   "metadata": {},
   "outputs": [],
   "source": [
    "excon.user_provides_input(query, threshold=0.15, model_to_use=\"gpt-3.5-turbo\", temperature=0, max_tokens=300)"
   ]
  },
  {
   "cell_type": "code",
   "execution_count": 27,
   "metadata": {},
   "outputs": [
    {
     "data": {
      "text/plain": [
       "[RerankResult<document['text']: J. FinSurv Reporting System\n",
       "    (G) Outward payments\n",
       "        (i) General\n",
       "            (a) Authorised Dealers must ensure the correct reporting of all cross-border foreign exchange transactions irrespective of the amounts and currencies involved.\n",
       "            (b) Data pertaining to transactions must be submitted to the Financial Surveillance Department in the various formats outlined in the Business and Technical Specifications document within two business days from the value date of the transaction.\n",
       "            (c) Rejections by the Financial Surveillance Department must be corrected and re-submitted in the agreed format within one business day from the date of the rejection.\n",
       "        (ii) Integrated form\n",
       "            (a) The integrated form is applicable to all transactions reported under the 'BOPCUS', 'NON RESIDENT RAND' and 'BOPDIR' modules. Since transactions reported under the 'BOPCARD RESIDENT' module are fully electronic, the card holder will be held responsible for transactions concluded by utilising either a debit or credit card. Transactions reported by Reporting Entities under the 'NON REPORTABLE', 'INTERBANK' and 'BOPCARD NON RESIDENT' modules do not require an integrated form.\n",
       "            (b) Authorised Dealers must make use of an integrated form, in respect of all outward payments either in hard copy or electronic format, to obtain data required for the processing and reporting of all cross-border foreign exchange transactions to the Financial Surveillance Department.\n",
       "            (c) When the client is physically present at the Authorised Dealer, the integrated form must be completed and signed by the client in respect of all outward payments.\n",
       "            (d) When the client is not physically present to complete and sign the integrated form, the Authorised Dealer may complete and sign the integrated form, either physically or electronically, provided that the Authorised Dealer has been authorised or mandated to do so by means of a letter, a facsimile message, an email message or by a recorded telephonic message to act on the client's behalf. The client's communication must be retained by the Authorised Dealer for a period of five years for inspection purposes.\n",
       "            (e) In cases where the client transacts with the Authorised Dealer via an electronic interface, the Authorised Dealer must ensure that the underlying agreements legally bind the client in terms of the correctness of the information provided via the electronic medium.\n",
       "        (iii) Declaration\n",
       "            (a) The following declaration must be included in the integrated form:\n",
       "            “I, the undersigned……………………………………., hereby declare that:\n",
       "            1. I have read this document and know and understand the contents thereof;\n",
       "            2. the information furnished above is in all respects both true and correct;\n",
       "            3. the currency applied for will only be used for the specific purpose stated herein;\n",
       "            4. the documentation presented in support of this application is in all respects authentic;\n",
       "            5. I have been informed of the limit applicable to the above transaction and confirm that this limit will not be exceeded as a result of the conclusion of this transaction; and\n",
       "            6. I consent to this information being provided to the South African Revenue Service and/or the Financial Intelligence Centre.”\n",
       "                Transaction adjustments see table 53\n",
       "                Imports: Advance payments (not in terms of import undertaking) see table 54\n",
       "                Imports: Advance payments (in terms of import undertaking) see table 55\n",
       "                Imports: (excluding advance payments and not in terms of import undertaking) see table 56\n",
       "                Imports: (excluding advance payments but in terms of import undertaking) see table 57\n",
       "                Imports: Other see table 58, index: 1, relevance_score: 0.9558167>, RerankResult<document['text']: B.4 Single discretionary allowance and other miscellaneous payments for private individuals\n",
       "    (A) Single discretionary allowance per calendar year\n",
       "        (i) Residents (natural persons) who are 18 years and older may be permitted to avail of a single discretionary allowance within an overall limit of R1 million per individual per calendar year without the requirement to obtain a TCS PIN letter, which may be used for any legal purpose abroad (including for investment purposes as well as the sending of gift parcels in lieu of cash excluding gold and jewellery). Authorised Dealers must ensure that the purpose for which the funds are used abroad must be reported under the correct category on the FinSurv Reporting System.\n",
       "        (ii) This dispensation may be utilised solely at the discretion of the resident without any documentary evidence having to be produced to the Authorised Dealer except for travel purposes outside the CMA where a passenger ticket needs to be produced.\n",
       "        (iii) The single discretionary allowance may be transferred abroad in Rand, however, transfers of a capital nature must be converted to foreign currency through an Authorised Dealer.\n",
       "        (iv) The resident individual must produce a valid green bar-coded South African identity document or Smart identity document card for identification purposes and the identity number is mandatory when reporting the transaction in terms of the Reporting System.\n",
       "        (v) The requirements of (ix) below as well as that of section A.3(B)(xxi) of the Authorised Dealer Manual must be complied with.\n",
       "        (vi) Authorised Dealers must ensure that the resident importers making import payments under this dispensation have a valid customs client number (CCN) issued by Customs which must be recorded on the Reporting System. The rules published under sections 59A and 120 of the Customs and Excise Act, 1964 (Act No. 91 of 1964), with regard to the use of the registration code number 70707070 must be adhered to.\n",
       "        (vii) The provisions of Regulation 12 must at all times be complied with by the importer.\n",
       "        (viii) Authorised Dealers should advise their clients that payments for current account transactions as provided for elsewhere in the Authorised Dealer Manual may be effected abroad against the presentation of documentary evidence and such payments will not be deducted from an individual's single discretionary allowance limit.\n",
       "        (ix) To ensure accurate and comprehensive reporting of all data on cross-border transactions, Authorised Dealers must impress upon their clients the need to provide accurate information to enable the Authorised Dealers to correctly report the purpose of the transaction via the Reporting System. In addition, all transactions executed under this dispensation must be indicated in the subject field as ‘SDA' with the description ‘SDA' when reporting the transaction on the Reporting System.\n",
       "        (x) Authorised Dealers may allow resident individuals to transfer monetary gifts and loans within the single discretionary allowance limit of R1 million per applicant during a calendar year to non-resident individuals and to resident individuals who are overseas temporarily, excluding those residents who are abroad on holiday or business travel.\n",
       "        (xi) In addition to monetary gifts, residents may export Krugerrand coins or the equivalent in fractional Krugerrand coins up to an amount of R30 000 as gifts to non-residents subject to the completion of the prescribed SARS Customs Declaration.\n",
       "        (xii) The authority conveyed by this section may not be used to disguise transfers for other purposes for which foreign currency would be refused under the appropriate sections of the Authorised Dealer Manual., index: 4, relevance_score: 0.86258334>, RerankResult<document['text']: J. FinSurv Reporting System\n",
       "    (E) Inward payments\n",
       "        (i) General\n",
       "            (a) Authorised Dealers must ensure the correct reporting of all cross-border foreign exchange transactions irrespective of the amounts and currencies involved.\n",
       "            (b) Data pertaining to transactions must be submitted to the Financial Surveillance Department in the various formats outlined in the Business and Technical Specifications document within two business days from the value date of the transaction.\n",
       "            (c) Rejections by the Financial Surveillance Department must be corrected and re-submitted in the agreed format within one business day from the date of the rejection.\n",
       "            (d) Warning messages by the Financial Surveillance Department must be thoroughly investigated and actioned within one business day from the date of the warning message and, where required, the appropriate remedial actions must be taken.\n",
       "        (ii) Integrated form\n",
       "            (a) The integrated form is applicable to all transactions reported under the 'BOPCUS', 'NON RESIDENT RAND' and 'BOPDIR' modules.\n",
       "            (b) Since transactions reported under the 'BOPCARD RESIDENT' module are fully electronic, the card-holder will be held responsible for transactions concluded by utilising either a debit or credit card.\n",
       "            (c) Transactions reported by reporting entities under the 'NON REPORTABLE', 'INTERBANK' and 'BOPCARD NON RESIDENT' modules do not require an integrated form.\n",
       "            (d) Authorised Dealers must make use of an integrated form in respect of all inward payments either in hard copy or electronic format, to obtain data required for the processing and reporting of all cross-border foreign exchange transactions to the Financial Surveillance Department.\n",
       "            (e) When the client is physically present at the Authorised Dealer, the integrated form must be completed and signed by the client in respect of all inward payments.\n",
       "            (f) When the client is not physically present to complete and sign the integrated form, the Authorised Dealer may complete and sign the integrated form either physically or electronically, provided that the Authorised Dealer has been authorised or mandated to do so by means of a letter, a facsimile message, an email message or by a recorded telephonic message to act on the client's behalf. The client's communication must be retained by the Authorised Dealer for a period of five years for inspection purposes.\n",
       "            (g) As an exception to the arrangement outlined in the preceding paragraph, an integrated form need not be completed by the client of an Authorised Dealer in respect of inward payments under R50 000 per transaction, subject to the following conditions:\n",
       "                (aa) only transactions in respect of a natural person who is a client of the Authorised Dealer, will qualify;\n",
       "                (bb) the purpose of the transaction must be disclosed in either fields 70, 72 or 77 of the SWIFT customer transfer message, in a clear and unambiguous manner;\n",
       "                (cc) where additional information is required to report a transaction, e.g. exports, loans, this procedure may not be applied;\n",
       "                (dd) all transactions must be reported in terms of the Reporting System in line with the requirements of the Business and Technical Specifications document;\n",
       "                (ee) where no official mandate is in place, a confirmation must be sent by the Authorised Dealer to the client on conclusion of each transaction, containing the reporting category and clearly stipulating that should the client not be in agreement with the category selected and reported to the Financial Surveillance Department, the client must dispute same within a period of 14 days; and\n",
       "                (ff) a copy of the communication to the client must be retained for a period of five years for inspection purposes.\n",
       "            (h) In cases where the client transacts with the Authorised Dealer via an electronic interface in terms of this dispensation, the Authorised Dealer must ensure that the underlying agreements legally bind the client in terms of the correctness of the information provided via the electronic medium.\n",
       "            (i) The above-mentioned dispensation does not apply to an ADLA.\n",
       "        (iii) Declaration\n",
       "            (a) The following declaration must be included in the integrated form:\n",
       "            “I, the undersigned ……………………………………., hereby declare that:\n",
       "            1. I have read this document and know and understand the contents thereof;\n",
       "            2. the information furnished above is in all respects both true and correct;\n",
       "            3. the currency applied for will only be used for the specific purpose stated herein;\n",
       "            4. the documentation presented in support of this application is in all respects authentic;\n",
       "            5. I have been informed of the limit applicable to the above transaction and confirm that this limit will not be exceeded as a result of the conclusion of this transaction; and\n",
       "            I consent to this information being provided to the South African Revenue Service and/or the Financial Intelligence Centre.”, index: 0, relevance_score: 0.7725307>, RerankResult<document['text']: B.1 Payment for imports\n",
       "    (D) Terms of payment for imports\n",
       "        (vi) Cross-border foreign exchange reporting categories\n",
       "            (a) Payments for imports against an invoice only should be reported under the advance payment category 101-01 to 101-11.\n",
       "            (b) Payment for imports against an invoice and transport documents should also be reported under the advance payment category 101-01 to 101-11.\n",
       "            (c) Advance payments for clients availing of the imports undertaking dispensation must be reported under category 102-01 to 102-11.\n",
       "            (d) Payments for imports where the goods have already been released by Customs and the prescribed SARS Customs Declaration bearing the MRN has been issued, the applicable import category, excluding category 101-01 to 101-11, must be used., index: 7, relevance_score: 0.5605835>, RerankResult<document['text']: J. FinSurv Reporting System\n",
       "    (G) Outward payments\n",
       "        (iii) Declaration\n",
       "            (a) The following declaration must be included in the integrated form:\n",
       "            “I, the undersigned……………………………………., hereby declare that:\n",
       "            1. I have read this document and know and understand the contents thereof;\n",
       "            2. the information furnished above is in all respects both true and correct;\n",
       "            3. the currency applied for will only be used for the specific purpose stated herein;\n",
       "            4. the documentation presented in support of this application is in all respects authentic;\n",
       "            5. I have been informed of the limit applicable to the above transaction and confirm that this limit will not be exceeded as a result of the conclusion of this transaction; and\n",
       "            6. I consent to this information being provided to the South African Revenue Service and/or the Financial Intelligence Centre.”\n",
       "                Transaction adjustments see table 53\n",
       "                Imports: Advance payments (not in terms of import undertaking) see table 54\n",
       "                Imports: Advance payments (in terms of import undertaking) see table 55\n",
       "                Imports: (excluding advance payments and not in terms of import undertaking) see table 56\n",
       "                Imports: (excluding advance payments but in terms of import undertaking) see table 57\n",
       "                Imports: Other see table 58, index: 9, relevance_score: 0.09057448>, RerankResult<document['text']: B.9 Freight payments and ships disbursements\n",
       "    (A) Inward freight payable in foreign currencies\n",
       "        (i) Foreign currency payments for imports into South Africa may be effected on any shipment and/or delivery term where the freight is included in the cost of the goods being imported.\n",
       "        (ii) Authorised Dealers may authorise payments in respect of freight on imports into South Africa on a Free on Board basis against documentary evidence of the commitment and confirmation that the relative goods have been or are to be imported on a Free on Board basis.\n",
       "    (B) Inward freight payable in Rand to non-South African shipping and airline companies\n",
       "        (i) Local agents and branches of non-South African carriers may accept Rand in respect of inward freight against documentary evidence of the commitment and confirmation that the relative goods have been or are to be imported on a Free on Board basis.\n",
       "        (ii) These funds will be eligible to meet local disbursements by the non-South African carriers concerned and any surplus may be transferred abroad.\n",
       "        (iii) In selling foreign currency to local agents and branches of non-South African carriers, Authorised Dealers should satisfy themselves, by calling for a letter from the company signed by a senior official enclosing a statement of the relative freight collections, less disbursements in South Africa, that the funds are eligible for transfer. Audited statements should be called for on an annual basis.\n",
       "        All transactions should be closely scrutinised to ensure that the requirements of the Financial Surveillance Department are fully complied with.\n",
       "    (C) Outward freight payable in foreign currencies\n",
       "        (i) Payment may be effected to non-resident owners or charterers of carrying vessels, aircraft or vehicles, provided that it can be satisfactorily established that the relative goods have either:\n",
       "            (a) been sold on a Cost and Freight or Cost Insurance and Freight basis against payment in foreign currency;\n",
       "            (b) been sold on a Cost and Freight or Cost Insurance and Freight basis against payment in Rand from a Non-resident Rand account in the name of the non-resident and/or Rand from a vostro account held in the books of the Authorised Dealer;\n",
       "            (c) are being exported on consignment; or\n",
       "            (d) are exported under cover of the prescribed SARS Customs Declaration.\n",
       "    (D) Freight payments in foreign currency between residents\n",
       "        (i) Refer to section E.(B)(iv) of the Authorised Dealer Manual regarding exemptions granted in this regard.\n",
       "    (E) Freight documentation requirement\n",
       "        (i) Residents must ensure that original final freight invoices are presented to an Authorised Dealer for payment. Under no circumstances may Authorised Dealers accept quotes and/or pro-forma invoices presented for payment.\n",
       "    (F) Ships and aircraft disbursements\n",
       "        (i) Authorised Dealers may permit payments in respect of the normal operational commitments, including container leasing charges incurred outside South Africa by ships and aircraft owned or chartered by residents for commercial purposes. Documentary evidence of the charges involved should be submitted by the applicant., index: 3, relevance_score: 0.010169658>, RerankResult<document['text']: B.1 Payment for imports\n",
       "    (F) Evidence of importation\n",
       "        (i) Authorised Dealers must insist upon the presentation to them of the prescribed SARS Customs Declaration bearing the MRN as evidence that goods in respect of which transfers have been effected in terms of subsection (C) above have been cleared by Customs. These documents must be presented at the time foreign currency payments for imports are made where the goods have already been cleared by Customs, or in the case of advance payments in excess of R50 000 within four months of the date of payment. The detailed information shown on these documents must be checked against the information obtained at the time payment for the relative import was made in order to verify that the payment made relates to the goods that have been cleared.\n",
       "        (ii) Where the prescribed SARS Customs Declaration reflects the Customs Requested Procedure Code indicating that the goods are held in bonded warehouse, Authorised Dealers must diarise to view subsequent documentation from Customs, confirming the removal of the goods in bonded warehouse.\n",
       "        (iii) Authorised Dealers must be alert to the presentation of documentation that would indicate that the goods have been exported from South Africa. Such transactions are regarded as merchanting transactions and are subject to the provisions outlined in section B.12(A) of the Authorised Dealer Manual.\n",
       "        (iv) Where goods for which payment has been made from South Africa have not been or will not be consigned to South Africa within four months of the date of payment, the importer must within 14 days of the expiry of such period advise the Authorised Dealer concerned in writing, who should report the matter to the Financial Surveillance Department.\n",
       "        (v) Authorised Dealers should on a monthly basis diarise to pursue all outstanding import verifications with the importers concerned in writing (via registered mail or email) during the above-mentioned four month period. Should no response or an unsatisfactory response be received, the matter should at any time after the four month period has lapsed but not later than ten months from the original payment date, be reported to the Financial Surveillance Department. In this regard, a fully motivated application must be submitted providing details of the transaction(s) including the customer name, value date, transaction reference number, Rand amount, and the Customs client number (CCN) reported on the FinSurv Reporting System. The outstanding advance payment transaction may be discharged from the Import Verification System only after confirmation has been received from the Financial Surveillance Department.\n",
       "        (vi) Where the relative consignment has been lost or resold in the country of supply, Authorised Dealers are responsible for ensuring that the foreign currency proceeds of any insurance claim or of the sale of the goods are properly accounted for in terms of the provisions of Regulation 6. The Import Verification System must be updated accordingly.\n",
       "        (vii) Authorised Dealers should note that non-compliance with the above directives will be viewed in a serious light.\n",
       "        (viii) Digital copies of the documents must be retained for a period of five years by Authorised Dealers for inspection purposes. Authorised Dealers should also point out to their clients that original documents must be retained for a period of five years for inspection purposes., index: 8, relevance_score: 0.004886375>, RerankResult<document['text']: I.3 Borrowing abroad by residents\n",
       "    (B) Authority to Authorised Dealers\n",
       "        (ii) Reporting of loans\n",
       "            (a) To facilitate the correct and accurate reporting of inward foreign loans and foreign trade finance facilities, a web based Loan Reporting System can be accessed from the South African Reserve Bank website: www.resbank.co.za, by following the links: Financial Surveillance>Authorised Dealers>Loan Reporting System.\n",
       "            (b) All loans reported via the Loan Reporting System will be monitored by the Financial Surveillance Department and any inconsistencies will be queried with the specific Authorised Dealer concerned., index: 5, relevance_score: 0.0015307451>, RerankResult<document['text']: B.2 Capital transfers\n",
       "    (C) South African companies\n",
       "        (i) Foreign direct investments not exceeding R5 billion per applicant company\n",
       "            (a) Authorised Dealers may approve requests by mandated state-owned companies, as defined in Schedule 2 of the Public Finance Management Act, 1999 (Act No.1 of 1999) and companies wishing to make bona fide new outward foreign direct investments into companies, branches and offices outside the CMA, including requests that fall outside their current line of business, where the total cost of such investments does not exceed R5 billion per company per calendar year.\n",
       "            (b) Foreign currency denominated facilities may be extended by Authorised Dealers to South African companies for the financing of approved foreign direct investments. In instances where the South African parent company wishes to directly issue a foreign denominated guarantee to cover the borrowing facilities of its authorised foreign subsidiary abroad and not through an Authorised Dealer, the matter must be referred to the Financial Surveillance Department for consideration.\n",
       "            (c) When considering requests of this nature, Authorised Dealers must have the following documents and information in their possession:\n",
       "                (aa) the name and registration number of the applicant company;\n",
       "                (bb) the names, domicile and percentage equity interest of all the shareholders in the applicant company (this only applies to private companies and excludes public and listed companies);\n",
       "                (cc) the applicant company's latest available financial statements verifying, inter alia, the applicant's nature of business;\n",
       "                (dd) details of how the investment will be funded (e.g. cash to be transferred and reflected as share capital or shareholders loans, guarantees to be issued), as well as details of capital goods that need to be exported from South Africa;\n",
       "                (ee) the proposed structure through which the foreign target entity will be held (i.e. directly from South Africa or via an interposed or holding company); and\n",
       "                (ff) the name(s) of the offshore target company(ies) and a description of what type of business it will be involved in.\n",
       "            (d) The following criteria must be strictly applied by Authorised Dealers when considering these requests:\n",
       "                (aa) state owned companies may not use low-tax jurisdictions as a conduit for outward foreign direct investments elsewhere in the world. This restriction is not applicable where the investment is made directly into a low-tax jurisdiction;\n",
       "                (bb) for statistical purposes, at least 10 per cent of the foreign target entity's voting rights must be obtained;\n",
       "                (cc) passive real-estate investments focused on achieving long-term appreciation of asset values with limited day-to-day management of the asset itself are excluded from this dispensation; and\n",
       "                (dd) where Authorised Dealers are in doubt and the conditions outlined above are not met, such requests must be referred to the Financial Surveillance Department.\n",
       "            (e) At the time of approving the investment, Authorised Dealers must report the following information to the Financial Surveillance Department:\n",
       "                (aa) the name and registration number of the applicant company and its nature of business;\n",
       "                (bb) the names, domicile and percentage equity interest of all the shareholders in the applicant company (this only applies to private companies and excludes public and listed companies);\n",
       "                (cc) name and domicile of the foreign target entity and its nature of business, also specifying whether this is the establishment of a new or an investment into an existing foreign entity;\n",
       "                (dd) the percentage equity interest and voting rights acquired in the foreign target entity;\n",
       "                (ee) details of how the investment will be funded (e.g. cash to be transferred and reflected as share capital or shareholders loans, guarantees to be issued), as well as details of capital goods exported from South Africa, if applicable. Where cash is to be transferred from South Africa, the amount and transaction reference number must be reported to the Financial Surveillance Department;\n",
       "                (ff) where applicable, the registered name and domicile of any foreign domiciled holding company, established to hold the target investment; and\n",
       "                (gg) where a new investment is made without funds being transferred from South Africa, the proposed investment must still be approved in terms of (c)(aa) to (ff) above and reported in the same manner as outlined herein.\n",
       "            (f) Authorised Dealers must inform their clients of the following conditions that are applicable to these investments:\n",
       "                (aa) the financial statements of the foreign target entities and holding companies must be submitted to the Financial Surveillance Department on an annual basis;\n",
       "                (bb) the financial accounts of approved foreign branch operations and the income and expenditure statements of approved foreign offices must be submitted to the Financial Surveillance Department on an annual basis;\n",
       "                (cc) in the event of the foreign investment being disposed of to non-residents, the net sale proceeds must be repatriated to South Africa in terms of the provisions of Regulation 6, under advice to the Financial Surveillance Department. Foreign investments to be disposed of to third-party South African residents require the specific prior written approval of the Financial Surveillance Department;\n",
       "                (dd) expansion of the foreign target entity's business is permitted, provided that such expansion is financed within the R5 billion foreign direct investment dispensation or alternatively without recourse to South Africa;\n",
       "                (ee) corporates with authorised foreign assets may invest in South Africa, provided that where South African assets are acquired through an offshore structure (loop structure), the investment is reported to an Authorised Dealer as and when the transaction(s) is finalised as well as the submission of an annual progress report to the Financial Surveillance Department via an Authorised Dealer. The aforementioned party also has to view an independent auditor's written confirmation or suitable documentary evidence verifying that such transaction(s) is concluded on an arm's length basis, for a fair and market related price;\n",
       "                (ff) upon completion of the transaction in (ee) above the Authorised Dealer must submit a report to the Financial Surveillance Department which should, inter alia, include the name(s) of the South African affiliated foreign investor(s), a description of the assets to be acquired (including inward foreign loans, the acquisition of shares and the acquisition of property), the name of the South African target investment company, if applicable and the date of the acquisition as well as the actual foreign currency amount introduced including a transaction reference number;\n",
       "                (gg) in addition, all inward loans from South African affiliated foreign investors must comply with the directives issued in section I.3(B) of the Authorised Dealer Manual;\n",
       "                (hh) existing unauthorised loop structures (i.e. created by corporates prior to 2021-01-01) and/or unauthorised loop structures where the 40 per cent shareholding threshold was exceeded, must still be regularised with the Financial Surveillance Department;\n",
       "                (ii) applicants may increase their approved equity interest and/or voting rights in the foreign target entity subject to the provisions of (jj) below. For classification purposes, should the applicants reduce or dilute their equity interest and/or voting rights below 10 per cent such information must be reported to the Financial Surveillance Department; any change in the nature of the foreign target entity's business must be reported to the Financial Surveillance Department;\n",
       "                (jj) requests to transfer unutilised amounts and/or additional working capital to foreign target entities and/or increase an applicant's approved equity interest and/or voting rights in a foreign target entity may be approved by Authorised Dealers in subsequent years provided that:\n",
       "                    (1) the amount to be remitted will not result in the applicant exceeding the R5 billion foreign direct investment dispensation; and\n",
       "                    (2) full details of such transfers and the purpose thereof must be forwarded by the Authorised Dealer to the Financial Surveillance Department;\n",
       "                (kk) requests to transfer the normal monthly running expenses of existing buying and/or selling offices established by local merchants may be approved by the Authorised Dealers within the foreign direct investment limit of R5 billion. Where existing buying and/or selling offices levy a charge for their services in the form of commissions, foreign currency to cover this charge may be made available, provided that:\n",
       "                    (1) the client confirms that the rate of commission is normal in the particular trade concerned;\n",
       "                    (2) no other funds are being remitted from South Africa to cover the maintenance and expenses of the office; and\n",
       "                    (3) the office is run on a non-profit earning basis.(ll) approved foreign branches and offices of South African companies are exempted from the provisions of Regulation 6 in respect of foreign earned profits and income with effect from 2022-02-23 and such funds may be retained abroad, subject to annual reporting;\n",
       "                (mm) excess profits earned by approved foreign entities should be declared as dividends on an annual basis. However, such dividends may be retained offshore and be used for any purpose offshore. Similarly, any dividends that are repatriated to South Africa may be retransferred abroad at any time and used for any purpose provided that there is no recourse to South Africa, except as provided for in (nn) below;\n",
       "                (nn) all dividends declared by the approved foreign entities, the amounts repatriated to South Africa or alternatively the dividend amounts retained abroad, together with an indication of how such funds were utilised offshore, should be reported to the Financial Surveillance Department on an annual basis;\n",
       "                (oo) where guarantees from South Africa have been issued and such guarantees are implemented, payment in terms thereof may be effected, provided that full details of the circumstances giving rise thereto are reported to the Financial Surveillance Department immediately; and\n",
       "                (pp) South Africa must remain the place of effective management for the applicant company and under no circumstances may the applicants re-domicile without the specific prior written approval of the Financial Surveillances Department; and the Financial Surveillance Department reserves the right to instruct the applicant company to dispose of the foreign investment and for the proceeds to be repatriated to South Africa, in the event of the above-mentioned criteria and conditions not being complied with., index: 6, relevance_score: 0.001044386>, RerankResult<document['text']: B.16 Credit and/or debit cards\n",
       "    (A) Credit and/or debit cards authorised for use outside the CMA\n",
       "        (i) All credit and/or debit cards, including co-branded cards, issued by Authorised Dealers, as licensed by American Express, Diners Club, MasterCard or Visa may be utilised outside the CMA, subject to the provisions mentioned in subsections (D) and (E) below and provided that all outward transactions are reported in terms of the Reporting System., index: 2, relevance_score: 0.0003225072>, RerankResult<document['text']: B.1 Payment for imports\n",
       "    (B) Requisite documentation\n",
       "        (i) Authorised Dealers may only effect foreign currency payments for imports against the following documentation:\n",
       "            (a) commercial invoices issued by the supplier;\n",
       "            (b) any one of the transport documents as prescribed by the International Chamber of Commerce Uniform Customs and Practice for Documentary Credits (UCP 600) and its supplement for electronic presentation, the eUCP, evidencing transport of the relative goods to South Africa; or\n",
       "            (c) Freight Forwarders Certificate of Receipt or Freight Forwarders Certificate of Transport; and\n",
       "            (d) consignee's copy of the prescribed SARS Customs Declaration.\n",
       "        (ii) In lieu of the documents referred to in (i)(b) and (c) above, arrival notifications issued by shipping companies may be tendered.\n",
       "        (iii) Imports from Botswana may, however, be paid for against a commercial invoice issued by the supplier and the consignee's copy of the prescribed SARS Customs Declaration., index: 10, relevance_score: 0.0002959571>]"
      ]
     },
     "execution_count": 27,
     "metadata": {},
     "output_type": "execute_result"
    }
   ],
   "source": [
    "results"
   ]
  },
  {
   "cell_type": "code",
   "execution_count": null,
   "metadata": {},
   "outputs": [],
   "source": []
  }
 ],
 "metadata": {
  "kernelspec": {
   "display_name": "Python 3.10.4 ('env': venv)",
   "language": "python",
   "name": "python3"
  },
  "language_info": {
   "codemirror_mode": {
    "name": "ipython",
    "version": 3
   },
   "file_extension": ".py",
   "mimetype": "text/x-python",
   "name": "python",
   "nbconvert_exporter": "python",
   "pygments_lexer": "ipython3",
   "version": "3.10.4"
  },
  "orig_nbformat": 4,
  "vscode": {
   "interpreter": {
    "hash": "007219f1a1c0c3993c3211d5a541b1fa109902aadb48cb5499ee55023bf45452"
   }
  }
 },
 "nbformat": 4,
 "nbformat_minor": 2
}
